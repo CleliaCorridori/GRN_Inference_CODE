{
 "cells": [
  {
   "attachments": {},
   "cell_type": "markdown",
   "metadata": {},
   "source": [
    "# Inference of Gene Correlations using Pearson\n"
   ]
  },
  {
   "cell_type": "code",
   "execution_count": 1,
   "metadata": {},
   "outputs": [
    {
     "name": "stdout",
     "output_type": "stream",
     "text": [
      "Last run date: 2023-03-06\n"
     ]
    }
   ],
   "source": [
    "from datetime import date\n",
    "\n",
    "print(\"Last run date:\", date.today())"
   ]
  },
  {
   "cell_type": "code",
   "execution_count": 2,
   "metadata": {},
   "outputs": [],
   "source": [
    "import pandas as pd\n",
    "import numpy as np\n",
    "import matplotlib\n",
    "import matplotlib.pyplot as plt\n",
    "from scipy.stats import norm\n",
    "import seaborn as sns\n",
    "\n",
    "import sys\n",
    "sys.path.append('../')\n",
    "\n",
    "import lib.NetAnalysis as na\n",
    "import lib.fun_plotting as fun_plotting\n",
    "import lib.funcs_general as funcs_general\n",
    "import lib.funcs_IsingPars as funcs_Ising\n",
    "\n",
    "%load_ext autoreload\n",
    "%autoreload 2\n",
    "\n",
    "matplotlib.rc('font', **{'family': 'serif', 'serif': ['Computer Modern']})\n",
    "matplotlib.rc('text', usetex=True)"
   ]
  },
  {
   "cell_type": "markdown",
   "metadata": {},
   "source": [
    "# Initial information"
   ]
  },
  {
   "cell_type": "code",
   "execution_count": 3,
   "metadata": {},
   "outputs": [],
   "source": [
    "path      = \"/Users/cleliacorridori/Dropbox_2021 Dropbox/Jorah Mormont/GRN_Inference/GRN_Inference_CODE/\" \n",
    "path_data = \"/Users/cleliacorridori/Dropbox_2021 Dropbox/Jorah Mormont/GRN_Inference/DATA/\""
   ]
  },
  {
   "cell_type": "code",
   "execution_count": 4,
   "metadata": {},
   "outputs": [],
   "source": [
    "# genes of OUR dataset\n",
    "genes_order = np.loadtxt(path_data+\"general_info/genes_order.csv\", dtype=\"str\") #selected genes\n",
    "\n",
    "# time steps\n",
    "time=[\"00h\", \"06h\", \"12h\", \"24h\", \"48h\"]\n",
    "\n",
    "# Genes Classification\n",
    "naive = [\"Klf4\", \"Klf2\", \"Esrrb\", \"Tfcp2l1\", \"Tbx3\", \"Stat3\", \"Nanog\", \"Sox2\"]\n",
    "formative = [\"Nr0b1\", \"Zic3\", \"Rbpj\", \"Utf1\", \"Etv4\", \"Tcf15\"]\n",
    "committed = [\"Dnmt3a\", \"Dnmt3b\", \"Lef1\", \"Otx2\", \"Pou3f1\", \"Etv5\"]\n",
    "\n"
   ]
  },
  {
   "attachments": {},
   "cell_type": "markdown",
   "metadata": {},
   "source": [
    "# Raw data"
   ]
  },
  {
   "cell_type": "code",
   "execution_count": 32,
   "metadata": {},
   "outputs": [
    {
     "data": {
      "text/html": [
       "<div>\n",
       "<style scoped>\n",
       "    .dataframe tbody tr th:only-of-type {\n",
       "        vertical-align: middle;\n",
       "    }\n",
       "\n",
       "    .dataframe tbody tr th {\n",
       "        vertical-align: top;\n",
       "    }\n",
       "\n",
       "    .dataframe thead th {\n",
       "        text-align: right;\n",
       "    }\n",
       "</style>\n",
       "<table border=\"1\" class=\"dataframe\">\n",
       "  <thead>\n",
       "    <tr style=\"text-align: right;\">\n",
       "      <th></th>\n",
       "      <th>AAACCCAGTGACCGTC</th>\n",
       "      <th>AAACGAAAGCGCGTTC</th>\n",
       "      <th>AAACGAACAAGCACCC</th>\n",
       "      <th>AAACGAATCAAGTCGT</th>\n",
       "      <th>AAACGCTTCCGTGACG</th>\n",
       "      <th>AAAGAACGTCAGATTC</th>\n",
       "      <th>AAAGAACTCACTTGTT</th>\n",
       "      <th>AAAGGATCAAATCAAG</th>\n",
       "      <th>AAAGGATTCTGAACGT</th>\n",
       "      <th>AAAGGGCAGCAGGCAT</th>\n",
       "      <th>...</th>\n",
       "      <th>TTTGACTGTCAGCTTA</th>\n",
       "      <th>TTTGACTGTGTTATCG</th>\n",
       "      <th>TTTGACTTCGCCACTT</th>\n",
       "      <th>TTTGATCGTTCTCCAC</th>\n",
       "      <th>TTTGGTTAGAGAGCGG</th>\n",
       "      <th>TTTGGTTGTGATCATC</th>\n",
       "      <th>TTTGGTTTCACGGGCT</th>\n",
       "      <th>TTTGGTTTCCAACACA</th>\n",
       "      <th>TTTGTTGCATCGAAGG</th>\n",
       "      <th>TTTGTTGCATCTCATT</th>\n",
       "    </tr>\n",
       "  </thead>\n",
       "  <tbody>\n",
       "    <tr>\n",
       "      <th>Klf4</th>\n",
       "      <td>1</td>\n",
       "      <td>1</td>\n",
       "      <td>0</td>\n",
       "      <td>1</td>\n",
       "      <td>3</td>\n",
       "      <td>3</td>\n",
       "      <td>0</td>\n",
       "      <td>2</td>\n",
       "      <td>2</td>\n",
       "      <td>0</td>\n",
       "      <td>...</td>\n",
       "      <td>0</td>\n",
       "      <td>2</td>\n",
       "      <td>1</td>\n",
       "      <td>0</td>\n",
       "      <td>0</td>\n",
       "      <td>0</td>\n",
       "      <td>0</td>\n",
       "      <td>0</td>\n",
       "      <td>0</td>\n",
       "      <td>0</td>\n",
       "    </tr>\n",
       "    <tr>\n",
       "      <th>Klf2</th>\n",
       "      <td>1</td>\n",
       "      <td>0</td>\n",
       "      <td>1</td>\n",
       "      <td>2</td>\n",
       "      <td>0</td>\n",
       "      <td>2</td>\n",
       "      <td>6</td>\n",
       "      <td>6</td>\n",
       "      <td>1</td>\n",
       "      <td>2</td>\n",
       "      <td>...</td>\n",
       "      <td>0</td>\n",
       "      <td>3</td>\n",
       "      <td>1</td>\n",
       "      <td>0</td>\n",
       "      <td>0</td>\n",
       "      <td>0</td>\n",
       "      <td>3</td>\n",
       "      <td>0</td>\n",
       "      <td>0</td>\n",
       "      <td>2</td>\n",
       "    </tr>\n",
       "    <tr>\n",
       "      <th>Esrrb</th>\n",
       "      <td>0</td>\n",
       "      <td>1</td>\n",
       "      <td>0</td>\n",
       "      <td>2</td>\n",
       "      <td>1</td>\n",
       "      <td>0</td>\n",
       "      <td>0</td>\n",
       "      <td>2</td>\n",
       "      <td>0</td>\n",
       "      <td>0</td>\n",
       "      <td>...</td>\n",
       "      <td>0</td>\n",
       "      <td>1</td>\n",
       "      <td>0</td>\n",
       "      <td>0</td>\n",
       "      <td>0</td>\n",
       "      <td>0</td>\n",
       "      <td>1</td>\n",
       "      <td>1</td>\n",
       "      <td>0</td>\n",
       "      <td>0</td>\n",
       "    </tr>\n",
       "  </tbody>\n",
       "</table>\n",
       "<p>3 rows × 9894 columns</p>\n",
       "</div>"
      ],
      "text/plain": [
       "       AAACCCAGTGACCGTC  AAACGAAAGCGCGTTC  AAACGAACAAGCACCC  AAACGAATCAAGTCGT  \\\n",
       "Klf4                  1                 1                 0                 1   \n",
       "Klf2                  1                 0                 1                 2   \n",
       "Esrrb                 0                 1                 0                 2   \n",
       "\n",
       "       AAACGCTTCCGTGACG  AAAGAACGTCAGATTC  AAAGAACTCACTTGTT  AAAGGATCAAATCAAG  \\\n",
       "Klf4                  3                 3                 0                 2   \n",
       "Klf2                  0                 2                 6                 6   \n",
       "Esrrb                 1                 0                 0                 2   \n",
       "\n",
       "       AAAGGATTCTGAACGT  AAAGGGCAGCAGGCAT  ...  TTTGACTGTCAGCTTA  \\\n",
       "Klf4                  2                 0  ...                 0   \n",
       "Klf2                  1                 2  ...                 0   \n",
       "Esrrb                 0                 0  ...                 0   \n",
       "\n",
       "       TTTGACTGTGTTATCG  TTTGACTTCGCCACTT  TTTGATCGTTCTCCAC  TTTGGTTAGAGAGCGG  \\\n",
       "Klf4                  2                 1                 0                 0   \n",
       "Klf2                  3                 1                 0                 0   \n",
       "Esrrb                 1                 0                 0                 0   \n",
       "\n",
       "       TTTGGTTGTGATCATC  TTTGGTTTCACGGGCT  TTTGGTTTCCAACACA  TTTGTTGCATCGAAGG  \\\n",
       "Klf4                  0                 0                 0                 0   \n",
       "Klf2                  0                 3                 0                 0   \n",
       "Esrrb                 0                 1                 1                 0   \n",
       "\n",
       "       TTTGTTGCATCTCATT  \n",
       "Klf4                  0  \n",
       "Klf2                  2  \n",
       "Esrrb                 0  \n",
       "\n",
       "[3 rows x 9894 columns]"
      ]
     },
     "execution_count": 32,
     "metadata": {},
     "output_type": "execute_result"
    }
   ],
   "source": [
    "df_raw = pd.read_csv(path_data + \"GE_data/imp_genes_raw.csv\", header=0, index_col=0, sep=\",\")\n",
    "# time_sep = np.loadtxt(path+\"GE_data/time_sep.txt\", dtype=np.int32)\n",
    "df_raw.index.name = None\n",
    "\n",
    "df_raw = df_raw.reindex(genes_order)\n",
    "    \n",
    "df_raw.head(3)"
   ]
  },
  {
   "attachments": {},
   "cell_type": "markdown",
   "metadata": {},
   "source": [
    "# Norm Data"
   ]
  },
  {
   "cell_type": "code",
   "execution_count": 5,
   "metadata": {},
   "outputs": [
    {
     "data": {
      "text/html": [
       "<div>\n",
       "<style scoped>\n",
       "    .dataframe tbody tr th:only-of-type {\n",
       "        vertical-align: middle;\n",
       "    }\n",
       "\n",
       "    .dataframe tbody tr th {\n",
       "        vertical-align: top;\n",
       "    }\n",
       "\n",
       "    .dataframe thead th {\n",
       "        text-align: right;\n",
       "    }\n",
       "</style>\n",
       "<table border=\"1\" class=\"dataframe\">\n",
       "  <thead>\n",
       "    <tr style=\"text-align: right;\">\n",
       "      <th></th>\n",
       "      <th>AAACCCAGTGACCGTC</th>\n",
       "      <th>AAACGAAAGCGCGTTC</th>\n",
       "      <th>AAACGAACAAGCACCC</th>\n",
       "      <th>AAACGAATCAAGTCGT</th>\n",
       "      <th>AAACGCTTCCGTGACG</th>\n",
       "      <th>AAAGAACGTCAGATTC</th>\n",
       "      <th>AAAGAACTCACTTGTT</th>\n",
       "      <th>AAAGGATCAAATCAAG</th>\n",
       "      <th>AAAGGATTCTGAACGT</th>\n",
       "      <th>AAAGGGCAGCAGGCAT</th>\n",
       "      <th>...</th>\n",
       "      <th>TTTGACTGTCAGCTTA</th>\n",
       "      <th>TTTGACTGTGTTATCG</th>\n",
       "      <th>TTTGACTTCGCCACTT</th>\n",
       "      <th>TTTGATCGTTCTCCAC</th>\n",
       "      <th>TTTGGTTAGAGAGCGG</th>\n",
       "      <th>TTTGGTTGTGATCATC</th>\n",
       "      <th>TTTGGTTTCACGGGCT</th>\n",
       "      <th>TTTGGTTTCCAACACA</th>\n",
       "      <th>TTTGTTGCATCGAAGG</th>\n",
       "      <th>TTTGTTGCATCTCATT</th>\n",
       "    </tr>\n",
       "  </thead>\n",
       "  <tbody>\n",
       "    <tr>\n",
       "      <th>Klf4</th>\n",
       "      <td>1.485415</td>\n",
       "      <td>1.338896</td>\n",
       "      <td>0.000000</td>\n",
       "      <td>0.855192</td>\n",
       "      <td>2.511880</td>\n",
       "      <td>1.881212</td>\n",
       "      <td>0.000000</td>\n",
       "      <td>1.267982</td>\n",
       "      <td>1.684245</td>\n",
       "      <td>0.000000</td>\n",
       "      <td>...</td>\n",
       "      <td>0.0</td>\n",
       "      <td>1.592437</td>\n",
       "      <td>1.025867</td>\n",
       "      <td>0.0</td>\n",
       "      <td>0.0</td>\n",
       "      <td>0.0</td>\n",
       "      <td>0.000000</td>\n",
       "      <td>0.000000</td>\n",
       "      <td>0.0</td>\n",
       "      <td>0.000000</td>\n",
       "    </tr>\n",
       "    <tr>\n",
       "      <th>Klf2</th>\n",
       "      <td>1.485415</td>\n",
       "      <td>0.000000</td>\n",
       "      <td>1.338774</td>\n",
       "      <td>1.388465</td>\n",
       "      <td>0.000000</td>\n",
       "      <td>1.479866</td>\n",
       "      <td>2.463433</td>\n",
       "      <td>2.385357</td>\n",
       "      <td>1.075095</td>\n",
       "      <td>1.705082</td>\n",
       "      <td>...</td>\n",
       "      <td>0.0</td>\n",
       "      <td>2.008406</td>\n",
       "      <td>1.025867</td>\n",
       "      <td>0.0</td>\n",
       "      <td>0.0</td>\n",
       "      <td>0.0</td>\n",
       "      <td>2.182156</td>\n",
       "      <td>0.000000</td>\n",
       "      <td>0.0</td>\n",
       "      <td>1.578242</td>\n",
       "    </tr>\n",
       "    <tr>\n",
       "      <th>Esrrb</th>\n",
       "      <td>0.000000</td>\n",
       "      <td>1.338896</td>\n",
       "      <td>0.000000</td>\n",
       "      <td>1.388465</td>\n",
       "      <td>1.360576</td>\n",
       "      <td>0.000000</td>\n",
       "      <td>0.000000</td>\n",
       "      <td>1.267982</td>\n",
       "      <td>0.000000</td>\n",
       "      <td>0.000000</td>\n",
       "      <td>...</td>\n",
       "      <td>0.0</td>\n",
       "      <td>1.005610</td>\n",
       "      <td>0.000000</td>\n",
       "      <td>0.0</td>\n",
       "      <td>0.0</td>\n",
       "      <td>0.0</td>\n",
       "      <td>1.123956</td>\n",
       "      <td>0.952262</td>\n",
       "      <td>0.0</td>\n",
       "      <td>0.000000</td>\n",
       "    </tr>\n",
       "  </tbody>\n",
       "</table>\n",
       "<p>3 rows × 9894 columns</p>\n",
       "</div>"
      ],
      "text/plain": [
       "       AAACCCAGTGACCGTC  AAACGAAAGCGCGTTC  AAACGAACAAGCACCC  AAACGAATCAAGTCGT  \\\n",
       "Klf4           1.485415          1.338896          0.000000          0.855192   \n",
       "Klf2           1.485415          0.000000          1.338774          1.388465   \n",
       "Esrrb          0.000000          1.338896          0.000000          1.388465   \n",
       "\n",
       "       AAACGCTTCCGTGACG  AAAGAACGTCAGATTC  AAAGAACTCACTTGTT  AAAGGATCAAATCAAG  \\\n",
       "Klf4           2.511880          1.881212          0.000000          1.267982   \n",
       "Klf2           0.000000          1.479866          2.463433          2.385357   \n",
       "Esrrb          1.360576          0.000000          0.000000          1.267982   \n",
       "\n",
       "       AAAGGATTCTGAACGT  AAAGGGCAGCAGGCAT  ...  TTTGACTGTCAGCTTA  \\\n",
       "Klf4           1.684245          0.000000  ...               0.0   \n",
       "Klf2           1.075095          1.705082  ...               0.0   \n",
       "Esrrb          0.000000          0.000000  ...               0.0   \n",
       "\n",
       "       TTTGACTGTGTTATCG  TTTGACTTCGCCACTT  TTTGATCGTTCTCCAC  TTTGGTTAGAGAGCGG  \\\n",
       "Klf4           1.592437          1.025867               0.0               0.0   \n",
       "Klf2           2.008406          1.025867               0.0               0.0   \n",
       "Esrrb          1.005610          0.000000               0.0               0.0   \n",
       "\n",
       "       TTTGGTTGTGATCATC  TTTGGTTTCACGGGCT  TTTGGTTTCCAACACA  TTTGTTGCATCGAAGG  \\\n",
       "Klf4                0.0          0.000000          0.000000               0.0   \n",
       "Klf2                0.0          2.182156          0.000000               0.0   \n",
       "Esrrb               0.0          1.123956          0.952262               0.0   \n",
       "\n",
       "       TTTGTTGCATCTCATT  \n",
       "Klf4           0.000000  \n",
       "Klf2           1.578242  \n",
       "Esrrb          0.000000  \n",
       "\n",
       "[3 rows x 9894 columns]"
      ]
     },
     "execution_count": 5,
     "metadata": {},
     "output_type": "execute_result"
    }
   ],
   "source": [
    "# load the Gene Expression data Log Normalized: the columns are the cells and the rows are the genes\n",
    "df_lN = pd.read_csv(path_data + \"GE_data/imp_genes_logNorm.csv\", header=0, index_col=0, sep=\",\").reindex(genes_order)\n",
    "df_lN.index.name=None\n",
    "\n",
    "df_lN.head(3)\n",
    "\n",
    "# load the Gene Expression data Psi Normalized: the columns are the cells and the rows are the genes\n",
    "df_pN = pd.read_csv(path_data + \"GE_data/imp_genes_PsiNorm.csv\", header=0, index_col=0, sep=\",\").reindex(genes_order)\n",
    "df_pN.index.name = None\n",
    "\n",
    "df_pN.head(3)\n"
   ]
  },
  {
   "cell_type": "markdown",
   "metadata": {},
   "source": [
    "## Pseudotime"
   ]
  },
  {
   "cell_type": "code",
   "execution_count": 6,
   "metadata": {},
   "outputs": [
    {
     "data": {
      "text/html": [
       "<div>\n",
       "<style scoped>\n",
       "    .dataframe tbody tr th:only-of-type {\n",
       "        vertical-align: middle;\n",
       "    }\n",
       "\n",
       "    .dataframe tbody tr th {\n",
       "        vertical-align: top;\n",
       "    }\n",
       "\n",
       "    .dataframe thead th {\n",
       "        text-align: right;\n",
       "    }\n",
       "</style>\n",
       "<table border=\"1\" class=\"dataframe\">\n",
       "  <thead>\n",
       "    <tr style=\"text-align: right;\">\n",
       "      <th></th>\n",
       "      <th>TTCAGGAAGCAGTACG</th>\n",
       "      <th>GTAGATCAGTAGGTTA</th>\n",
       "      <th>CGAAGGACACGGGCTT</th>\n",
       "      <th>GTCGCGAGTCGTCTCT</th>\n",
       "      <th>CCTTCAGGTCCAGCGT</th>\n",
       "      <th>CTCCGATAGCATCCTA</th>\n",
       "      <th>CAACGATAGATGAACT</th>\n",
       "      <th>GTGTCCTAGAATTGCA</th>\n",
       "      <th>TGCGACGTCGTGTCAA</th>\n",
       "      <th>CTCAATTAGGCTAAAT</th>\n",
       "      <th>...</th>\n",
       "      <th>AACAAAGAGAGCGACT</th>\n",
       "      <th>TCATACTAGGTGTGAC</th>\n",
       "      <th>GCCATTCAGCCAGAGT</th>\n",
       "      <th>AACAGGGGTGCACGCT</th>\n",
       "      <th>GATCATGTCTGTAACG</th>\n",
       "      <th>GATTCGAAGATACAGT</th>\n",
       "      <th>GCCAGGTAGAAGAACG</th>\n",
       "      <th>CGTGCTTTCGACGTCG</th>\n",
       "      <th>AGGGTGACAATACGAA</th>\n",
       "      <th>CCACAAAAGCGTGAAC</th>\n",
       "    </tr>\n",
       "  </thead>\n",
       "  <tbody>\n",
       "    <tr>\n",
       "      <th>Klf4</th>\n",
       "      <td>0.000000</td>\n",
       "      <td>0.0</td>\n",
       "      <td>0.000000</td>\n",
       "      <td>0.0</td>\n",
       "      <td>2.534856</td>\n",
       "      <td>2.337277</td>\n",
       "      <td>0.0</td>\n",
       "      <td>0.0</td>\n",
       "      <td>0.000000</td>\n",
       "      <td>0.000000</td>\n",
       "      <td>...</td>\n",
       "      <td>0.000000</td>\n",
       "      <td>0.0</td>\n",
       "      <td>0.0</td>\n",
       "      <td>1.502543</td>\n",
       "      <td>0.0</td>\n",
       "      <td>0.000000</td>\n",
       "      <td>0.0</td>\n",
       "      <td>0.0</td>\n",
       "      <td>0.0</td>\n",
       "      <td>0.0</td>\n",
       "    </tr>\n",
       "    <tr>\n",
       "      <th>Klf2</th>\n",
       "      <td>1.705748</td>\n",
       "      <td>0.0</td>\n",
       "      <td>3.095388</td>\n",
       "      <td>0.0</td>\n",
       "      <td>1.377622</td>\n",
       "      <td>1.233372</td>\n",
       "      <td>0.0</td>\n",
       "      <td>0.0</td>\n",
       "      <td>2.131445</td>\n",
       "      <td>0.000000</td>\n",
       "      <td>...</td>\n",
       "      <td>1.308057</td>\n",
       "      <td>0.0</td>\n",
       "      <td>0.0</td>\n",
       "      <td>1.502543</td>\n",
       "      <td>0.0</td>\n",
       "      <td>1.389484</td>\n",
       "      <td>0.0</td>\n",
       "      <td>0.0</td>\n",
       "      <td>0.0</td>\n",
       "      <td>0.0</td>\n",
       "    </tr>\n",
       "    <tr>\n",
       "      <th>Esrrb</th>\n",
       "      <td>0.000000</td>\n",
       "      <td>0.0</td>\n",
       "      <td>0.000000</td>\n",
       "      <td>0.0</td>\n",
       "      <td>0.000000</td>\n",
       "      <td>1.233372</td>\n",
       "      <td>0.0</td>\n",
       "      <td>0.0</td>\n",
       "      <td>2.131445</td>\n",
       "      <td>1.116785</td>\n",
       "      <td>...</td>\n",
       "      <td>0.000000</td>\n",
       "      <td>0.0</td>\n",
       "      <td>0.0</td>\n",
       "      <td>0.000000</td>\n",
       "      <td>0.0</td>\n",
       "      <td>0.000000</td>\n",
       "      <td>0.0</td>\n",
       "      <td>0.0</td>\n",
       "      <td>0.0</td>\n",
       "      <td>0.0</td>\n",
       "    </tr>\n",
       "  </tbody>\n",
       "</table>\n",
       "<p>3 rows × 8273 columns</p>\n",
       "</div>"
      ],
      "text/plain": [
       "       TTCAGGAAGCAGTACG  GTAGATCAGTAGGTTA  CGAAGGACACGGGCTT  GTCGCGAGTCGTCTCT  \\\n",
       "Klf4           0.000000               0.0          0.000000               0.0   \n",
       "Klf2           1.705748               0.0          3.095388               0.0   \n",
       "Esrrb          0.000000               0.0          0.000000               0.0   \n",
       "\n",
       "       CCTTCAGGTCCAGCGT  CTCCGATAGCATCCTA  CAACGATAGATGAACT  GTGTCCTAGAATTGCA  \\\n",
       "Klf4           2.534856          2.337277               0.0               0.0   \n",
       "Klf2           1.377622          1.233372               0.0               0.0   \n",
       "Esrrb          0.000000          1.233372               0.0               0.0   \n",
       "\n",
       "       TGCGACGTCGTGTCAA  CTCAATTAGGCTAAAT  ...  AACAAAGAGAGCGACT  \\\n",
       "Klf4           0.000000          0.000000  ...          0.000000   \n",
       "Klf2           2.131445          0.000000  ...          1.308057   \n",
       "Esrrb          2.131445          1.116785  ...          0.000000   \n",
       "\n",
       "       TCATACTAGGTGTGAC  GCCATTCAGCCAGAGT  AACAGGGGTGCACGCT  GATCATGTCTGTAACG  \\\n",
       "Klf4                0.0               0.0          1.502543               0.0   \n",
       "Klf2                0.0               0.0          1.502543               0.0   \n",
       "Esrrb               0.0               0.0          0.000000               0.0   \n",
       "\n",
       "       GATTCGAAGATACAGT  GCCAGGTAGAAGAACG  CGTGCTTTCGACGTCG  AGGGTGACAATACGAA  \\\n",
       "Klf4           0.000000               0.0               0.0               0.0   \n",
       "Klf2           1.389484               0.0               0.0               0.0   \n",
       "Esrrb          0.000000               0.0               0.0               0.0   \n",
       "\n",
       "       CCACAAAAGCGTGAAC  \n",
       "Klf4                0.0  \n",
       "Klf2                0.0  \n",
       "Esrrb               0.0  \n",
       "\n",
       "[3 rows x 8273 columns]"
      ]
     },
     "execution_count": 6,
     "metadata": {},
     "output_type": "execute_result"
    }
   ],
   "source": [
    "# load the Gene Expression data log normalized: the columns are the cells and the rows are the genes\n",
    "df_lN_pst= pd.read_csv(path_data + \"GE_data/processed/imp_genes_LogNorm_PST.csv\", header=0, index_col=0, sep=\",\")\n",
    "\n",
    "\n",
    "# load the Gene Expression data Psi Normalized: the columns are the cells and the rows are the genes\n",
    "df_pN_pst= pd.read_csv(path_data + \"GE_data/processed/imp_genes_PsiNorm_PST.csv\", header=0, index_col=0, sep=\",\")\n",
    "\n",
    "df_pN_pst.head(3)"
   ]
  },
  {
   "cell_type": "markdown",
   "metadata": {},
   "source": [
    "## PST + MB"
   ]
  },
  {
   "cell_type": "code",
   "execution_count": 7,
   "metadata": {},
   "outputs": [],
   "source": [
    "# Window size for Mini-Bulk\n",
    "mb_wind = 150\n",
    "\n",
    "# Threshold for half max\n",
    "thr = 0.5 "
   ]
  },
  {
   "cell_type": "code",
   "execution_count": 8,
   "metadata": {},
   "outputs": [
    {
     "name": "stdout",
     "output_type": "stream",
     "text": [
      "LogNorm dims:  (24, 9547) \n",
      "PsiNorm dims:  (24, 8124)\n"
     ]
    }
   ],
   "source": [
    "# Mini-Bulk\n",
    "# load the Gene Expression data log normalized + Pseudo-Time: the columns are the cells and the rows are the genes\n",
    "df_lN_mb_pst = pd.read_csv(path_data + \"GE_data/processed/imp_genes_LogNorm_PST_MB.csv\", header=0, index_col=0, sep=\",\")\n",
    "\n",
    "# load the Gene Expression data Psi Normalized + Pseudo-Time: the columns are the cells and the rows are the genes\n",
    "df_pN_mb_pst = pd.read_csv(path_data + \"GE_data/processed/imp_genes_PsiNorm_PST_MB.csv\", header=0, index_col=0, sep=\",\")\n",
    "\n",
    "\n",
    "print(\"LogNorm dims: \", df_lN_mb_pst.shape, \"\\nPsiNorm dims: \", df_pN_mb_pst.shape)"
   ]
  },
  {
   "attachments": {},
   "cell_type": "markdown",
   "metadata": {},
   "source": [
    "# Binarization (Half-max)"
   ]
  },
  {
   "cell_type": "code",
   "execution_count": 9,
   "metadata": {},
   "outputs": [
    {
     "data": {
      "image/png": "[encoded data removed]",
      "text/plain": [
       "<Figure size 1440x360 with 1 Axes>"
      ]
     },
     "metadata": {
      "needs_background": "light"
     },
     "output_type": "display_data"
    },
    {
     "data": {
      "image/png": "[encoded data removed]",
      "text/plain": [
       "<Figure size 1440x360 with 1 Axes>"
      ]
     },
     "metadata": {
      "needs_background": "light"
     },
     "output_type": "display_data"
    }
   ],
   "source": [
    "spins_df_lN_mb_pst = pd.read_csv(path_data + \"GE_data/processed/imp_genes_LogNorm_PST_MB_Spins.csv\", header=0, index_col=0, sep=\",\")\n",
    "\n",
    "fun_plotting.raster_plot(np.array(spins_df_lN_mb_pst), 'Discretization of LogNorm data with Pseudotime Order', 1, genes_order[::-1])\n",
    "plt.show()\n",
    "\n",
    "\n",
    "spins_df_pN_mb_pst = pd.read_csv(path_data + \"GE_data/processed/imp_genes_PsiNorm_PST_MB_Spins.csv\", header=0, index_col=0, sep=\",\")\n",
    "\n",
    "fun_plotting.raster_plot(np.array(spins_df_pN_mb_pst), 'Discretization of PsiNorm data with Pseudotime Order', 1, genes_order[::-1])\n",
    "plt.show()\n",
    "\n"
   ]
  },
  {
   "cell_type": "markdown",
   "metadata": {},
   "source": [
    "# Randomization"
   ]
  },
  {
   "cell_type": "code",
   "execution_count": 10,
   "metadata": {},
   "outputs": [],
   "source": [
    "spins_df_lN_mb_pst_shuffle = np.load(path_data + \"GE_data/processed/imp_genes_LogNorm_PST_MB_Spins_RND50Test.npy\")\n",
    "spins_df_pN_mb_pst_shuffle = np.load(path_data + \"GE_data/processed/imp_genes_PsiNorm_PST_MB_Spins_RND50Test.npy\")\n",
    " \n",
    "Ntest = spins_df_lN_mb_pst_shuffle.shape[0] \n",
    "\n",
    "\n"
   ]
  },
  {
   "cell_type": "code",
   "execution_count": 11,
   "metadata": {},
   "outputs": [
    {
     "name": "stdout",
     "output_type": "stream",
     "text": [
      "0.0\n",
      "0.0\n"
     ]
    }
   ],
   "source": [
    "check=True\n",
    "if check:\n",
    "    # Check the reshuffle\n",
    "    print(funcs_general.check_shuffle(spins_df_lN_mb_pst_shuffle, Ntest))\n",
    "    print(funcs_general.check_shuffle(spins_df_pN_mb_pst_shuffle, Ntest))\n",
    "    \n",
    "    # zero expected if everithing is working fine"
   ]
  },
  {
   "cell_type": "code",
   "execution_count": 12,
   "metadata": {
    "scrolled": true
   },
   "outputs": [],
   "source": [
    "show = False\n",
    "if show:\n",
    "    for ii in range(0, Ntest, 60):\n",
    "            fun_plotting.raster_plot(np.array(spins_df_lN_mb_pst_shuffle[ii,:,:]), 'Discretization of LogNorm data with PST - RND '+str(ii+1), 1, genes_order[::-1])\n",
    "            plt.show()    \n",
    "            fun_plotting.raster_plot(np.array(spins_df_pN_mb_pst_shuffle[ii,:,:]), 'Discretization of PsiNorm data with PST - RND '+str(ii+1), 1, genes_order[::-1])\n",
    "            plt.show() \n",
    "            "
   ]
  },
  {
   "attachments": {},
   "cell_type": "markdown",
   "metadata": {},
   "source": [
    "# Known Experimentally"
   ]
  },
  {
   "cell_type": "markdown",
   "metadata": {},
   "source": [
    "## Neighbours interactions"
   ]
  },
  {
   "cell_type": "code",
   "execution_count": 13,
   "metadata": {},
   "outputs": [],
   "source": [
    "TPtrial_list = [\"Stat3 Klf4 1\", \"Nanog Esrrb 1\", \"Stat3 Dnmt3b -1\", \n",
    "                \"Nanog Otx2 -1\", \"Nanog Pou3f1 -1\",\n",
    "                \"Stat3 Gbx2 1\", \"Stat3 Tfcp2l1 1\", \n",
    "                \"Otx2 Pou3f1 1\", \"Otx2 Dnmt3a 1\", \n",
    "                \"Tcf7l1 Esrrb -1\", \"Tcf7l1 Klf2 -1\", \"Tcf7l1 Nanog -1\", \"Tcf7l1 Nr0b1 -1\",  \"Tcf7l1 Tfcp2l1 -1\",  \n",
    "                \"Rbpj Nanog -1\", \"Rbpj Tbx3 -1\", \"Etv5 Lef1 1\", \"Etv5 Pou3f1 1\"]\n"
   ]
  },
  {
   "cell_type": "markdown",
   "metadata": {},
   "source": [
    "## Directed Correlations"
   ]
  },
  {
   "cell_type": "code",
   "execution_count": 14,
   "metadata": {},
   "outputs": [],
   "source": [
    "df_KO_N24_Leeb_cl = pd.read_csv(path_data+'Leeb_Data_Orig/df_KO_N24_cleaned.csv', index_col=0, header=0)"
   ]
  },
  {
   "cell_type": "code",
   "execution_count": 15,
   "metadata": {},
   "outputs": [
    {
     "data": {
      "image/png": "[encoded data removed]",
      "text/plain": [
       "<Figure size 504x648 with 1 Axes>"
      ]
     },
     "metadata": {
      "needs_background": "light"
     },
     "output_type": "display_data"
    }
   ],
   "source": [
    "correlations_list = funcs_general.InteractionList(df_KO_N24_Leeb_cl, perc = 0.3)\n",
    "\n",
    "fun_plotting.plot_log2FC(df_KO_N24_Leeb_cl, \"LofFC (N24 Leeb)\")"
   ]
  },
  {
   "attachments": {},
   "cell_type": "markdown",
   "metadata": {},
   "source": [
    "# Bulk Data"
   ]
  },
  {
   "cell_type": "code",
   "execution_count": 19,
   "metadata": {},
   "outputs": [
    {
     "data": {
      "text/plain": [
       "'/Users/cleliacorridori/Dropbox_2021 Dropbox/Jorah Mormont/GRN_Inference/DATA/input_data/geni_IMP.xlsx'"
      ]
     },
     "execution_count": 19,
     "metadata": {},
     "output_type": "execute_result"
    }
   ],
   "source": [
    "path_data+\"input_data/geni_IMP.xlsx\""
   ]
  },
  {
   "cell_type": "code",
   "execution_count": 24,
   "metadata": {},
   "outputs": [
    {
     "data": {
      "text/html": [
       "<div>\n",
       "<style scoped>\n",
       "    .dataframe tbody tr th:only-of-type {\n",
       "        vertical-align: middle;\n",
       "    }\n",
       "\n",
       "    .dataframe tbody tr th {\n",
       "        vertical-align: top;\n",
       "    }\n",
       "\n",
       "    .dataframe thead th {\n",
       "        text-align: right;\n",
       "    }\n",
       "</style>\n",
       "<table border=\"1\" class=\"dataframe\">\n",
       "  <thead>\n",
       "    <tr style=\"text-align: right;\">\n",
       "      <th></th>\n",
       "      <th>GM_2iL_2</th>\n",
       "      <th>GM_2iL_1</th>\n",
       "      <th>GM_24h_2iL_2</th>\n",
       "      <th>GM_24h_2iL_1</th>\n",
       "      <th>GM_36h_2iL_2</th>\n",
       "      <th>GM_36h_2iL_1</th>\n",
       "      <th>GM_48h_2iL_2</th>\n",
       "      <th>GM_48h_2iL_1</th>\n",
       "      <th>GM_60h_2iL_2</th>\n",
       "      <th>GM_60h_2iL_1</th>\n",
       "      <th>...</th>\n",
       "      <th>GM_36h_2i_1</th>\n",
       "      <th>GM_36h_2i_2</th>\n",
       "      <th>GM_48h_2i_1</th>\n",
       "      <th>GM_48h_2i_2</th>\n",
       "      <th>GM_60h_2i_1</th>\n",
       "      <th>GM_60h_2i_2</th>\n",
       "      <th>GM_72h_2i_1</th>\n",
       "      <th>GM_72h_2i_2</th>\n",
       "      <th>GM_84h_2i_1</th>\n",
       "      <th>GM_84h_2i_2</th>\n",
       "    </tr>\n",
       "  </thead>\n",
       "  <tbody>\n",
       "    <tr>\n",
       "      <th>Klf4</th>\n",
       "      <td>721.246075</td>\n",
       "      <td>790.448527</td>\n",
       "      <td>362.034812</td>\n",
       "      <td>507.580169</td>\n",
       "      <td>338.426474</td>\n",
       "      <td>275.595044</td>\n",
       "      <td>109.118435</td>\n",
       "      <td>141.201368</td>\n",
       "      <td>31.593545</td>\n",
       "      <td>46.465603</td>\n",
       "      <td>...</td>\n",
       "      <td>15.825195</td>\n",
       "      <td>7.814844</td>\n",
       "      <td>19.079327</td>\n",
       "      <td>14.208553</td>\n",
       "      <td>38.803582</td>\n",
       "      <td>25.553683</td>\n",
       "      <td>17.314668</td>\n",
       "      <td>14.76264</td>\n",
       "      <td>31.121266</td>\n",
       "      <td>16.477378</td>\n",
       "    </tr>\n",
       "    <tr>\n",
       "      <th>Klf2</th>\n",
       "      <td>300.890974</td>\n",
       "      <td>288.413501</td>\n",
       "      <td>124.602767</td>\n",
       "      <td>102.125740</td>\n",
       "      <td>87.270395</td>\n",
       "      <td>86.229124</td>\n",
       "      <td>51.552016</td>\n",
       "      <td>27.900029</td>\n",
       "      <td>31.593545</td>\n",
       "      <td>34.418965</td>\n",
       "      <td>...</td>\n",
       "      <td>25.056559</td>\n",
       "      <td>32.040862</td>\n",
       "      <td>42.928486</td>\n",
       "      <td>27.909658</td>\n",
       "      <td>39.896640</td>\n",
       "      <td>34.467758</td>\n",
       "      <td>16.527638</td>\n",
       "      <td>14.76264</td>\n",
       "      <td>13.103691</td>\n",
       "      <td>5.703708</td>\n",
       "    </tr>\n",
       "    <tr>\n",
       "      <th>Esrrb</th>\n",
       "      <td>179.939742</td>\n",
       "      <td>201.400614</td>\n",
       "      <td>103.999160</td>\n",
       "      <td>83.834562</td>\n",
       "      <td>47.694286</td>\n",
       "      <td>52.413781</td>\n",
       "      <td>24.916808</td>\n",
       "      <td>11.228061</td>\n",
       "      <td>6.651273</td>\n",
       "      <td>6.453556</td>\n",
       "      <td>...</td>\n",
       "      <td>3.956299</td>\n",
       "      <td>3.125938</td>\n",
       "      <td>4.769832</td>\n",
       "      <td>1.522345</td>\n",
       "      <td>2.186117</td>\n",
       "      <td>4.159902</td>\n",
       "      <td>3.148121</td>\n",
       "      <td>1.84533</td>\n",
       "      <td>1.637961</td>\n",
       "      <td>3.168726</td>\n",
       "    </tr>\n",
       "    <tr>\n",
       "      <th>Tfcp2l1</th>\n",
       "      <td>797.584148</td>\n",
       "      <td>796.803401</td>\n",
       "      <td>135.395133</td>\n",
       "      <td>111.271328</td>\n",
       "      <td>69.511885</td>\n",
       "      <td>70.166836</td>\n",
       "      <td>22.339207</td>\n",
       "      <td>18.713434</td>\n",
       "      <td>6.097000</td>\n",
       "      <td>6.453556</td>\n",
       "      <td>...</td>\n",
       "      <td>7.912597</td>\n",
       "      <td>5.470391</td>\n",
       "      <td>6.359776</td>\n",
       "      <td>6.089380</td>\n",
       "      <td>7.104881</td>\n",
       "      <td>7.725532</td>\n",
       "      <td>4.722182</td>\n",
       "      <td>9.22665</td>\n",
       "      <td>12.284710</td>\n",
       "      <td>8.238689</td>\n",
       "    </tr>\n",
       "  </tbody>\n",
       "</table>\n",
       "<p>4 rows × 32 columns</p>\n",
       "</div>"
      ],
      "text/plain": [
       "           GM_2iL_2    GM_2iL_1  GM_24h_2iL_2  GM_24h_2iL_1  GM_36h_2iL_2  \\\n",
       "Klf4     721.246075  790.448527    362.034812    507.580169    338.426474   \n",
       "Klf2     300.890974  288.413501    124.602767    102.125740     87.270395   \n",
       "Esrrb    179.939742  201.400614    103.999160     83.834562     47.694286   \n",
       "Tfcp2l1  797.584148  796.803401    135.395133    111.271328     69.511885   \n",
       "\n",
       "         GM_36h_2iL_1  GM_48h_2iL_2  GM_48h_2iL_1  GM_60h_2iL_2  GM_60h_2iL_1  \\\n",
       "Klf4       275.595044    109.118435    141.201368     31.593545     46.465603   \n",
       "Klf2        86.229124     51.552016     27.900029     31.593545     34.418965   \n",
       "Esrrb       52.413781     24.916808     11.228061      6.651273      6.453556   \n",
       "Tfcp2l1     70.166836     22.339207     18.713434      6.097000      6.453556   \n",
       "\n",
       "         ...  GM_36h_2i_1  GM_36h_2i_2  GM_48h_2i_1  GM_48h_2i_2  GM_60h_2i_1  \\\n",
       "Klf4     ...    15.825195     7.814844    19.079327    14.208553    38.803582   \n",
       "Klf2     ...    25.056559    32.040862    42.928486    27.909658    39.896640   \n",
       "Esrrb    ...     3.956299     3.125938     4.769832     1.522345     2.186117   \n",
       "Tfcp2l1  ...     7.912597     5.470391     6.359776     6.089380     7.104881   \n",
       "\n",
       "         GM_60h_2i_2  GM_72h_2i_1  GM_72h_2i_2  GM_84h_2i_1  GM_84h_2i_2  \n",
       "Klf4       25.553683    17.314668     14.76264    31.121266    16.477378  \n",
       "Klf2       34.467758    16.527638     14.76264    13.103691     5.703708  \n",
       "Esrrb       4.159902     3.148121      1.84533     1.637961     3.168726  \n",
       "Tfcp2l1     7.725532     4.722182      9.22665    12.284710     8.238689  \n",
       "\n",
       "[4 rows x 32 columns]"
      ]
     },
     "execution_count": 24,
     "metadata": {},
     "output_type": "execute_result"
    }
   ],
   "source": [
    "imp_genes = np.loadtxt(path_data+\"general_info/imp_genes.csv\", dtype=\"str\")\n",
    "\n",
    "file_name = path_data+\"input_data/geni_IMP.xlsx\"\n",
    "df_bulk_all = pd.read_excel(file_name).set_index(imp_genes).reindex(genes_order)\n",
    "\n",
    "df_bulk = df_bulk_all.iloc[:,2: ]\n",
    "df_bulk.head(4)\n",
    "\n",
    "# df2iL = df.iloc[:,2:18]\n",
    "# df2i = df.iloc[:,18:]\n",
    "# ntime=np.array([0, 0, 24, 24, 36, 36, 48, 48, 60, 60, 72, 72, 84, 84, 96, 96])\n",
    "\n"
   ]
  },
  {
   "attachments": {},
   "cell_type": "markdown",
   "metadata": {},
   "source": [
    "# Correlation Matrices"
   ]
  },
  {
   "cell_type": "code",
   "execution_count": 26,
   "metadata": {},
   "outputs": [
    {
     "ename": "NameError",
     "evalue": "name 'df_raw' is not defined",
     "output_type": "error",
     "traceback": [
      "\u001b[0;31m---------------------------------------------------------------------------\u001b[0m",
      "\u001b[0;31mNameError\u001b[0m                                 Traceback (most recent call last)",
      "\u001b[0;32m/var/folders/2z/hsgwjl3d49109llzgvkyf6jw0000gn/T/ipykernel_24571/1886005223.py\u001b[0m in \u001b[0;36m<module>\u001b[0;34m\u001b[0m\n\u001b[1;32m      4\u001b[0m \u001b[0;34m\u001b[0m\u001b[0m\n\u001b[1;32m      5\u001b[0m \u001b[0;31m# raw\u001b[0m\u001b[0;34m\u001b[0m\u001b[0;34m\u001b[0m\u001b[0m\n\u001b[0;32m----> 6\u001b[0;31m \u001b[0mcm_raw\u001b[0m \u001b[0;34m=\u001b[0m \u001b[0mnp\u001b[0m\u001b[0;34m.\u001b[0m\u001b[0mcorrcoef\u001b[0m\u001b[0;34m(\u001b[0m\u001b[0mdf_raw\u001b[0m\u001b[0;34m)\u001b[0m\u001b[0;34m\u001b[0m\u001b[0;34m\u001b[0m\u001b[0m\n\u001b[0m\u001b[1;32m      7\u001b[0m \u001b[0mnp\u001b[0m\u001b[0;34m.\u001b[0m\u001b[0mfill_diagonal\u001b[0m\u001b[0;34m(\u001b[0m\u001b[0mcm_raw\u001b[0m\u001b[0;34m,\u001b[0m \u001b[0mfloat\u001b[0m\u001b[0;34m(\u001b[0m\u001b[0;34m\"Nan\"\u001b[0m\u001b[0;34m)\u001b[0m\u001b[0;34m)\u001b[0m\u001b[0;34m\u001b[0m\u001b[0;34m\u001b[0m\u001b[0m\n\u001b[1;32m      8\u001b[0m \u001b[0;34m\u001b[0m\u001b[0m\n",
      "\u001b[0;31mNameError\u001b[0m: name 'df_raw' is not defined"
     ]
    }
   ],
   "source": [
    "# bulk\n",
    "cm_bulk = np.corrcoef(df_bulk)\n",
    "np.fill_diagonal(cm_bulk, float(\"Nan\")) \n",
    "\n",
    "# raw\n",
    "cm_raw = np.corrcoef(df_raw)\n",
    "np.fill_diagonal(cm_raw, float(\"Nan\")) \n",
    "\n",
    "# logNorm\n",
    "cm_lN = np.corrcoef(df_lN)\n",
    "np.fill_diagonal(cm_lN, float(\"Nan\")) \n",
    "\n",
    "# psiNorm\n",
    "cm_pN = np.corrcoef(df_pN)\n",
    "np.fill_diagonal(cm_pN, float(\"Nan\")) \n",
    "\n",
    "# mini-bulk on raw\n",
    "cm_raw_mb = np.corrcoef(df_raw_mb)\n",
    "np.fill_diagonal(cm_raw_mb, float(\"Nan\")) \n",
    "\n",
    "# mini-bulk on logNorm\n",
    "cm_lN_mb = np.corrcoef(df_lN_mb)\n",
    "np.fill_diagonal(cm_lN_mb, float(\"Nan\")) \n",
    "\n",
    "# mini-bulk on psiNorm\n",
    "cm_pN_mb = np.corrcoef(df_pN_mb)\n",
    "np.fill_diagonal(cm_pN_mb, float(\"Nan\")) \n",
    "\n",
    "# mini-bulk WITH PST on LogNorm\n",
    "cm_lN_mb_pst = np.corrcoef(df_lN_mb_pst)\n",
    "np.fill_diagonal(cm_lN_mb_pst, float(\"Nan\")) \n",
    "\n",
    "# mini-bulk WITH PST on PsiNorm\n",
    "cm_pN_mb_pst = np.corrcoef(df_pN_mb_pst)\n",
    "np.fill_diagonal(cm_pN_mb_pst, float(\"Nan\")) \n"
   ]
  },
  {
   "cell_type": "code",
   "execution_count": null,
   "metadata": {},
   "outputs": [],
   "source": []
  },
  {
   "cell_type": "code",
   "execution_count": null,
   "metadata": {},
   "outputs": [],
   "source": []
  },
  {
   "cell_type": "code",
   "execution_count": null,
   "metadata": {},
   "outputs": [],
   "source": []
  }
 ],
 "metadata": {
  "kernelspec": {
   "display_name": "Python 3 (ipykernel)",
   "language": "python",
   "name": "python3"
  },
  "language_info": {
   "codemirror_mode": {
    "name": "ipython",
    "version": 3
   },
   "file_extension": ".py",
   "mimetype": "text/x-python",
   "name": "python",
   "nbconvert_exporter": "python",
   "pygments_lexer": "ipython3",
   "version": "3.9.7"
  },
  "latex_envs": {
   "LaTeX_envs_menu_present": true,
   "autoclose": true,
   "autocomplete": true,
   "bibliofile": "biblio.bib",
   "cite_by": "apalike",
   "current_citInitial": 1,
   "eqLabelWithNumbers": true,
   "eqNumInitial": 1,
   "hotkeys": {
    "equation": "Ctrl-E",
    "itemize": "Ctrl-I"
   },
   "labels_anchors": false,
   "latex_user_defs": false,
   "report_style_numbering": false,
   "user_envs_cfg": false
  },
  "toc": {
   "base_numbering": 1,
   "nav_menu": {},
   "number_sections": true,
   "sideBar": true,
   "skip_h1_title": false,
   "title_cell": "Table of Contents",
   "title_sidebar": "Contents",
   "toc_cell": false,
   "toc_position": {
    "height": "calc(100% - 180px)",
    "left": "10px",
    "top": "150px",
    "width": "223.949px"
   },
   "toc_section_display": true,
   "toc_window_display": true
  }
 },
 "nbformat": 4,
 "nbformat_minor": 4
}
