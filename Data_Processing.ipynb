{
 "cells": [
  {
   "attachments": {},
   "cell_type": "markdown",
   "metadata": {},
   "source": [
    "Inference of Gene Regulatory Network using Kinetic Ising Model\n"
   ]
  },
  {
   "cell_type": "code",
   "execution_count": 1,
   "metadata": {},
   "outputs": [
    {
     "name": "stdout",
     "output_type": "stream",
     "text": [
      "Last run date: 2023-03-15\n"
     ]
    }
   ],
   "source": [
    "from datetime import date\n",
    "\n",
    "print(\"Last run date:\", date.today())"
   ]
  },
  {
   "cell_type": "code",
   "execution_count": 2,
   "metadata": {},
   "outputs": [],
   "source": [
    "import pandas as pd\n",
    "import numpy as np\n",
    "import matplotlib\n",
    "import matplotlib.pyplot as plt\n",
    "from scipy import stats\n",
    "from scipy.stats import norm\n",
    "import seaborn as sns\n",
    "import networkx as nx\n",
    "from sklearn.preprocessing import MinMaxScaler\n",
    "\n",
    "import os\n",
    "import sys\n",
    "sys.path.append('../')\n",
    "\n",
    "import lib.NetAnalysis as na\n",
    "# from lib.import_funcs import *\n",
    "import lib.fun_plotting as fun_plotting\n",
    "from lib.ml_wrapper import asynch_reconstruction\n",
    "import lib.figs_funcs as figfunc\n",
    "import lib.funcs_raster as funcs_raster\n",
    "import lib.funcs_general as funcs_general\n",
    "import lib.minibulk_funcs as mb\n",
    "\n",
    "\n",
    "%load_ext autoreload\n",
    "%autoreload 2\n",
    "\n",
    "matplotlib.rc('font', **{'family': 'serif', 'serif': ['Computer Modern']})\n",
    "matplotlib.rc('text', usetex=True)"
   ]
  },
  {
   "cell_type": "markdown",
   "metadata": {},
   "source": [
    "# Initial information"
   ]
  },
  {
   "cell_type": "code",
   "execution_count": 3,
   "metadata": {},
   "outputs": [],
   "source": [
    "path      = \"/Users/cleliacorridori/Dropbox_2021 Dropbox/Jorah Mormont/GRN_Inference/GRN_Inference_CODE/\" \n",
    "path_data = \"/Users/cleliacorridori/Dropbox_2021 Dropbox/Jorah Mormont/GRN_Inference/DATA/\""
   ]
  },
  {
   "cell_type": "code",
   "execution_count": 4,
   "metadata": {},
   "outputs": [],
   "source": [
    "# genes of OUR dataset\n",
    "genes_order = np.loadtxt(path_data+\"general_info/genes_order.csv\", dtype=\"str\") #selected genes\n",
    "\n",
    "# time steps\n",
    "time=[\"00h\", \"06h\", \"12h\", \"24h\", \"48h\"]\n",
    "\n",
    "# Genes Classification\n",
    "naive = [\"Klf4\", \"Klf2\", \"Esrrb\", \"Tfcp2l1\", \"Tbx3\", \"Stat3\", \"Nanog\", \"Sox2\"]\n",
    "formative = [\"Nr0b1\", \"Zic3\", \"Rbpj\", \"Utf1\", \"Etv4\", \"Tcf15\"]\n",
    "committed = [\"Dnmt3a\", \"Dnmt3b\", \"Lef1\", \"Otx2\", \"Pou3f1\", \"Etv5\"]\n",
    "\n"
   ]
  },
  {
   "attachments": {},
   "cell_type": "markdown",
   "metadata": {},
   "source": [
    "# Raw Data"
   ]
  },
  {
   "cell_type": "code",
   "execution_count": 5,
   "metadata": {},
   "outputs": [],
   "source": [
    "df_raw = pd.read_csv(path_data + \"GE_data/imp_genes_raw.csv\", header=0, index_col=0, sep=\",\").reindex(genes_order)\n",
    "# time_sep = np.loadtxt(path+\"GE_data/time_sep.txt\", dtype=np.int32)\n",
    "df_raw.index.name = None"
   ]
  },
  {
   "cell_type": "code",
   "execution_count": 6,
   "metadata": {},
   "outputs": [
    {
     "data": {
      "text/html": [
       "<div>\n",
       "<style scoped>\n",
       "    .dataframe tbody tr th:only-of-type {\n",
       "        vertical-align: middle;\n",
       "    }\n",
       "\n",
       "    .dataframe tbody tr th {\n",
       "        vertical-align: top;\n",
       "    }\n",
       "\n",
       "    .dataframe thead th {\n",
       "        text-align: right;\n",
       "    }\n",
       "</style>\n",
       "<table border=\"1\" class=\"dataframe\">\n",
       "  <thead>\n",
       "    <tr style=\"text-align: right;\">\n",
       "      <th>barcodes</th>\n",
       "      <th>GGCGTCAGTCAACGCC</th>\n",
       "      <th>CTCATGCGTCAGGTAG</th>\n",
       "      <th>CTGCCATAGACCGCCT</th>\n",
       "      <th>AGCCAATCAAATCAGA</th>\n",
       "      <th>CGGGTCATCTGGAGAG</th>\n",
       "      <th>TCATTTGTCATCGGGC</th>\n",
       "      <th>AGCATCAAGTACTGGG</th>\n",
       "      <th>ATTCAGGTCGGTTAGT</th>\n",
       "      <th>TCGATTTTCAATCCGA</th>\n",
       "      <th>TATCCTACATAGGTTC</th>\n",
       "      <th>...</th>\n",
       "      <th>TTTGACTTCGCCACTT</th>\n",
       "      <th>GCCATTCTCATTCACT</th>\n",
       "      <th>GAAACCTGTTGTGCCG</th>\n",
       "      <th>CAACCAAAGCCTCACG</th>\n",
       "      <th>TCCTCTTTCGTCCATC</th>\n",
       "      <th>CTAACCCCACAATGCT</th>\n",
       "      <th>CCACACTCACACCAGC</th>\n",
       "      <th>CACGTTCAGCCGAACA</th>\n",
       "      <th>TGATTCTTCCGTTTCG</th>\n",
       "      <th>CTTGATTCACCATTCC</th>\n",
       "    </tr>\n",
       "  </thead>\n",
       "  <tbody>\n",
       "    <tr>\n",
       "      <th>Klf4</th>\n",
       "      <td>1.340000</td>\n",
       "      <td>1.340000</td>\n",
       "      <td>1.353333</td>\n",
       "      <td>1.353333</td>\n",
       "      <td>1.366667</td>\n",
       "      <td>1.406667</td>\n",
       "      <td>1.426667</td>\n",
       "      <td>1.426667</td>\n",
       "      <td>1.426667</td>\n",
       "      <td>1.413333</td>\n",
       "      <td>...</td>\n",
       "      <td>0.200000</td>\n",
       "      <td>0.200000</td>\n",
       "      <td>0.200000</td>\n",
       "      <td>0.200000</td>\n",
       "      <td>0.200000</td>\n",
       "      <td>0.200000</td>\n",
       "      <td>0.200000</td>\n",
       "      <td>0.200000</td>\n",
       "      <td>0.213333</td>\n",
       "      <td>0.213333</td>\n",
       "    </tr>\n",
       "    <tr>\n",
       "      <th>Klf2</th>\n",
       "      <td>1.233333</td>\n",
       "      <td>1.240000</td>\n",
       "      <td>1.226667</td>\n",
       "      <td>1.226667</td>\n",
       "      <td>1.233333</td>\n",
       "      <td>1.266667</td>\n",
       "      <td>1.260000</td>\n",
       "      <td>1.260000</td>\n",
       "      <td>1.280000</td>\n",
       "      <td>1.286667</td>\n",
       "      <td>...</td>\n",
       "      <td>0.633333</td>\n",
       "      <td>0.626667</td>\n",
       "      <td>0.606667</td>\n",
       "      <td>0.606667</td>\n",
       "      <td>0.580000</td>\n",
       "      <td>0.580000</td>\n",
       "      <td>0.573333</td>\n",
       "      <td>0.573333</td>\n",
       "      <td>0.560000</td>\n",
       "      <td>0.553333</td>\n",
       "    </tr>\n",
       "    <tr>\n",
       "      <th>Esrrb</th>\n",
       "      <td>0.240000</td>\n",
       "      <td>0.246667</td>\n",
       "      <td>0.253333</td>\n",
       "      <td>0.246667</td>\n",
       "      <td>0.233333</td>\n",
       "      <td>0.246667</td>\n",
       "      <td>0.260000</td>\n",
       "      <td>0.260000</td>\n",
       "      <td>0.260000</td>\n",
       "      <td>0.260000</td>\n",
       "      <td>...</td>\n",
       "      <td>0.206667</td>\n",
       "      <td>0.206667</td>\n",
       "      <td>0.206667</td>\n",
       "      <td>0.206667</td>\n",
       "      <td>0.206667</td>\n",
       "      <td>0.213333</td>\n",
       "      <td>0.213333</td>\n",
       "      <td>0.220000</td>\n",
       "      <td>0.226667</td>\n",
       "      <td>0.226667</td>\n",
       "    </tr>\n",
       "  </tbody>\n",
       "</table>\n",
       "<p>3 rows × 9547 columns</p>\n",
       "</div>"
      ],
      "text/plain": [
       "barcodes  GGCGTCAGTCAACGCC  CTCATGCGTCAGGTAG  CTGCCATAGACCGCCT  \\\n",
       "Klf4              1.340000          1.340000          1.353333   \n",
       "Klf2              1.233333          1.240000          1.226667   \n",
       "Esrrb             0.240000          0.246667          0.253333   \n",
       "\n",
       "barcodes  AGCCAATCAAATCAGA  CGGGTCATCTGGAGAG  TCATTTGTCATCGGGC  \\\n",
       "Klf4              1.353333          1.366667          1.406667   \n",
       "Klf2              1.226667          1.233333          1.266667   \n",
       "Esrrb             0.246667          0.233333          0.246667   \n",
       "\n",
       "barcodes  AGCATCAAGTACTGGG  ATTCAGGTCGGTTAGT  TCGATTTTCAATCCGA  \\\n",
       "Klf4              1.426667          1.426667          1.426667   \n",
       "Klf2              1.260000          1.260000          1.280000   \n",
       "Esrrb             0.260000          0.260000          0.260000   \n",
       "\n",
       "barcodes  TATCCTACATAGGTTC  ...  TTTGACTTCGCCACTT  GCCATTCTCATTCACT  \\\n",
       "Klf4              1.413333  ...          0.200000          0.200000   \n",
       "Klf2              1.286667  ...          0.633333          0.626667   \n",
       "Esrrb             0.260000  ...          0.206667          0.206667   \n",
       "\n",
       "barcodes  GAAACCTGTTGTGCCG  CAACCAAAGCCTCACG  TCCTCTTTCGTCCATC  \\\n",
       "Klf4              0.200000          0.200000          0.200000   \n",
       "Klf2              0.606667          0.606667          0.580000   \n",
       "Esrrb             0.206667          0.206667          0.206667   \n",
       "\n",
       "barcodes  CTAACCCCACAATGCT  CCACACTCACACCAGC  CACGTTCAGCCGAACA  \\\n",
       "Klf4              0.200000          0.200000          0.200000   \n",
       "Klf2              0.580000          0.573333          0.573333   \n",
       "Esrrb             0.213333          0.213333          0.220000   \n",
       "\n",
       "barcodes  TGATTCTTCCGTTTCG  CTTGATTCACCATTCC  \n",
       "Klf4              0.213333          0.213333  \n",
       "Klf2              0.560000          0.553333  \n",
       "Esrrb             0.226667          0.226667  \n",
       "\n",
       "[3 rows x 9547 columns]"
      ]
     },
     "execution_count": 6,
     "metadata": {},
     "output_type": "execute_result"
    }
   ],
   "source": [
    "# PST\n",
    "w_size=150\n",
    "pst_df = pd.read_csv(path_data+'input_data/cellinfo_pseudotime_3no2CLC_22_09_22.txt',\n",
    "                              header = 0, sep = ' ', quotechar = '\"', \n",
    "                              names = [\"barcodes\", \"time\", \"pst\"])\n",
    "\n",
    "pst_df = pst_df.sort_values(by=['pst'])\n",
    "\n",
    "# riordino dataframe \n",
    "column_names = pst_df[\"barcodes\"]\n",
    "df_raw_pst = df_raw.reindex(columns = column_names)\n",
    "\n",
    "df_raw_mb_pst = df_raw_pst.rolling(window = w_size, axis=1).mean().dropna(axis=1)\n",
    "df_raw_mb_pst = pd.DataFrame(df_raw_mb_pst, index=df_raw_pst.index)\n",
    "df_raw_mb_pst.head(3)\n"
   ]
  },
  {
   "cell_type": "markdown",
   "metadata": {},
   "source": [
    "# LogNorm Data"
   ]
  },
  {
   "cell_type": "code",
   "execution_count": 7,
   "metadata": {},
   "outputs": [
    {
     "data": {
      "text/html": [
       "<div>\n",
       "<style scoped>\n",
       "    .dataframe tbody tr th:only-of-type {\n",
       "        vertical-align: middle;\n",
       "    }\n",
       "\n",
       "    .dataframe tbody tr th {\n",
       "        vertical-align: top;\n",
       "    }\n",
       "\n",
       "    .dataframe thead th {\n",
       "        text-align: right;\n",
       "    }\n",
       "</style>\n",
       "<table border=\"1\" class=\"dataframe\">\n",
       "  <thead>\n",
       "    <tr style=\"text-align: right;\">\n",
       "      <th></th>\n",
       "      <th>AAACCCAGTGACCGTC</th>\n",
       "      <th>AAACGAAAGCGCGTTC</th>\n",
       "      <th>AAACGAACAAGCACCC</th>\n",
       "      <th>AAACGAATCAAGTCGT</th>\n",
       "      <th>AAACGCTTCCGTGACG</th>\n",
       "      <th>AAAGAACGTCAGATTC</th>\n",
       "      <th>AAAGAACTCACTTGTT</th>\n",
       "      <th>AAAGGATCAAATCAAG</th>\n",
       "      <th>AAAGGATTCTGAACGT</th>\n",
       "      <th>AAAGGGCAGCAGGCAT</th>\n",
       "      <th>...</th>\n",
       "      <th>TTTGACTGTCAGCTTA</th>\n",
       "      <th>TTTGACTGTGTTATCG</th>\n",
       "      <th>TTTGACTTCGCCACTT</th>\n",
       "      <th>TTTGATCGTTCTCCAC</th>\n",
       "      <th>TTTGGTTAGAGAGCGG</th>\n",
       "      <th>TTTGGTTGTGATCATC</th>\n",
       "      <th>TTTGGTTTCACGGGCT</th>\n",
       "      <th>TTTGGTTTCCAACACA</th>\n",
       "      <th>TTTGTTGCATCGAAGG</th>\n",
       "      <th>TTTGTTGCATCTCATT</th>\n",
       "    </tr>\n",
       "  </thead>\n",
       "  <tbody>\n",
       "    <tr>\n",
       "      <th>Klf4</th>\n",
       "      <td>1.624017</td>\n",
       "      <td>1.427111</td>\n",
       "      <td>0.000000</td>\n",
       "      <td>0.843545</td>\n",
       "      <td>2.582635</td>\n",
       "      <td>1.825359</td>\n",
       "      <td>0.000000</td>\n",
       "      <td>1.162685</td>\n",
       "      <td>1.708780</td>\n",
       "      <td>0.000000</td>\n",
       "      <td>...</td>\n",
       "      <td>0.0</td>\n",
       "      <td>1.628406</td>\n",
       "      <td>1.075557</td>\n",
       "      <td>0.0</td>\n",
       "      <td>0.0</td>\n",
       "      <td>0.0</td>\n",
       "      <td>0.000000</td>\n",
       "      <td>0.000000</td>\n",
       "      <td>0.0</td>\n",
       "      <td>0.000000</td>\n",
       "    </tr>\n",
       "    <tr>\n",
       "      <th>Klf2</th>\n",
       "      <td>1.624017</td>\n",
       "      <td>0.000000</td>\n",
       "      <td>1.436316</td>\n",
       "      <td>1.372344</td>\n",
       "      <td>0.000000</td>\n",
       "      <td>1.430803</td>\n",
       "      <td>2.483172</td>\n",
       "      <td>2.237629</td>\n",
       "      <td>1.093845</td>\n",
       "      <td>1.716736</td>\n",
       "      <td>...</td>\n",
       "      <td>0.0</td>\n",
       "      <td>2.048784</td>\n",
       "      <td>1.075557</td>\n",
       "      <td>0.0</td>\n",
       "      <td>0.0</td>\n",
       "      <td>0.0</td>\n",
       "      <td>2.317913</td>\n",
       "      <td>0.000000</td>\n",
       "      <td>0.0</td>\n",
       "      <td>1.692006</td>\n",
       "    </tr>\n",
       "    <tr>\n",
       "      <th>Esrrb</th>\n",
       "      <td>0.000000</td>\n",
       "      <td>1.427111</td>\n",
       "      <td>0.000000</td>\n",
       "      <td>1.372344</td>\n",
       "      <td>1.413292</td>\n",
       "      <td>0.000000</td>\n",
       "      <td>0.000000</td>\n",
       "      <td>1.162685</td>\n",
       "      <td>0.000000</td>\n",
       "      <td>0.000000</td>\n",
       "      <td>...</td>\n",
       "      <td>0.0</td>\n",
       "      <td>1.032705</td>\n",
       "      <td>0.000000</td>\n",
       "      <td>0.0</td>\n",
       "      <td>0.0</td>\n",
       "      <td>0.0</td>\n",
       "      <td>1.219525</td>\n",
       "      <td>0.960339</td>\n",
       "      <td>0.0</td>\n",
       "      <td>0.000000</td>\n",
       "    </tr>\n",
       "  </tbody>\n",
       "</table>\n",
       "<p>3 rows × 9894 columns</p>\n",
       "</div>"
      ],
      "text/plain": [
       "       AAACCCAGTGACCGTC  AAACGAAAGCGCGTTC  AAACGAACAAGCACCC  AAACGAATCAAGTCGT  \\\n",
       "Klf4           1.624017          1.427111          0.000000          0.843545   \n",
       "Klf2           1.624017          0.000000          1.436316          1.372344   \n",
       "Esrrb          0.000000          1.427111          0.000000          1.372344   \n",
       "\n",
       "       AAACGCTTCCGTGACG  AAAGAACGTCAGATTC  AAAGAACTCACTTGTT  AAAGGATCAAATCAAG  \\\n",
       "Klf4           2.582635          1.825359          0.000000          1.162685   \n",
       "Klf2           0.000000          1.430803          2.483172          2.237629   \n",
       "Esrrb          1.413292          0.000000          0.000000          1.162685   \n",
       "\n",
       "       AAAGGATTCTGAACGT  AAAGGGCAGCAGGCAT  ...  TTTGACTGTCAGCTTA  \\\n",
       "Klf4           1.708780          0.000000  ...               0.0   \n",
       "Klf2           1.093845          1.716736  ...               0.0   \n",
       "Esrrb          0.000000          0.000000  ...               0.0   \n",
       "\n",
       "       TTTGACTGTGTTATCG  TTTGACTTCGCCACTT  TTTGATCGTTCTCCAC  TTTGGTTAGAGAGCGG  \\\n",
       "Klf4           1.628406          1.075557               0.0               0.0   \n",
       "Klf2           2.048784          1.075557               0.0               0.0   \n",
       "Esrrb          1.032705          0.000000               0.0               0.0   \n",
       "\n",
       "       TTTGGTTGTGATCATC  TTTGGTTTCACGGGCT  TTTGGTTTCCAACACA  TTTGTTGCATCGAAGG  \\\n",
       "Klf4                0.0          0.000000          0.000000               0.0   \n",
       "Klf2                0.0          2.317913          0.000000               0.0   \n",
       "Esrrb               0.0          1.219525          0.960339               0.0   \n",
       "\n",
       "       TTTGTTGCATCTCATT  \n",
       "Klf4           0.000000  \n",
       "Klf2           1.692006  \n",
       "Esrrb          0.000000  \n",
       "\n",
       "[3 rows x 9894 columns]"
      ]
     },
     "execution_count": 7,
     "metadata": {},
     "output_type": "execute_result"
    }
   ],
   "source": [
    "# load the Gene Expression data log normalized: the columns are the cells and the rows are the genes\n",
    "df_lN = pd.read_csv(path_data + \"GE_data/imp_genes_logNorm.csv\", header=0, index_col=0, sep=\",\").reindex(genes_order)\n",
    "#remove  the index name\n",
    "df_lN.index.name=None\n",
    "\n",
    "df_lN.head(3)"
   ]
  },
  {
   "attachments": {},
   "cell_type": "markdown",
   "metadata": {},
   "source": [
    "## Fraction of zeros per gene"
   ]
  },
  {
   "cell_type": "code",
   "execution_count": 8,
   "metadata": {},
   "outputs": [
    {
     "data": {
      "text/plain": [
       "(array([0.1, 0.2, 0.3, 0.4, 0.5, 0.6, 0.7, 0.8, 0.9, 1. , 1.1]),\n",
       " [Text(0, 0, ''),\n",
       "  Text(0, 0, ''),\n",
       "  Text(0, 0, ''),\n",
       "  Text(0, 0, ''),\n",
       "  Text(0, 0, ''),\n",
       "  Text(0, 0, ''),\n",
       "  Text(0, 0, ''),\n",
       "  Text(0, 0, ''),\n",
       "  Text(0, 0, ''),\n",
       "  Text(0, 0, ''),\n",
       "  Text(0, 0, '')])"
      ]
     },
     "execution_count": 8,
     "metadata": {},
     "output_type": "execute_result"
    },
    {
     "data": {
      "image/png": "[encoded data removed]",
      "text/plain": [
       "<Figure size 1440x360 with 1 Axes>"
      ]
     },
     "metadata": {
      "needs_background": "light"
     },
     "output_type": "display_data"
    }
   ],
   "source": [
    "# show with an histogram the number of zero value for each gene\n",
    "zeros_perGene_frac = np.sum(df_lN==0, axis=1)/df_lN.shape[1]\n",
    "plt.figure(figsize=(20,5))\n",
    "plt.plot(zeros_perGene_frac, 'o', color='darkblue', label='fraction of zeros')\n",
    "# add a line at 0.5\n",
    "thr_zero = 0.5\n",
    "plt.axhline(y=thr_zero, color='r', linestyle='-', label=thr_zero)\n",
    "plt.legend(fontsize=15)\n",
    "plt.grid(True)\n",
    "plt.title('Fraction of zeros per gene', fontsize=15)\n",
    "plt.xlabel('Gene', fontsize=15)\n",
    "plt.ylabel('Fraction of zeros', fontsize=15)\n",
    "plt.xticks(fontsize=12)\n",
    "plt.yticks(fontsize=12)\n",
    "\n"
   ]
  },
  {
   "attachments": {},
   "cell_type": "markdown",
   "metadata": {},
   "source": [
    "## Gene Expression in time"
   ]
  },
  {
   "cell_type": "code",
   "execution_count": 9,
   "metadata": {},
   "outputs": [
    {
     "name": "stdout",
     "output_type": "stream",
     "text": [
      "5\n"
     ]
    },
    {
     "data": {
      "text/plain": [
       "(0.0, 1.75)"
      ]
     },
     "execution_count": 9,
     "metadata": {},
     "output_type": "execute_result"
    },
    {
     "data": {
      "image/png": "[encoded data removed]",
      "text/plain": [
       "<Figure size 864x576 with 1 Axes>"
      ]
     },
     "metadata": {
      "needs_background": "light"
     },
     "output_type": "display_data"
    }
   ],
   "source": [
    "# Separate the different time step dataset\n",
    "time = np.array([\"00\", \"06\",\"12\", \"24\", \"48\"])\n",
    "time_sep = np.loadtxt(path_data+\"GE_data/time_sep.txt\", dtype=np.int32)\n",
    "df_00 = df_lN.iloc[:,:time_sep[0]]\n",
    "df_06 = df_lN.iloc[:, time_sep[0]: np.sum(time_sep[:2])]\n",
    "df_12 = df_lN.iloc[:, np.sum(time_sep[:2]): np.sum(time_sep[:3])]\n",
    "df_24 = df_lN.iloc[:, np.sum(time_sep[:3]): np.sum(time_sep[:4])]\n",
    "df_48 = df_lN.iloc[:, np.sum(time_sep[:4]): np.sum(time_sep[:5])]\n",
    "\n",
    "df_raw_bulk = pd.concat([df_00.mean(axis=1), df_06.mean(axis=1), df_12.mean(axis=1), df_24.mean(axis=1), df_48.mean(axis=1)], axis=1)\n",
    "df_raw_bulk.columns=[\"00\", \"06\",\"12\", \"24\", \"48\"]\n",
    "#average over the group of genes (naive, formative, committed)\n",
    "df_bulk_groups = pd.DataFrame(index=[\"naive\", \"formative\", \"committed\"], columns=df_raw_bulk.columns)\n",
    "df_bulk_groups.iloc[0,:] = df_raw_bulk.loc[naive].mean(axis=0)\n",
    "df_bulk_groups.iloc[1,:] = df_raw_bulk.loc[formative].mean(axis=0)\n",
    "df_bulk_groups.iloc[2,:] = df_raw_bulk.loc[committed].mean(axis=0)\n",
    "# compute the std for each time step for each group of genes (naive, formative, committed)\n",
    "df_raw_std = pd.concat([df_00.std(axis=1), df_06.std(axis=1), df_12.std(axis=1), df_24.std(axis=1), df_48.std(axis=1)], axis=1)\n",
    "df_raw_std.columns=[\"00\", \"06\",\"12\", \"24\", \"48\"]\n",
    "df_std_groups = pd.DataFrame(index=[\"naive\", \"formative\", \"committed\"], columns=df_raw_std.columns)\n",
    "df_std_groups.iloc[0,:] = df_raw_std.loc[naive].mean(axis=0)\n",
    "df_std_groups.iloc[1,:] = df_raw_std.loc[formative].mean(axis=0)\n",
    "df_std_groups.iloc[2,:] = df_raw_std.loc[committed].mean(axis=0)\n",
    "print(len(df_std_groups.iloc[0,:]))\n",
    "\n",
    "\n",
    "#plot df_bulk_groups using different colors for each gene group\n",
    "plt.figure(figsize=(12,8))\n",
    "plt.errorbar(df_bulk_groups.columns, df_bulk_groups.iloc[0,:], yerr=df_std_groups.iloc[0,:], color='darkblue', label='naive', marker='o')\n",
    "plt.errorbar(df_bulk_groups.columns, df_bulk_groups.iloc[1,:], yerr=df_std_groups.iloc[1,:], color='darkgreen', label='formative', marker='o')\n",
    "plt.errorbar(df_bulk_groups.columns, df_bulk_groups.iloc[2,:], yerr=df_std_groups.iloc[2,:], color='darkred', label='committed', marker='o')\n",
    "plt.legend(fontsize=15)\n",
    "plt.xlabel('Time', fontsize=15)\n",
    "plt.ylabel('Average expression', fontsize=15)\n",
    "plt.title('Average expression per group', fontsize=18)\n",
    "plt.grid()\n",
    "plt.ylim([0,1.75])\n"
   ]
  },
  {
   "cell_type": "code",
   "execution_count": 10,
   "metadata": {},
   "outputs": [],
   "source": [
    "# # plot the gene expression for each gene in the naive group in time with theis std\n",
    "# plt.figure(figsize=(12,8))\n",
    "# # plt.plot(df_raw_bulk.loc[naive].T, color='darkblue', alpha=0.2)\n",
    "# # do the same with sns to get the gene label\n",
    "# for ii in range(len(naive)):\n",
    "#     plt.errorbar(df_bulk_groups.columns,df_raw_bulk.loc[naive[ii]].T, yerr=df_raw_std.loc[naive[ii]].T, label=naive[ii], marker='o')\n",
    "# plt.legend()\n",
    "# plt.show()\n",
    "\n",
    "# # the same for the formative group\n",
    "# plt.figure(figsize=(12,8))\n",
    "# for jj in range(len(formative)):\n",
    "#     plt.errorbar(df_bulk_groups.columns,df_raw_bulk.loc[formative[jj]].T, yerr=df_raw_std.loc[formative[jj]].T, label=formative[jj], marker='o')\n",
    "# plt.legend()\n",
    "# plt.show()\n",
    "\n",
    "# # for the committed group\n",
    "# plt.figure(figsize=(12,8))\n",
    "# for kk in range(len(committed)):\n",
    "#     plt.errorbar(df_bulk_groups.columns,df_raw_bulk.loc[committed[kk]].T, yerr=df_raw_std.loc[committed[kk]].T, label=committed[kk], marker='o')\n"
   ]
  },
  {
   "cell_type": "markdown",
   "metadata": {},
   "source": [
    "## Pseudotime"
   ]
  },
  {
   "cell_type": "code",
   "execution_count": 11,
   "metadata": {},
   "outputs": [
    {
     "name": "stdout",
     "output_type": "stream",
     "text": [
      "Min pseudotime:  0.0 - Max pseudotime:  38.2221053912345\n",
      "Number of cells in PST df:  9696\n"
     ]
    },
    {
     "data": {
      "text/plain": [
       "Text(0, 0.5, 'Density')"
      ]
     },
     "execution_count": 11,
     "metadata": {},
     "output_type": "execute_result"
    },
    {
     "data": {
      "image/png": "[encoded data removed]",
      "text/plain": [
       "<Figure size 504x360 with 1 Axes>"
      ]
     },
     "metadata": {
      "needs_background": "light"
     },
     "output_type": "display_data"
    }
   ],
   "source": [
    "# Load PST Info dataframe: it links cell barcode to pseudotime\n",
    "PST_df = pd.read_csv(path_data+'input_data/cellinfo_pseudotime_3no2CLC_22_09_22.txt',\n",
    "                              header = 0, sep = ' ', quotechar = '\"', \n",
    "                              names = [\"barcodes\", \"time\", \"pst\"])\n",
    "\n",
    "print(\"Min pseudotime: \", np.min(PST_df[\"pst\"]), \"- Max pseudotime: \", np.max(PST_df[\"pst\"]))\n",
    "print(\"Number of cells in PST df: \", PST_df.shape[0])\n",
    "\n",
    "# sorting in ascending values of pseudo-time\n",
    "PST_df = PST_df.sort_values(by=['pst'])\n",
    "\n",
    "# PLOT different times separated\n",
    "plt.figure(figsize=(7,5))\n",
    "sns.histplot(data=PST_df, x=\"pst\", hue=\"time\", stat=\"density\")\n",
    "plt.xlabel(\"Pseudotime\")\n",
    "plt.ylabel(\"Density\")\n"
   ]
  },
  {
   "cell_type": "markdown",
   "metadata": {},
   "source": [
    "## PST - reordering"
   ]
  },
  {
   "cell_type": "code",
   "execution_count": 12,
   "metadata": {},
   "outputs": [],
   "source": [
    "# riordino dataframe : PST\n",
    "column_names = PST_df[\"barcodes\"]\n",
    "df_lN_pst = df_lN.reindex(columns = column_names)\n",
    "\n",
    "pd.DataFrame.to_csv(df_lN_pst, path_data + \"GE_data/processed/imp_genes_LogNorm_PST.csv\")\n",
    "\n",
    "# pd.read_csv(path_data + \"GE_data/processed/imp_genes_LogNorm_PST.csv\", header=0, index_col=0, sep=\",\")\n"
   ]
  },
  {
   "cell_type": "markdown",
   "metadata": {},
   "source": [
    "## PST + MB"
   ]
  },
  {
   "cell_type": "code",
   "execution_count": 13,
   "metadata": {},
   "outputs": [],
   "source": [
    "# Window size for Mini-Bulk\n",
    "mb_wind = 150\n",
    "\n",
    "# Threshold for half max\n",
    "thr = 0.5 \n"
   ]
  },
  {
   "cell_type": "code",
   "execution_count": 14,
   "metadata": {},
   "outputs": [],
   "source": [
    "# MB\n",
    "df_lN_mb_pst = pd.DataFrame(df_lN_pst.rolling(window=mb_wind, axis=1).mean().dropna(axis=1), index=df_lN_pst.index)\n",
    "\n",
    "df_lN_mb_pst.head(3)\n",
    "\n",
    "# to save\n",
    "pd.DataFrame.to_csv(df_lN_mb_pst, path_data + \"GE_data/processed/imp_genes_LogNorm_PST_MB.csv\")\n"
   ]
  },
  {
   "cell_type": "code",
   "execution_count": 15,
   "metadata": {},
   "outputs": [],
   "source": [
    "\n",
    "# Set the Flag to save or not the Figures showing the Gene Expression in time (with Mini-Bulk)\n",
    "saving=False\n",
    "showing=False\n",
    "if showing:\n",
    "    # save the maximum value of each gene\n",
    "    df_max = np.array(df_lN_mb_pst.max(axis=1))\n",
    "    for ii in range(len(genes_order)):\n",
    "        plt.figure(figsize=(10,5))     \n",
    "        plt.plot(np.linspace(0, len(df_lN_mb_pst.iloc[ii,:]), len(df_lN_mb_pst.iloc[ii,:])), df_lN_mb_pst.iloc[ii,:])\n",
    "        plt.axhline(y = df_max[ii]*thr, linestyle = 'dotted', color = \"darkorange\")\n",
    "        plt.title(genes_order[ii])\n",
    "        plt.ylim(0, df_max[ii]+0.1*df_max[ii])\n",
    "        if saving==True:\n",
    "            plt.savefig(\"plot/halfmax_50/\"+str(ii)+str(genes_order[ii])+\"_gene.pdf\")\n",
    "        plt.show()\n",
    "        print(genes_order[ii],df_max[ii]/2)"
   ]
  },
  {
   "cell_type": "markdown",
   "metadata": {},
   "source": [
    "# PsiNorm Data"
   ]
  },
  {
   "cell_type": "code",
   "execution_count": 16,
   "metadata": {},
   "outputs": [
    {
     "data": {
      "text/html": [
       "<div>\n",
       "<style scoped>\n",
       "    .dataframe tbody tr th:only-of-type {\n",
       "        vertical-align: middle;\n",
       "    }\n",
       "\n",
       "    .dataframe tbody tr th {\n",
       "        vertical-align: top;\n",
       "    }\n",
       "\n",
       "    .dataframe thead th {\n",
       "        text-align: right;\n",
       "    }\n",
       "</style>\n",
       "<table border=\"1\" class=\"dataframe\">\n",
       "  <thead>\n",
       "    <tr style=\"text-align: right;\">\n",
       "      <th></th>\n",
       "      <th>AAACCCAGTGACCGTC</th>\n",
       "      <th>AAACGAAAGCGCGTTC</th>\n",
       "      <th>AAACGAACAAGCACCC</th>\n",
       "      <th>AAACGAATCAAGTCGT</th>\n",
       "      <th>AAACGCTTCCGTGACG</th>\n",
       "      <th>AAAGAACGTCAGATTC</th>\n",
       "      <th>AAAGAACTCACTTGTT</th>\n",
       "      <th>AAAGGATCAAATCAAG</th>\n",
       "      <th>AAAGGATTCTGAACGT</th>\n",
       "      <th>AAAGGGCAGCAGGCAT</th>\n",
       "      <th>...</th>\n",
       "      <th>TTTGACTGTCAGCTTA</th>\n",
       "      <th>TTTGACTGTGTTATCG</th>\n",
       "      <th>TTTGACTTCGCCACTT</th>\n",
       "      <th>TTTGATCGTTCTCCAC</th>\n",
       "      <th>TTTGGTTAGAGAGCGG</th>\n",
       "      <th>TTTGGTTGTGATCATC</th>\n",
       "      <th>TTTGGTTTCACGGGCT</th>\n",
       "      <th>TTTGGTTTCCAACACA</th>\n",
       "      <th>TTTGTTGCATCGAAGG</th>\n",
       "      <th>TTTGTTGCATCTCATT</th>\n",
       "    </tr>\n",
       "  </thead>\n",
       "  <tbody>\n",
       "    <tr>\n",
       "      <th>Klf4</th>\n",
       "      <td>1.485415</td>\n",
       "      <td>1.338896</td>\n",
       "      <td>0.000000</td>\n",
       "      <td>0.855192</td>\n",
       "      <td>2.511880</td>\n",
       "      <td>1.881212</td>\n",
       "      <td>0.000000</td>\n",
       "      <td>1.267982</td>\n",
       "      <td>1.684245</td>\n",
       "      <td>0.000000</td>\n",
       "      <td>...</td>\n",
       "      <td>0.0</td>\n",
       "      <td>1.592437</td>\n",
       "      <td>1.025867</td>\n",
       "      <td>0.0</td>\n",
       "      <td>0.0</td>\n",
       "      <td>0.0</td>\n",
       "      <td>0.000000</td>\n",
       "      <td>0.000000</td>\n",
       "      <td>0.0</td>\n",
       "      <td>0.000000</td>\n",
       "    </tr>\n",
       "    <tr>\n",
       "      <th>Klf2</th>\n",
       "      <td>1.485415</td>\n",
       "      <td>0.000000</td>\n",
       "      <td>1.338774</td>\n",
       "      <td>1.388465</td>\n",
       "      <td>0.000000</td>\n",
       "      <td>1.479866</td>\n",
       "      <td>2.463433</td>\n",
       "      <td>2.385357</td>\n",
       "      <td>1.075095</td>\n",
       "      <td>1.705082</td>\n",
       "      <td>...</td>\n",
       "      <td>0.0</td>\n",
       "      <td>2.008406</td>\n",
       "      <td>1.025867</td>\n",
       "      <td>0.0</td>\n",
       "      <td>0.0</td>\n",
       "      <td>0.0</td>\n",
       "      <td>2.182156</td>\n",
       "      <td>0.000000</td>\n",
       "      <td>0.0</td>\n",
       "      <td>1.578242</td>\n",
       "    </tr>\n",
       "    <tr>\n",
       "      <th>Esrrb</th>\n",
       "      <td>0.000000</td>\n",
       "      <td>1.338896</td>\n",
       "      <td>0.000000</td>\n",
       "      <td>1.388465</td>\n",
       "      <td>1.360576</td>\n",
       "      <td>0.000000</td>\n",
       "      <td>0.000000</td>\n",
       "      <td>1.267982</td>\n",
       "      <td>0.000000</td>\n",
       "      <td>0.000000</td>\n",
       "      <td>...</td>\n",
       "      <td>0.0</td>\n",
       "      <td>1.005610</td>\n",
       "      <td>0.000000</td>\n",
       "      <td>0.0</td>\n",
       "      <td>0.0</td>\n",
       "      <td>0.0</td>\n",
       "      <td>1.123956</td>\n",
       "      <td>0.952262</td>\n",
       "      <td>0.0</td>\n",
       "      <td>0.000000</td>\n",
       "    </tr>\n",
       "  </tbody>\n",
       "</table>\n",
       "<p>3 rows × 9894 columns</p>\n",
       "</div>"
      ],
      "text/plain": [
       "       AAACCCAGTGACCGTC  AAACGAAAGCGCGTTC  AAACGAACAAGCACCC  AAACGAATCAAGTCGT  \\\n",
       "Klf4           1.485415          1.338896          0.000000          0.855192   \n",
       "Klf2           1.485415          0.000000          1.338774          1.388465   \n",
       "Esrrb          0.000000          1.338896          0.000000          1.388465   \n",
       "\n",
       "       AAACGCTTCCGTGACG  AAAGAACGTCAGATTC  AAAGAACTCACTTGTT  AAAGGATCAAATCAAG  \\\n",
       "Klf4           2.511880          1.881212          0.000000          1.267982   \n",
       "Klf2           0.000000          1.479866          2.463433          2.385357   \n",
       "Esrrb          1.360576          0.000000          0.000000          1.267982   \n",
       "\n",
       "       AAAGGATTCTGAACGT  AAAGGGCAGCAGGCAT  ...  TTTGACTGTCAGCTTA  \\\n",
       "Klf4           1.684245          0.000000  ...               0.0   \n",
       "Klf2           1.075095          1.705082  ...               0.0   \n",
       "Esrrb          0.000000          0.000000  ...               0.0   \n",
       "\n",
       "       TTTGACTGTGTTATCG  TTTGACTTCGCCACTT  TTTGATCGTTCTCCAC  TTTGGTTAGAGAGCGG  \\\n",
       "Klf4           1.592437          1.025867               0.0               0.0   \n",
       "Klf2           2.008406          1.025867               0.0               0.0   \n",
       "Esrrb          1.005610          0.000000               0.0               0.0   \n",
       "\n",
       "       TTTGGTTGTGATCATC  TTTGGTTTCACGGGCT  TTTGGTTTCCAACACA  TTTGTTGCATCGAAGG  \\\n",
       "Klf4                0.0          0.000000          0.000000               0.0   \n",
       "Klf2                0.0          2.182156          0.000000               0.0   \n",
       "Esrrb               0.0          1.123956          0.952262               0.0   \n",
       "\n",
       "       TTTGTTGCATCTCATT  \n",
       "Klf4           0.000000  \n",
       "Klf2           1.578242  \n",
       "Esrrb          0.000000  \n",
       "\n",
       "[3 rows x 9894 columns]"
      ]
     },
     "execution_count": 16,
     "metadata": {},
     "output_type": "execute_result"
    }
   ],
   "source": [
    "df_pN = pd.read_csv(path_data + \"GE_data/imp_genes_PsiNorm.csv\", header=0, index_col=0, sep=\",\").reindex(genes_order)\n",
    "df_pN.index.name = None\n",
    "\n",
    "df_pN.head(3)\n"
   ]
  },
  {
   "attachments": {},
   "cell_type": "markdown",
   "metadata": {},
   "source": [
    "## Pseudotime"
   ]
  },
  {
   "cell_type": "code",
   "execution_count": 17,
   "metadata": {},
   "outputs": [
    {
     "name": "stdout",
     "output_type": "stream",
     "text": [
      "Min pseudotime:  0.0 - Max pseudotime:  26.2993780102351\n",
      "Number of cells in PST df:  9732\n"
     ]
    }
   ],
   "source": [
    "# Load PST Info dataframe for Psi Norm: it links cell barcode to pseudotime\n",
    "PST_df = pd.read_csv(path_data+'input_data/cellinfo_pseudotime_UMAPno2clcs_23_01_13.txt',\n",
    "                              header = 0, sep = ' ', quotechar = '\"', \n",
    "                              names = [\"barcodes\", \"time\", \"pst\"])\n",
    "\n",
    "print(\"Min pseudotime: \", np.min(PST_df[\"pst\"]), \"- Max pseudotime: \", np.max(PST_df[\"pst\"]))\n",
    "print(\"Number of cells in PST df: \", PST_df.shape[0])\n",
    "\n",
    "# sorting in ascending values of pseudo-time\n",
    "PST_df = PST_df.sort_values(by=['pst'])\n",
    "\n"
   ]
  },
  {
   "cell_type": "code",
   "execution_count": 18,
   "metadata": {},
   "outputs": [
    {
     "data": {
      "image/png": "[encoded data removed]",
      "text/plain": [
       "<Figure size 1080x576 with 6 Axes>"
      ]
     },
     "metadata": {
      "needs_background": "light"
     },
     "output_type": "display_data"
    }
   ],
   "source": [
    "# plot PST for different REAL times \n",
    "fig, ax = plt.subplots(2,3,figsize=(15, 8))\n",
    "sns.histplot(data=PST_df[PST_df[\"time\"] == \"00h\"], x=\"pst\", hue=\"time\", stat=\"density\", bins=40, ax=ax[0,0])\n",
    "sns.histplot(data=PST_df[PST_df[\"time\"] == \"06h\"], x=\"pst\", hue=\"time\", stat=\"density\", bins=40, ax=ax[0,1])\n",
    "ax[0,1].axvline(x=8, color=\"r\")\n",
    "sns.histplot(data=PST_df[PST_df[\"time\"] == \"12h\"], x=\"pst\", hue=\"time\", stat=\"density\", bins=40, ax=ax[0,2])\n",
    "ax[0,2].axvline(x=8, color=\"r\")\n",
    "sns.histplot(data=PST_df[PST_df[\"time\"] == \"24h\"], x=\"pst\", hue=\"time\", stat=\"density\", bins=40, ax=ax[1,0])\n",
    "ax[1,0].axvline(x=8, color=\"r\")\n",
    "sns.histplot(data=PST_df[PST_df[\"time\"] == \"48h\"], x=\"pst\", hue=\"time\", stat=\"density\", bins=40, ax=ax[1,1])\n",
    "ax[1,1].axvline(x=8, color=\"r\")\n",
    "sns.histplot(data=PST_df, x=\"pst\", hue=\"time\", stat=\"density\", bins=40, ax=ax[1,2])\n",
    "ax[1,2].axvline(x=8, color=\"r\")\n",
    "\n",
    "\n",
    "plt.show()"
   ]
  },
  {
   "cell_type": "code",
   "execution_count": 19,
   "metadata": {},
   "outputs": [
    {
     "name": "stderr",
     "output_type": "stream",
     "text": [
      "/var/folders/2z/hsgwjl3d49109llzgvkyf6jw0000gn/T/ipykernel_54070/1976356497.py:3: UserWarning: Boolean Series key will be reindexed to match DataFrame index.\n",
      "  PST_df_new = PST_df_new.drop(PST_df_new[(PST_df[\"time\"] == \"24h\") & (PST_df_new[\"pst\"] < 8.0)].index)\n",
      "/var/folders/2z/hsgwjl3d49109llzgvkyf6jw0000gn/T/ipykernel_54070/1976356497.py:4: UserWarning: Boolean Series key will be reindexed to match DataFrame index.\n",
      "  PST_df_new = PST_df_new.drop(PST_df_new[(PST_df[\"time\"] == \"06h\") & (PST_df_new[\"pst\"] < 8.0)].index)\n",
      "/var/folders/2z/hsgwjl3d49109llzgvkyf6jw0000gn/T/ipykernel_54070/1976356497.py:5: UserWarning: Boolean Series key will be reindexed to match DataFrame index.\n",
      "  PST_df_new = PST_df_new.drop(PST_df_new[(PST_df[\"time\"] == \"12h\") & (PST_df_new[\"pst\"] < 8.0)].index)\n"
     ]
    }
   ],
   "source": [
    "# Cutting bad inferred PST\n",
    "PST_df_new = PST_df.drop(PST_df[(PST_df[\"time\"] == \"48h\") & (PST_df[\"pst\"] < 8.0)].index)\n",
    "PST_df_new = PST_df_new.drop(PST_df_new[(PST_df[\"time\"] == \"24h\") & (PST_df_new[\"pst\"] < 8.0)].index)\n",
    "PST_df_new = PST_df_new.drop(PST_df_new[(PST_df[\"time\"] == \"06h\") & (PST_df_new[\"pst\"] < 8.0)].index)\n",
    "PST_df_new = PST_df_new.drop(PST_df_new[(PST_df[\"time\"] == \"12h\") & (PST_df_new[\"pst\"] < 8.0)].index)\n",
    "\n",
    "# # Before cutting\n",
    "# plt.figure(figsize=(7,5))\n",
    "# sns.histplot(data=PST_df, x=\"pst\", hue=\"time\", stat=\"density\", bins=40)\n",
    "# plt.xlabel(\"Pseudotime\")\n",
    "# plt.ylabel(\"Density\")\n",
    "# # After cutting\n",
    "# plt.figure(figsize=(7,5))\n",
    "# sns.histplot(data=PST_df_new, x=\"pst\", hue=\"time\", stat=\"density\", bins=40)\n",
    "# plt.xlabel(\"Pseudotime\")\n",
    "# plt.ylabel(\"Density\")\n",
    "\n",
    "#saving the changed PST_df\n",
    "PST_df = PST_df_new.copy()"
   ]
  },
  {
   "cell_type": "markdown",
   "metadata": {},
   "source": [
    "## PST - reordering"
   ]
  },
  {
   "cell_type": "code",
   "execution_count": 20,
   "metadata": {},
   "outputs": [],
   "source": [
    "# reordering dataframe using PST\n",
    "column_names = PST_df[\"barcodes\"]\n",
    "df_pN_pst = df_pN.reindex(columns = column_names)\n",
    "\n",
    "df_pN_pst.head(3)\n",
    "\n",
    "# to save\n",
    "pd.DataFrame.to_csv(df_pN_pst, path_data + \"GE_data/processed/imp_genes_PsiNorm_PST.csv\")\n"
   ]
  },
  {
   "cell_type": "markdown",
   "metadata": {},
   "source": [
    "## PST + MB"
   ]
  },
  {
   "cell_type": "code",
   "execution_count": 21,
   "metadata": {},
   "outputs": [],
   "source": [
    "# same parameter as for logNorm, if you want to change, decomment here:\n",
    "mb_wind = 150    # Window size for Mini-Bulk\n",
    "thr = 0.5        # Threshold for the half-maximum\n",
    "\n",
    "# MB implementation for PsiNorm\n",
    "df_pN_mb_pst = pd.DataFrame(df_pN_pst.rolling(window=mb_wind, axis=1).mean().dropna(axis=1), index=df_pN_pst.index)\n",
    "df_pN_mb_pst.head(3)\n",
    "\n",
    "# to save\n",
    "pd.DataFrame.to_csv(df_pN_mb_pst, path_data + \"GE_data/processed/imp_genes_PsiNorm_PST_MB.csv\")\n"
   ]
  },
  {
   "cell_type": "code",
   "execution_count": 22,
   "metadata": {},
   "outputs": [],
   "source": [
    "# Set the Flag to save or not the figures\n",
    "showing=False\n",
    "saving=False\n",
    "if showing:\n",
    "    # Plotting the half-maximum for each gene\n",
    "    df_max = np.array(df_pN_mb_pst.max(axis=1))\n",
    "    for ii in range(len(genes_order)):\n",
    "        plt.plot(np.linspace(0, len(df_pN_mb_pst.iloc[ii,:]), len(df_pN_mb_pst.iloc[ii,:])), df_pN_mb_pst.iloc[ii,:])\n",
    "        plt.axhline(y = df_max[ii]*thr, linestyle = 'dotted', color = \"darkorange\")\n",
    "        plt.title(genes_order[ii])\n",
    "        plt.ylim(0, df_max[ii]+0.1*df_max[ii])\n",
    "        if saving==True:\n",
    "            plt.savefig(\"plot/halfmax_50/\"+str(ii)+str(genes_order[ii])+\"_gene.pdf\")\n",
    "        plt.show()\n",
    "    #     print(df_max[ii],df_max[ii]/2)"
   ]
  },
  {
   "attachments": {},
   "cell_type": "markdown",
   "metadata": {},
   "source": [
    "# MB"
   ]
  },
  {
   "cell_type": "code",
   "execution_count": 23,
   "metadata": {},
   "outputs": [
    {
     "data": {
      "text/html": [
       "<div>\n",
       "<style scoped>\n",
       "    .dataframe tbody tr th:only-of-type {\n",
       "        vertical-align: middle;\n",
       "    }\n",
       "\n",
       "    .dataframe tbody tr th {\n",
       "        vertical-align: top;\n",
       "    }\n",
       "\n",
       "    .dataframe thead th {\n",
       "        text-align: right;\n",
       "    }\n",
       "</style>\n",
       "<table border=\"1\" class=\"dataframe\">\n",
       "  <thead>\n",
       "    <tr style=\"text-align: right;\">\n",
       "      <th></th>\n",
       "      <th>0</th>\n",
       "      <th>1</th>\n",
       "      <th>2</th>\n",
       "      <th>3</th>\n",
       "      <th>4</th>\n",
       "      <th>5</th>\n",
       "      <th>6</th>\n",
       "      <th>7</th>\n",
       "      <th>8</th>\n",
       "      <th>9</th>\n",
       "      <th>...</th>\n",
       "      <th>9884</th>\n",
       "      <th>9885</th>\n",
       "      <th>9886</th>\n",
       "      <th>9887</th>\n",
       "      <th>9888</th>\n",
       "      <th>9889</th>\n",
       "      <th>9890</th>\n",
       "      <th>9891</th>\n",
       "      <th>9892</th>\n",
       "      <th>9893</th>\n",
       "    </tr>\n",
       "  </thead>\n",
       "  <tbody>\n",
       "    <tr>\n",
       "      <th>Klf4</th>\n",
       "      <td>0.826667</td>\n",
       "      <td>0.760000</td>\n",
       "      <td>0.720000</td>\n",
       "      <td>0.813333</td>\n",
       "      <td>0.713333</td>\n",
       "      <td>0.793333</td>\n",
       "      <td>0.680000</td>\n",
       "      <td>0.746667</td>\n",
       "      <td>0.846667</td>\n",
       "      <td>0.773333</td>\n",
       "      <td>...</td>\n",
       "      <td>0.200000</td>\n",
       "      <td>0.146667</td>\n",
       "      <td>0.140000</td>\n",
       "      <td>0.160000</td>\n",
       "      <td>0.100000</td>\n",
       "      <td>0.146667</td>\n",
       "      <td>0.186667</td>\n",
       "      <td>0.173333</td>\n",
       "      <td>0.126667</td>\n",
       "      <td>0.180000</td>\n",
       "    </tr>\n",
       "    <tr>\n",
       "      <th>Klf2</th>\n",
       "      <td>1.066667</td>\n",
       "      <td>0.953333</td>\n",
       "      <td>0.980000</td>\n",
       "      <td>1.020000</td>\n",
       "      <td>1.060000</td>\n",
       "      <td>0.920000</td>\n",
       "      <td>0.980000</td>\n",
       "      <td>1.100000</td>\n",
       "      <td>0.946667</td>\n",
       "      <td>1.020000</td>\n",
       "      <td>...</td>\n",
       "      <td>0.453333</td>\n",
       "      <td>0.380000</td>\n",
       "      <td>0.493333</td>\n",
       "      <td>0.393333</td>\n",
       "      <td>0.366667</td>\n",
       "      <td>0.393333</td>\n",
       "      <td>0.486667</td>\n",
       "      <td>0.433333</td>\n",
       "      <td>0.406667</td>\n",
       "      <td>0.453333</td>\n",
       "    </tr>\n",
       "    <tr>\n",
       "      <th>Esrrb</th>\n",
       "      <td>0.220000</td>\n",
       "      <td>0.293333</td>\n",
       "      <td>0.206667</td>\n",
       "      <td>0.253333</td>\n",
       "      <td>0.233333</td>\n",
       "      <td>0.213333</td>\n",
       "      <td>0.213333</td>\n",
       "      <td>0.293333</td>\n",
       "      <td>0.213333</td>\n",
       "      <td>0.266667</td>\n",
       "      <td>...</td>\n",
       "      <td>0.120000</td>\n",
       "      <td>0.133333</td>\n",
       "      <td>0.100000</td>\n",
       "      <td>0.106667</td>\n",
       "      <td>0.120000</td>\n",
       "      <td>0.080000</td>\n",
       "      <td>0.126667</td>\n",
       "      <td>0.100000</td>\n",
       "      <td>0.093333</td>\n",
       "      <td>0.100000</td>\n",
       "    </tr>\n",
       "  </tbody>\n",
       "</table>\n",
       "<p>3 rows × 9894 columns</p>\n",
       "</div>"
      ],
      "text/plain": [
       "           0         1         2         3         4         5         6     \\\n",
       "Klf4   0.826667  0.760000  0.720000  0.813333  0.713333  0.793333  0.680000   \n",
       "Klf2   1.066667  0.953333  0.980000  1.020000  1.060000  0.920000  0.980000   \n",
       "Esrrb  0.220000  0.293333  0.206667  0.253333  0.233333  0.213333  0.213333   \n",
       "\n",
       "           7         8         9     ...      9884      9885      9886  \\\n",
       "Klf4   0.746667  0.846667  0.773333  ...  0.200000  0.146667  0.140000   \n",
       "Klf2   1.100000  0.946667  1.020000  ...  0.453333  0.380000  0.493333   \n",
       "Esrrb  0.293333  0.213333  0.266667  ...  0.120000  0.133333  0.100000   \n",
       "\n",
       "           9887      9888      9889      9890      9891      9892      9893  \n",
       "Klf4   0.160000  0.100000  0.146667  0.186667  0.173333  0.126667  0.180000  \n",
       "Klf2   0.393333  0.366667  0.393333  0.486667  0.433333  0.406667  0.453333  \n",
       "Esrrb  0.106667  0.120000  0.080000  0.126667  0.100000  0.093333  0.100000  \n",
       "\n",
       "[3 rows x 9894 columns]"
      ]
     },
     "execution_count": 23,
     "metadata": {},
     "output_type": "execute_result"
    }
   ],
   "source": [
    "# raw\n",
    "df_raw_mb = mb.mov_avg(np.array(df_raw, dtype=int), wind=w_size)\n",
    "df_raw_mb = pd.DataFrame(df_raw_mb, index=df_raw.index)\n",
    "\n",
    "# log normalized\n",
    "df_lN_mb = mb.mov_avg(np.array(df_lN, dtype=int), wind=w_size)\n",
    "df_lN_mb = pd.DataFrame(df_lN_mb, index=df_lN.index)\n",
    "pd.DataFrame.to_csv(df_pN_mb_pst, path_data + \"GE_data/processed/imp_genes_LogNorm_MB.csv\")\n",
    "\n",
    "# psi normalized\n",
    "df_pN_mb = mb.mov_avg(np.array(df_pN, dtype=int), wind=w_size)\n",
    "df_pN_mb = pd.DataFrame(df_pN_mb, index=df_pN.index)\n",
    "pd.DataFrame.to_csv(df_pN_mb_pst, path_data + \"GE_data/processed/imp_genes_PsiNorm_MB.csv\")\n"
   ]
  },
  {
   "attachments": {},
   "cell_type": "markdown",
   "metadata": {},
   "source": [
    "# Binarization (Half-max)"
   ]
  },
  {
   "attachments": {},
   "cell_type": "markdown",
   "metadata": {},
   "source": [
    "## LogNorm PST"
   ]
  },
  {
   "cell_type": "code",
   "execution_count": 24,
   "metadata": {},
   "outputs": [
    {
     "data": {
      "image/png": "[encoded data removed]",
      "text/plain": [
       "<Figure size 1440x360 with 1 Axes>"
      ]
     },
     "metadata": {
      "needs_background": "light"
     },
     "output_type": "display_data"
    }
   ],
   "source": [
    "spins_df_lN_pst = funcs_general.binnarization(df_lN_pst, thr=thr, genes_order=genes_order)\n",
    "\n",
    "fun_plotting.raster_plot(np.array(spins_df_lN_pst), 'Discretization of LogNorm data with Pseudotime Order', 1, genes_order[::-1])\n",
    "plt.show()\n",
    "\n",
    "# to save\n",
    "pd.DataFrame.to_csv(spins_df_lN_pst, path_data + \"GE_data/processed/imp_genes_LogNorm_PST_Spins.csv\")\n"
   ]
  },
  {
   "attachments": {},
   "cell_type": "markdown",
   "metadata": {},
   "source": [
    "## PsiNorm MB"
   ]
  },
  {
   "cell_type": "code",
   "execution_count": 25,
   "metadata": {},
   "outputs": [
    {
     "data": {
      "image/png": "[encoded data removed]",
      "text/plain": [
       "<Figure size 1440x360 with 1 Axes>"
      ]
     },
     "metadata": {
      "needs_background": "light"
     },
     "output_type": "display_data"
    }
   ],
   "source": [
    "spins_df_pN_pst = funcs_general.binnarization(df_pN_pst, thr=thr, genes_order=genes_order)\n",
    "\n",
    "fun_plotting.raster_plot(np.array(spins_df_pN_pst), 'Discretization of PsiNorm data with Pseudotime Order', 1, genes_order[::-1])\n",
    "plt.show()\n",
    "\n",
    "# to save\n",
    "pd.DataFrame.to_csv(spins_df_pN_pst, path_data + \"GE_data/processed/imp_genes_PsiNorm_PST_Spins.csv\")\n"
   ]
  },
  {
   "attachments": {},
   "cell_type": "markdown",
   "metadata": {},
   "source": [
    "## LogNorm PST MB"
   ]
  },
  {
   "cell_type": "code",
   "execution_count": 26,
   "metadata": {},
   "outputs": [
    {
     "data": {
      "image/png": "[encoded data removed]",
      "text/plain": [
       "<Figure size 1440x360 with 1 Axes>"
      ]
     },
     "metadata": {
      "needs_background": "light"
     },
     "output_type": "display_data"
    }
   ],
   "source": [
    "spins_df_lN_mb_pst = funcs_general.binnarization(df_lN_mb_pst, thr=thr, genes_order=genes_order)\n",
    "\n",
    "fun_plotting.raster_plot(np.array(spins_df_lN_mb_pst), 'Discretization of LogNorm data with Pseudotime Order', 1, genes_order[::-1])\n",
    "plt.show()\n",
    "\n",
    "# to save\n",
    "pd.DataFrame.to_csv(spins_df_lN_mb_pst, path_data + \"GE_data/processed/imp_genes_LogNorm_PST_MB_Spins.csv\")\n"
   ]
  },
  {
   "cell_type": "markdown",
   "metadata": {},
   "source": [
    "## PsiNorm PST MB"
   ]
  },
  {
   "cell_type": "code",
   "execution_count": 27,
   "metadata": {},
   "outputs": [
    {
     "data": {
      "image/png": "[encoded data removed]",
      "text/plain": [
       "<Figure size 1440x360 with 1 Axes>"
      ]
     },
     "metadata": {
      "needs_background": "light"
     },
     "output_type": "display_data"
    }
   ],
   "source": [
    "spins_df_pN_mb_pst = funcs_general.binnarization(df_pN_mb_pst, thr=thr, genes_order=genes_order)\n",
    "fun_plotting.raster_plot(np.array(spins_df_pN_mb_pst), 'Discretization of PsiNorm data with Pseudotime Order', 1, genes_order[::-1])\n",
    "plt.show()\n",
    "\n",
    "# to save\n",
    "pd.DataFrame.to_csv(spins_df_pN_mb_pst, path_data + \"GE_data/processed/imp_genes_PsiNorm_PST_MB_Spins.csv\")\n"
   ]
  },
  {
   "cell_type": "markdown",
   "metadata": {},
   "source": [
    "# Randomization"
   ]
  },
  {
   "cell_type": "code",
   "execution_count": 28,
   "metadata": {},
   "outputs": [],
   "source": [
    "Ntest = 50"
   ]
  },
  {
   "cell_type": "markdown",
   "metadata": {},
   "source": [
    "## LogNorm PST MB"
   ]
  },
  {
   "cell_type": "code",
   "execution_count": 29,
   "metadata": {},
   "outputs": [],
   "source": [
    "N_rows = spins_df_lN_mb_pst.shape[0]\n",
    "N_cols = spins_df_lN_mb_pst.shape[1]\n",
    "\n",
    "# Linearize\n",
    "val_rnd = np.reshape(np.array(spins_df_lN_mb_pst), (N_cols*N_rows))\n",
    "\n",
    "# reshuflle for Ntest times\n",
    "spins_df_lN_mb_pst_shuffle = np.zeros((Ntest, N_rows, N_cols))\n",
    "\n",
    "for ii in range(Ntest):\n",
    "    np.random.seed(1234+ii)\n",
    "    # Random reshuffle of the binnarized GE data\n",
    "    np.random.shuffle(val_rnd)\n",
    "    val_rnd_matx = val_rnd.reshape(N_rows,N_cols) # Reshape to the original shape\n",
    "    trial_long = pd.DataFrame(val_rnd_matx)\n",
    "\n",
    "    # Save the shuffled DataFrame\n",
    "    spins_df_lN_mb_pst_shuffle[ii,:,:] = trial_long\n",
    "    \n",
    "# to save\n",
    "np.save(path_data + \"GE_data/processed/imp_genes_LogNorm_PST_MB_Spins_RND50Test.npy\", spins_df_lN_mb_pst_shuffle)\n"
   ]
  },
  {
   "cell_type": "markdown",
   "metadata": {},
   "source": [
    "## PsiNorm PST MB"
   ]
  },
  {
   "cell_type": "code",
   "execution_count": 30,
   "metadata": {},
   "outputs": [],
   "source": [
    "N_rows = spins_df_pN_mb_pst.shape[0]\n",
    "N_cols = spins_df_pN_mb_pst.shape[1]\n",
    "\n",
    "# Linearize\n",
    "val_rnd = np.reshape(np.array(spins_df_pN_mb_pst), (N_cols*N_rows))\n",
    "\n",
    "# reshuflle for Ntest times\n",
    "spins_df_pN_mb_pst_shuffle = np.zeros((Ntest, N_rows, N_cols))\n",
    "\n",
    "for ii in range(Ntest):\n",
    "    np.random.seed(1234+ii)\n",
    "    np.random.shuffle(val_rnd) # Random reshuffle of the binnarized GE data\n",
    "    val_rnd_matx = val_rnd.reshape(N_rows,N_cols) # Reshape to the original shape\n",
    "    trial_long = pd.DataFrame(val_rnd_matx) # Convert to DataFrame\n",
    "\n",
    "    # Save the shuffled DataFrame\n",
    "    spins_df_pN_mb_pst_shuffle[ii,:,:] = trial_long     # Save the shuffled DataFrame\n",
    "    \n",
    "    \n",
    "# to save\n",
    "np.save(path_data + \"GE_data/processed/imp_genes_PsiNorm_PST_MB_Spins_RND50Test.npy\", spins_df_pN_mb_pst_shuffle)\n",
    "\n"
   ]
  },
  {
   "cell_type": "code",
   "execution_count": 31,
   "metadata": {},
   "outputs": [
    {
     "name": "stdout",
     "output_type": "stream",
     "text": [
      "0.0\n",
      "0.0\n"
     ]
    }
   ],
   "source": [
    "check=True\n",
    "if check:\n",
    "    # Check the reshuffle\n",
    "    print(funcs_general.check_shuffle(spins_df_lN_mb_pst_shuffle, Ntest))\n",
    "    print(funcs_general.check_shuffle(spins_df_pN_mb_pst_shuffle, Ntest))\n",
    "    \n",
    "    # zero expected if everithing is working fine"
   ]
  },
  {
   "cell_type": "code",
   "execution_count": 32,
   "metadata": {
    "scrolled": true
   },
   "outputs": [],
   "source": [
    "show = False\n",
    "if show:\n",
    "    for ii in range(0, Ntest, 60):\n",
    "            fun_plotting.raster_plot(np.array(spins_df_lN_mb_pst_shuffle[ii,:,:]), 'Discretization of LogNorm data with PST - RND '+str(ii+1), 1, genes_order[::-1])\n",
    "            plt.show()    \n",
    "            fun_plotting.raster_plot(np.array(spins_df_pN_mb_pst_shuffle[ii,:,:]), 'Discretization of PsiNorm data with PST - RND '+str(ii+1), 1, genes_order[::-1])\n",
    "            plt.show() \n",
    "\n"
   ]
  }
 ],
 "metadata": {
  "kernelspec": {
   "display_name": "Python 3 (ipykernel)",
   "language": "python",
   "name": "python3"
  },
  "language_info": {
   "codemirror_mode": {
    "name": "ipython",
    "version": 3
   },
   "file_extension": ".py",
   "mimetype": "text/x-python",
   "name": "python",
   "nbconvert_exporter": "python",
   "pygments_lexer": "ipython3",
   "version": "3.9.7"
  },
  "latex_envs": {
   "LaTeX_envs_menu_present": true,
   "autoclose": true,
   "autocomplete": true,
   "bibliofile": "biblio.bib",
   "cite_by": "apalike",
   "current_citInitial": 1,
   "eqLabelWithNumbers": true,
   "eqNumInitial": 1,
   "hotkeys": {
    "equation": "Ctrl-E",
    "itemize": "Ctrl-I"
   },
   "labels_anchors": false,
   "latex_user_defs": false,
   "report_style_numbering": false,
   "user_envs_cfg": false
  },
  "toc": {
   "base_numbering": 1,
   "nav_menu": {},
   "number_sections": true,
   "sideBar": true,
   "skip_h1_title": false,
   "title_cell": "Table of Contents",
   "title_sidebar": "Contents",
   "toc_cell": false,
   "toc_position": {
    "height": "calc(100% - 180px)",
    "left": "10px",
    "top": "150px",
    "width": "223.949px"
   },
   "toc_section_display": true,
   "toc_window_display": true
  }
 },
 "nbformat": 4,
 "nbformat_minor": 4
}
