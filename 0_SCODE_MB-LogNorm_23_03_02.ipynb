{
 "cells": [
  {
   "cell_type": "code",
   "execution_count": 1,
   "metadata": {},
   "outputs": [
    {
     "name": "stdout",
     "output_type": "stream",
     "text": [
      "Last run date: 2023-03-08\n"
     ]
    }
   ],
   "source": [
    "from datetime import date\n",
    "\n",
    "print(\"Last run date:\", date.today())"
   ]
  },
  {
   "cell_type": "code",
   "execution_count": 2,
   "metadata": {},
   "outputs": [],
   "source": [
    "import pandas as pd\n",
    "import numpy as np\n",
    "import matplotlib.pyplot as plt\n",
    "import scipy as sp\n",
    "from scipy import stats\n",
    "import os\n",
    "import matplotlib\n",
    "import math\n",
    "import seaborn as sns\n",
    "\n",
    "import lib.minibulk_funcs as mb\n",
    "import lib.figs_funcs as figfunc\n",
    "import lib.matx_funcs as matxfunc\n",
    "import lib.fun_plotting as fun_plotting\n",
    "\n",
    "import lib.NetAnalysis as na\n",
    "import lib.funcs_ko as funcs_ko\n",
    "\n",
    "%load_ext autoreload\n",
    "%autoreload 2"
   ]
  },
  {
   "cell_type": "code",
   "execution_count": 3,
   "metadata": {},
   "outputs": [],
   "source": [
    "matplotlib.rc('font', **{'family': 'serif', 'serif': ['Computer Modern']})\n",
    "matplotlib.rc('text', usetex=True)"
   ]
  },
  {
   "cell_type": "code",
   "execution_count": 4,
   "metadata": {},
   "outputs": [
    {
     "data": {
      "text/plain": [
       "'/Users/cleliacorridori/Dropbox_2021 Dropbox/Jorah Mormont/GRN_Inference/GRN_Inference_CODE'"
      ]
     },
     "execution_count": 4,
     "metadata": {},
     "output_type": "execute_result"
    }
   ],
   "source": [
    "import os\n",
    "current_path = os.getcwd()\n",
    "current_path"
   ]
  },
  {
   "cell_type": "code",
   "execution_count": 5,
   "metadata": {},
   "outputs": [],
   "source": [
    "path = \"/Users/cleliacorridori/Dropbox_2021 Dropbox/Jorah Mormont/GRN_Inference/\" # for Mac\n",
    "path_data = path+\"DATA/\""
   ]
  },
  {
   "cell_type": "code",
   "execution_count": 6,
   "metadata": {},
   "outputs": [
    {
     "data": {
      "text/plain": [
       "array(['Klf4', 'Klf2', 'Esrrb', 'Tfcp2l1', 'Tbx3', 'Stat3', 'Tcf7l1',\n",
       "       'Nanog', 'Sall4', 'Pou5f1', 'Sox2', 'Dnmt3a', 'Dnmt3b', 'Utf1',\n",
       "       'Otx2', 'Etv5', 'Etv4', 'Nr0b1', 'Zic3', 'Lef1', 'Tcf15', 'Gbx2',\n",
       "       'Pou3f1', 'Rbpj'], dtype='<U7')"
      ]
     },
     "execution_count": 6,
     "metadata": {},
     "output_type": "execute_result"
    }
   ],
   "source": [
    "imp_genes = np.loadtxt(path_data+\"general_info/imp_genes.csv\", dtype=\"str\")\n",
    "imp_genes"
   ]
  },
  {
   "cell_type": "code",
   "execution_count": 7,
   "metadata": {},
   "outputs": [
    {
     "name": "stdout",
     "output_type": "stream",
     "text": [
      "imp_genes_raw\n"
     ]
    }
   ],
   "source": [
    "data_type = \"raw\" # Or  \"PsiNorm\"\n",
    "important_genes = True\n",
    "\n",
    "if important_genes == True:\n",
    "    text = \"imp_genes_\"+data_type\n",
    "else:\n",
    "    text = data_type\n",
    "        \n",
    "print(text)"
   ]
  },
  {
   "cell_type": "code",
   "execution_count": 8,
   "metadata": {},
   "outputs": [],
   "source": [
    "# GENE CLASSIFICATION\n",
    "naive = [\"Klf4\", \"Klf2\", \"Esrrb\", \"Tfcp2l1\", \"Tbx3\", \"Stat3\", \"Nanog\", \"Sox2\"]\n",
    "formative = [\"Nr0b1\", \"Zic3\", \"Rbpj\", \"Utf1\", \"Etv4\", \"Tcf15\"]\n",
    "committed = [\"Dnmt3a\", \"Dnmt3b\", \"Lef1\", \"Otx2\", \"Pou3f1\", \"Etv5\"]\n",
    "\n",
    "genes_order = np.concatenate((naive, formative, committed))\n",
    "nc_genes = np.setdiff1d(imp_genes, genes_order)\n",
    "genes_order = np.concatenate((genes_order, nc_genes))"
   ]
  },
  {
   "cell_type": "markdown",
   "metadata": {},
   "source": [
    "Fissiamo la threshold per calcolare il Mini-bulk"
   ]
  },
  {
   "cell_type": "code",
   "execution_count": 9,
   "metadata": {},
   "outputs": [],
   "source": [
    "w_size = 150\n"
   ]
  },
  {
   "cell_type": "markdown",
   "metadata": {},
   "source": [
    "# Check on Knrown interactions"
   ]
  },
  {
   "cell_type": "code",
   "execution_count": 10,
   "metadata": {},
   "outputs": [],
   "source": [
    "def TP_check(interaction_list, interaction_matrix, genes_list, inferred_int_thr = 0, Norm = True):\n",
    "    \"\"\"\n",
    "    NOTE: for not symmetric interaction_matrix:\n",
    "    - rows: who undergoes the action;\n",
    "    -columns: who acts.\n",
    "    NOTE: to read the input interaction_list:\n",
    "    - couple[0] : who acts;\n",
    "    - couple[1] : who undergoes the action.\n",
    "    \n",
    "    NOTE: inferred_int_thr is computed as fraction of max(interaction_matrix) \n",
    "    \"\"\"\n",
    "    if Norm:\n",
    "        m_max = np.max(np.abs(interaction_matrix))\n",
    "    else:\n",
    "        m_max = 1\n",
    "    \n",
    "    true_positive=0\n",
    "    int_val = np.zeros(len(interaction_list))\n",
    "    wrong_ints = []\n",
    "    out_matx = np.zeros((4, len(interaction_list)))\n",
    "    \n",
    "    for ii in range(len(interaction_list)): # split the list of strings\n",
    "        couple = interaction_list[ii].split(\" \")\n",
    "        gene1_idx = np.where(genes_list == couple[1])[0] #idx of gene 1\n",
    "        gene0_idx = np.where(genes_list == couple[0])[0] #idx of gene 0  \n",
    "        \n",
    "        # check if the interaction's genes already exist:\n",
    "        if (len(np.where(genes_list == couple[0])[0])==0):\n",
    "            print(\"Gene \"+ couple[0]+\" not found\")\n",
    "            continue\n",
    "        if (len(np.where(genes_list == couple[1])[0])==0):\n",
    "            print(\"Gene \"+ couple[1]+\" not found\")\n",
    "            continue\n",
    "            \n",
    "        # the subjects of the interaction\n",
    "        out_matx[0,ii] = gene0_idx # who acts\n",
    "        out_matx[1,ii] = gene1_idx # who acts\n",
    "  \n",
    "        # the interaction value (and the sign of the interaction)\n",
    "        out_matx[2,ii] = interaction_matrix[gene1_idx[0], gene0_idx[0]]\n",
    "        interaction = np.sign(out_matx[2,ii])\n",
    "\n",
    "        if (interaction==int(couple[2])) and (np.abs(out_matx[2,ii])/m_max >= inferred_int_thr):\n",
    "            out_matx[3,ii] = 1\n",
    "        else:\n",
    "            out_matx[3,ii] = 0\n",
    "\n",
    "    return(np.sum(out_matx[3,:])/len(out_matx[3,:]), out_matx)\n",
    "        "
   ]
  },
  {
   "cell_type": "code",
   "execution_count": 11,
   "metadata": {},
   "outputs": [],
   "source": [
    "def TP_plot(interaction_list, interaction_matrix, genes_order, inferred_int_thr=0, Norm_Matx = False,\n",
    "            data_type=\"scRNA-seq PST MB\", \n",
    "            figplot=True, nbin=30, \n",
    "            verbose=False, Norm=True):\n",
    "    \"\"\"Wrap function to visualize all the results of the comparison with the known interactions (TP)\"\"\"\n",
    "    \n",
    "    if Norm_Matx:\n",
    "        interaction_matrix= interaction_matrix/np.nanmax(np.abs(interaction_matrix))\n",
    "\n",
    "    # Check the list of known interactions correctly inferred\n",
    "    TP_fraction, TP_info = TP_check(interaction_list, interaction_matrix, genes_order, inferred_int_thr, Norm=Norm)\n",
    "    \n",
    "    # Print the fraction of true positives and the TP and all interaction values:\n",
    "    if verbose==True:\n",
    "        print(\"\\nRESULTS for \" + data_type)\n",
    "        print(\"\\nTP fraction:\", np.round(TP_fraction, 2))\n",
    "        print(\"\\nInteraction values:\\n\", np.round(TP_info[2,:],3))\n",
    "        print(\"\\nTP ints values:\\n\", np.round(TP_info[2,:]*TP_info[3,:],3))\n",
    "    \n",
    "    # If the figplot flag is set to True, plot the matrix and the distribution of the INTERACTION MATRIX\n",
    "    if figplot==True:\n",
    "        bins = np.linspace(interaction_matrix.flatten().min(), interaction_matrix.flatten().max(), nbin)\n",
    "        fig, ax = plt.subplots(nrows=1, ncols=2, figsize=(14, 5))\n",
    "        figfunc.plotmat(interaction_matrix, fig, ax[0], genes_order, data_type+\"\")\n",
    "        sns.histplot(np.ndarray.flatten(interaction_matrix), ax=ax[1], stat=\"density\", bins=bins)\n",
    "        plt.show()\n",
    "        \n",
    "    return(TP_fraction, TP_info, interaction_matrix)\n"
   ]
  },
  {
   "cell_type": "markdown",
   "metadata": {},
   "source": [
    "## Neighbours interactions"
   ]
  },
  {
   "cell_type": "code",
   "execution_count": 12,
   "metadata": {},
   "outputs": [],
   "source": [
    "TPtrial_list = [\"Stat3 Klf4 1\", \"Nanog Esrrb 1\", \"Stat3 Dnmt3b -1\", \n",
    "                \"Nanog Otx2 -1\", \"Nanog Pou3f1 -1\",\n",
    "                \"Stat3 Gbx2 1\", \"Stat3 Tfcp2l1 1\", # \"Stat3 Stat3 1\"\n",
    "                \"Otx2 Pou3f1 1\", \"Otx2 Dnmt3a 1\", \n",
    "                \"Tcf7l1 Esrrb -1\", \"Tcf7l1 Klf2 -1\", \"Tcf7l1 Nanog -1\", \"Tcf7l1 Nr0b1 -1\",  \"Tcf7l1 Tfcp2l1 -1\",  \n",
    "                \"Rbpj Nanog -1\", \"Rbpj Tbx3 -1\", \"Etv5 Lef1 1\", \"Etv5 Pou3f1 1\"]\n"
   ]
  },
  {
   "cell_type": "markdown",
   "metadata": {},
   "source": [
    "## Directed correlations"
   ]
  },
  {
   "cell_type": "code",
   "execution_count": 13,
   "metadata": {},
   "outputs": [],
   "source": [
    "df_KO_N24_Leeb_cl = pd.read_csv(path_data+'Leeb_Data_Orig/df_KO_N24_cleaned.csv', index_col=0, header=0)"
   ]
  },
  {
   "cell_type": "markdown",
   "metadata": {},
   "source": [
    "# SCODE"
   ]
  },
  {
   "cell_type": "code",
   "execution_count": 14,
   "metadata": {},
   "outputs": [],
   "source": [
    "# data_PST = pd.read_csv(\"~/Downloads/SCODE-master/MyData/timePST.txt\", sep=\"\\t\", header=None)\n",
    "\n",
    "# data_LN = pd.read_csv(\"~/Downloads/SCODE-master/MyData/data_LN.txt\", sep=\"\\t\", header=None)\n",
    "\n",
    "# data_PST.shape\n",
    "# data_LN.shape"
   ]
  },
  {
   "cell_type": "code",
   "execution_count": 15,
   "metadata": {},
   "outputs": [
    {
     "data": {
      "text/html": [
       "<div>\n",
       "<style scoped>\n",
       "    .dataframe tbody tr th:only-of-type {\n",
       "        vertical-align: middle;\n",
       "    }\n",
       "\n",
       "    .dataframe tbody tr th {\n",
       "        vertical-align: top;\n",
       "    }\n",
       "\n",
       "    .dataframe thead th {\n",
       "        text-align: right;\n",
       "    }\n",
       "</style>\n",
       "<table border=\"1\" class=\"dataframe\">\n",
       "  <thead>\n",
       "    <tr style=\"text-align: right;\">\n",
       "      <th></th>\n",
       "      <th>AAACCCAGTGACCGTC</th>\n",
       "      <th>AAACGAAAGCGCGTTC</th>\n",
       "      <th>AAACGAACAAGCACCC</th>\n",
       "      <th>AAACGAATCAAGTCGT</th>\n",
       "      <th>AAACGCTTCCGTGACG</th>\n",
       "      <th>AAAGAACGTCAGATTC</th>\n",
       "      <th>AAAGAACTCACTTGTT</th>\n",
       "      <th>AAAGGATCAAATCAAG</th>\n",
       "      <th>AAAGGATTCTGAACGT</th>\n",
       "      <th>AAAGGGCAGCAGGCAT</th>\n",
       "      <th>...</th>\n",
       "      <th>TTTGACTGTCAGCTTA</th>\n",
       "      <th>TTTGACTGTGTTATCG</th>\n",
       "      <th>TTTGACTTCGCCACTT</th>\n",
       "      <th>TTTGATCGTTCTCCAC</th>\n",
       "      <th>TTTGGTTAGAGAGCGG</th>\n",
       "      <th>TTTGGTTGTGATCATC</th>\n",
       "      <th>TTTGGTTTCACGGGCT</th>\n",
       "      <th>TTTGGTTTCCAACACA</th>\n",
       "      <th>TTTGTTGCATCGAAGG</th>\n",
       "      <th>TTTGTTGCATCTCATT</th>\n",
       "    </tr>\n",
       "    <tr>\n",
       "      <th>1.1</th>\n",
       "      <th></th>\n",
       "      <th></th>\n",
       "      <th></th>\n",
       "      <th></th>\n",
       "      <th></th>\n",
       "      <th></th>\n",
       "      <th></th>\n",
       "      <th></th>\n",
       "      <th></th>\n",
       "      <th></th>\n",
       "      <th></th>\n",
       "      <th></th>\n",
       "      <th></th>\n",
       "      <th></th>\n",
       "      <th></th>\n",
       "      <th></th>\n",
       "      <th></th>\n",
       "      <th></th>\n",
       "      <th></th>\n",
       "      <th></th>\n",
       "      <th></th>\n",
       "    </tr>\n",
       "  </thead>\n",
       "  <tbody>\n",
       "    <tr>\n",
       "      <th>Klf4</th>\n",
       "      <td>1.624017</td>\n",
       "      <td>1.427111</td>\n",
       "      <td>0.000000</td>\n",
       "      <td>0.843545</td>\n",
       "      <td>2.582635</td>\n",
       "      <td>1.825359</td>\n",
       "      <td>0.000000</td>\n",
       "      <td>1.162685</td>\n",
       "      <td>1.708780</td>\n",
       "      <td>0.000000</td>\n",
       "      <td>...</td>\n",
       "      <td>0.0</td>\n",
       "      <td>1.628406</td>\n",
       "      <td>1.075557</td>\n",
       "      <td>0.0</td>\n",
       "      <td>0.0</td>\n",
       "      <td>0.0</td>\n",
       "      <td>0.000000</td>\n",
       "      <td>0.000000</td>\n",
       "      <td>0.0</td>\n",
       "      <td>0.000000</td>\n",
       "    </tr>\n",
       "    <tr>\n",
       "      <th>Klf2</th>\n",
       "      <td>1.624017</td>\n",
       "      <td>0.000000</td>\n",
       "      <td>1.436316</td>\n",
       "      <td>1.372344</td>\n",
       "      <td>0.000000</td>\n",
       "      <td>1.430803</td>\n",
       "      <td>2.483172</td>\n",
       "      <td>2.237629</td>\n",
       "      <td>1.093845</td>\n",
       "      <td>1.716736</td>\n",
       "      <td>...</td>\n",
       "      <td>0.0</td>\n",
       "      <td>2.048784</td>\n",
       "      <td>1.075557</td>\n",
       "      <td>0.0</td>\n",
       "      <td>0.0</td>\n",
       "      <td>0.0</td>\n",
       "      <td>2.317913</td>\n",
       "      <td>0.000000</td>\n",
       "      <td>0.0</td>\n",
       "      <td>1.692006</td>\n",
       "    </tr>\n",
       "    <tr>\n",
       "      <th>Esrrb</th>\n",
       "      <td>0.000000</td>\n",
       "      <td>1.427111</td>\n",
       "      <td>0.000000</td>\n",
       "      <td>1.372344</td>\n",
       "      <td>1.413292</td>\n",
       "      <td>0.000000</td>\n",
       "      <td>0.000000</td>\n",
       "      <td>1.162685</td>\n",
       "      <td>0.000000</td>\n",
       "      <td>0.000000</td>\n",
       "      <td>...</td>\n",
       "      <td>0.0</td>\n",
       "      <td>1.032705</td>\n",
       "      <td>0.000000</td>\n",
       "      <td>0.0</td>\n",
       "      <td>0.0</td>\n",
       "      <td>0.0</td>\n",
       "      <td>1.219525</td>\n",
       "      <td>0.960339</td>\n",
       "      <td>0.0</td>\n",
       "      <td>0.000000</td>\n",
       "    </tr>\n",
       "  </tbody>\n",
       "</table>\n",
       "<p>3 rows × 9894 columns</p>\n",
       "</div>"
      ],
      "text/plain": [
       "       AAACCCAGTGACCGTC  AAACGAAAGCGCGTTC  AAACGAACAAGCACCC  AAACGAATCAAGTCGT  \\\n",
       "1.1                                                                             \n",
       "Klf4           1.624017          1.427111          0.000000          0.843545   \n",
       "Klf2           1.624017          0.000000          1.436316          1.372344   \n",
       "Esrrb          0.000000          1.427111          0.000000          1.372344   \n",
       "\n",
       "       AAACGCTTCCGTGACG  AAAGAACGTCAGATTC  AAAGAACTCACTTGTT  AAAGGATCAAATCAAG  \\\n",
       "1.1                                                                             \n",
       "Klf4           2.582635          1.825359          0.000000          1.162685   \n",
       "Klf2           0.000000          1.430803          2.483172          2.237629   \n",
       "Esrrb          1.413292          0.000000          0.000000          1.162685   \n",
       "\n",
       "       AAAGGATTCTGAACGT  AAAGGGCAGCAGGCAT  ...  TTTGACTGTCAGCTTA  \\\n",
       "1.1                                        ...                     \n",
       "Klf4           1.708780          0.000000  ...               0.0   \n",
       "Klf2           1.093845          1.716736  ...               0.0   \n",
       "Esrrb          0.000000          0.000000  ...               0.0   \n",
       "\n",
       "       TTTGACTGTGTTATCG  TTTGACTTCGCCACTT  TTTGATCGTTCTCCAC  TTTGGTTAGAGAGCGG  \\\n",
       "1.1                                                                             \n",
       "Klf4           1.628406          1.075557               0.0               0.0   \n",
       "Klf2           2.048784          1.075557               0.0               0.0   \n",
       "Esrrb          1.032705          0.000000               0.0               0.0   \n",
       "\n",
       "       TTTGGTTGTGATCATC  TTTGGTTTCACGGGCT  TTTGGTTTCCAACACA  TTTGTTGCATCGAAGG  \\\n",
       "1.1                                                                             \n",
       "Klf4                0.0          0.000000          0.000000               0.0   \n",
       "Klf2                0.0          2.317913          0.000000               0.0   \n",
       "Esrrb               0.0          1.219525          0.960339               0.0   \n",
       "\n",
       "       TTTGTTGCATCTCATT  \n",
       "1.1                      \n",
       "Klf4           0.000000  \n",
       "Klf2           1.692006  \n",
       "Esrrb          0.000000  \n",
       "\n",
       "[3 rows x 9894 columns]"
      ]
     },
     "execution_count": 15,
     "metadata": {},
     "output_type": "execute_result"
    }
   ],
   "source": [
    "df_lN = pd.read_csv(path_data + \"GE_data/imp_genes_logNorm.csv\", header=0, index_col=0, sep=\",\").reindex(genes_order)\n",
    "df_lN.head(3)\n",
    "\n"
   ]
  },
  {
   "cell_type": "markdown",
   "metadata": {},
   "source": [
    "## PST"
   ]
  },
  {
   "cell_type": "code",
   "execution_count": 16,
   "metadata": {},
   "outputs": [
    {
     "data": {
      "text/html": [
       "<div>\n",
       "<style scoped>\n",
       "    .dataframe tbody tr th:only-of-type {\n",
       "        vertical-align: middle;\n",
       "    }\n",
       "\n",
       "    .dataframe tbody tr th {\n",
       "        vertical-align: top;\n",
       "    }\n",
       "\n",
       "    .dataframe thead th {\n",
       "        text-align: right;\n",
       "    }\n",
       "</style>\n",
       "<table border=\"1\" class=\"dataframe\">\n",
       "  <thead>\n",
       "    <tr style=\"text-align: right;\">\n",
       "      <th></th>\n",
       "      <th>barcodes</th>\n",
       "      <th>time</th>\n",
       "      <th>pst</th>\n",
       "    </tr>\n",
       "  </thead>\n",
       "  <tbody>\n",
       "    <tr>\n",
       "      <th>3696</th>\n",
       "      <td>CGGGACTTCGGCTCTT</td>\n",
       "      <td>00h</td>\n",
       "      <td>0.0</td>\n",
       "    </tr>\n",
       "    <tr>\n",
       "      <th>89</th>\n",
       "      <td>AAAGTGACAGGTGGAT</td>\n",
       "      <td>00h</td>\n",
       "      <td>0.0</td>\n",
       "    </tr>\n",
       "    <tr>\n",
       "      <th>4382</th>\n",
       "      <td>CTGTACCTCCGCACTT</td>\n",
       "      <td>00h</td>\n",
       "      <td>0.0</td>\n",
       "    </tr>\n",
       "  </tbody>\n",
       "</table>\n",
       "</div>"
      ],
      "text/plain": [
       "              barcodes time  pst\n",
       "3696  CGGGACTTCGGCTCTT  00h  0.0\n",
       "89    AAAGTGACAGGTGGAT  00h  0.0\n",
       "4382  CTGTACCTCCGCACTT  00h  0.0"
      ]
     },
     "execution_count": 16,
     "metadata": {},
     "output_type": "execute_result"
    },
    {
     "data": {
      "image/png": "[encoded data removed]",
      "text/plain": [
       "<Figure size 576x360 with 1 Axes>"
      ]
     },
     "metadata": {
      "needs_background": "light"
     },
     "output_type": "display_data"
    }
   ],
   "source": [
    "pst_df = pd.read_csv(path_data+'input_data/cellinfo_pseudotime_3no2CLC_22_09_22.txt',\n",
    "                              header = 0, sep = ' ', quotechar = '\"', \n",
    "                              names = [\"barcodes\", \"time\", \"pst\"])\n",
    "\n",
    "\n",
    "\n",
    "#riordino\n",
    "pst_df = pst_df.sort_values(by=['pst'])\n",
    "\n",
    "#plot different times\n",
    "plt.figure(figsize=(8,5))\n",
    "sns.histplot(data=pst_df, x=\"pst\", hue=\"time\", stat=\"density\")\n",
    "\n",
    "column_names = pst_df[\"barcodes\"]\n",
    "\n",
    "pst_df.head(3)"
   ]
  },
  {
   "cell_type": "code",
   "execution_count": 17,
   "metadata": {},
   "outputs": [
    {
     "data": {
      "text/html": [
       "<div>\n",
       "<style scoped>\n",
       "    .dataframe tbody tr th:only-of-type {\n",
       "        vertical-align: middle;\n",
       "    }\n",
       "\n",
       "    .dataframe tbody tr th {\n",
       "        vertical-align: top;\n",
       "    }\n",
       "\n",
       "    .dataframe thead th {\n",
       "        text-align: right;\n",
       "    }\n",
       "</style>\n",
       "<table border=\"1\" class=\"dataframe\">\n",
       "  <thead>\n",
       "    <tr style=\"text-align: right;\">\n",
       "      <th>barcodes</th>\n",
       "      <th>GGCGTCAGTCAACGCC</th>\n",
       "      <th>CTCATGCGTCAGGTAG</th>\n",
       "      <th>CTGCCATAGACCGCCT</th>\n",
       "      <th>AGCCAATCAAATCAGA</th>\n",
       "      <th>CGGGTCATCTGGAGAG</th>\n",
       "      <th>TCATTTGTCATCGGGC</th>\n",
       "      <th>AGCATCAAGTACTGGG</th>\n",
       "      <th>ATTCAGGTCGGTTAGT</th>\n",
       "      <th>TCGATTTTCAATCCGA</th>\n",
       "      <th>TATCCTACATAGGTTC</th>\n",
       "      <th>...</th>\n",
       "      <th>TTTGACTTCGCCACTT</th>\n",
       "      <th>GCCATTCTCATTCACT</th>\n",
       "      <th>GAAACCTGTTGTGCCG</th>\n",
       "      <th>CAACCAAAGCCTCACG</th>\n",
       "      <th>TCCTCTTTCGTCCATC</th>\n",
       "      <th>CTAACCCCACAATGCT</th>\n",
       "      <th>CCACACTCACACCAGC</th>\n",
       "      <th>CACGTTCAGCCGAACA</th>\n",
       "      <th>TGATTCTTCCGTTTCG</th>\n",
       "      <th>CTTGATTCACCATTCC</th>\n",
       "    </tr>\n",
       "    <tr>\n",
       "      <th>1.1</th>\n",
       "      <th></th>\n",
       "      <th></th>\n",
       "      <th></th>\n",
       "      <th></th>\n",
       "      <th></th>\n",
       "      <th></th>\n",
       "      <th></th>\n",
       "      <th></th>\n",
       "      <th></th>\n",
       "      <th></th>\n",
       "      <th></th>\n",
       "      <th></th>\n",
       "      <th></th>\n",
       "      <th></th>\n",
       "      <th></th>\n",
       "      <th></th>\n",
       "      <th></th>\n",
       "      <th></th>\n",
       "      <th></th>\n",
       "      <th></th>\n",
       "      <th></th>\n",
       "    </tr>\n",
       "  </thead>\n",
       "  <tbody>\n",
       "    <tr>\n",
       "      <th>Klf4</th>\n",
       "      <td>1.237182</td>\n",
       "      <td>1.233101</td>\n",
       "      <td>1.243267</td>\n",
       "      <td>1.243267</td>\n",
       "      <td>1.258404</td>\n",
       "      <td>1.267722</td>\n",
       "      <td>1.283406</td>\n",
       "      <td>1.280832</td>\n",
       "      <td>1.280832</td>\n",
       "      <td>1.278514</td>\n",
       "      <td>...</td>\n",
       "      <td>0.219237</td>\n",
       "      <td>0.219237</td>\n",
       "      <td>0.219237</td>\n",
       "      <td>0.219237</td>\n",
       "      <td>0.219237</td>\n",
       "      <td>0.219237</td>\n",
       "      <td>0.219237</td>\n",
       "      <td>0.219237</td>\n",
       "      <td>0.228717</td>\n",
       "      <td>0.228717</td>\n",
       "    </tr>\n",
       "    <tr>\n",
       "      <th>Klf2</th>\n",
       "      <td>1.143295</td>\n",
       "      <td>1.152089</td>\n",
       "      <td>1.142363</td>\n",
       "      <td>1.142363</td>\n",
       "      <td>1.148623</td>\n",
       "      <td>1.156669</td>\n",
       "      <td>1.146918</td>\n",
       "      <td>1.144345</td>\n",
       "      <td>1.160804</td>\n",
       "      <td>1.173730</td>\n",
       "      <td>...</td>\n",
       "      <td>0.603555</td>\n",
       "      <td>0.594118</td>\n",
       "      <td>0.579160</td>\n",
       "      <td>0.579160</td>\n",
       "      <td>0.567149</td>\n",
       "      <td>0.567149</td>\n",
       "      <td>0.561093</td>\n",
       "      <td>0.561093</td>\n",
       "      <td>0.547104</td>\n",
       "      <td>0.538954</td>\n",
       "    </tr>\n",
       "    <tr>\n",
       "      <th>Esrrb</th>\n",
       "      <td>0.279826</td>\n",
       "      <td>0.288620</td>\n",
       "      <td>0.294988</td>\n",
       "      <td>0.287320</td>\n",
       "      <td>0.273908</td>\n",
       "      <td>0.284033</td>\n",
       "      <td>0.296715</td>\n",
       "      <td>0.296715</td>\n",
       "      <td>0.296715</td>\n",
       "      <td>0.296715</td>\n",
       "      <td>...</td>\n",
       "      <td>0.227777</td>\n",
       "      <td>0.227777</td>\n",
       "      <td>0.227777</td>\n",
       "      <td>0.227777</td>\n",
       "      <td>0.227777</td>\n",
       "      <td>0.235784</td>\n",
       "      <td>0.235784</td>\n",
       "      <td>0.244157</td>\n",
       "      <td>0.250020</td>\n",
       "      <td>0.250020</td>\n",
       "    </tr>\n",
       "  </tbody>\n",
       "</table>\n",
       "<p>3 rows × 9547 columns</p>\n",
       "</div>"
      ],
      "text/plain": [
       "barcodes  GGCGTCAGTCAACGCC  CTCATGCGTCAGGTAG  CTGCCATAGACCGCCT  \\\n",
       "1.1                                                              \n",
       "Klf4              1.237182          1.233101          1.243267   \n",
       "Klf2              1.143295          1.152089          1.142363   \n",
       "Esrrb             0.279826          0.288620          0.294988   \n",
       "\n",
       "barcodes  AGCCAATCAAATCAGA  CGGGTCATCTGGAGAG  TCATTTGTCATCGGGC  \\\n",
       "1.1                                                              \n",
       "Klf4              1.243267          1.258404          1.267722   \n",
       "Klf2              1.142363          1.148623          1.156669   \n",
       "Esrrb             0.287320          0.273908          0.284033   \n",
       "\n",
       "barcodes  AGCATCAAGTACTGGG  ATTCAGGTCGGTTAGT  TCGATTTTCAATCCGA  \\\n",
       "1.1                                                              \n",
       "Klf4              1.283406          1.280832          1.280832   \n",
       "Klf2              1.146918          1.144345          1.160804   \n",
       "Esrrb             0.296715          0.296715          0.296715   \n",
       "\n",
       "barcodes  TATCCTACATAGGTTC  ...  TTTGACTTCGCCACTT  GCCATTCTCATTCACT  \\\n",
       "1.1                         ...                                       \n",
       "Klf4              1.278514  ...          0.219237          0.219237   \n",
       "Klf2              1.173730  ...          0.603555          0.594118   \n",
       "Esrrb             0.296715  ...          0.227777          0.227777   \n",
       "\n",
       "barcodes  GAAACCTGTTGTGCCG  CAACCAAAGCCTCACG  TCCTCTTTCGTCCATC  \\\n",
       "1.1                                                              \n",
       "Klf4              0.219237          0.219237          0.219237   \n",
       "Klf2              0.579160          0.579160          0.567149   \n",
       "Esrrb             0.227777          0.227777          0.227777   \n",
       "\n",
       "barcodes  CTAACCCCACAATGCT  CCACACTCACACCAGC  CACGTTCAGCCGAACA  \\\n",
       "1.1                                                              \n",
       "Klf4              0.219237          0.219237          0.219237   \n",
       "Klf2              0.567149          0.561093          0.561093   \n",
       "Esrrb             0.235784          0.235784          0.244157   \n",
       "\n",
       "barcodes  TGATTCTTCCGTTTCG  CTTGATTCACCATTCC  \n",
       "1.1                                           \n",
       "Klf4              0.228717          0.228717  \n",
       "Klf2              0.547104          0.538954  \n",
       "Esrrb             0.250020          0.250020  \n",
       "\n",
       "[3 rows x 9547 columns]"
      ]
     },
     "execution_count": 17,
     "metadata": {},
     "output_type": "execute_result"
    }
   ],
   "source": [
    "mb_wind=150\n",
    "# riordino dataframe \n",
    "df_lN_pst = df_lN.reindex(columns = column_names)\n",
    "\n",
    "df_lN_mb_pst = df_lN_pst.rolling(window=mb_wind, axis=1).mean().dropna(axis=1)\n",
    "df_lN_mb_pst = pd.DataFrame(df_lN_mb_pst, index=df_lN_pst.index)\n",
    "\n",
    "df_lN_mb_pst.head(3)\n",
    "\n"
   ]
  },
  {
   "cell_type": "markdown",
   "metadata": {},
   "source": [
    "### Initial vector for SIMULATION"
   ]
  },
  {
   "cell_type": "code",
   "execution_count": 18,
   "metadata": {},
   "outputs": [],
   "source": [
    "df_lN_mb_pst.iloc[:,:1500].mean(axis=1)\n",
    "\n",
    "\n",
    "# Creating a column of integers from 0 to the length of the series\n",
    "df_saving_index = pd.DataFrame(range(len(genes_order))).set_index(genes_order)\n",
    "\n",
    "# concatenating the series and the index\n",
    "result = pd.concat([df_saving_index, df_lN_mb_pst.iloc[:,:1000].mean(axis=1)], axis=1)\n",
    "result\n",
    "# Saving the resulting DataFrame as a tab-separated text file named 'result.txt'\n",
    "result.to_csv(path_data+\"OUT_SCODE_LN/initial_GE_LogNorm_MB.txt\", sep='\\t', index=False, header=False)\n"
   ]
  },
  {
   "cell_type": "code",
   "execution_count": 19,
   "metadata": {},
   "outputs": [
    {
     "data": {
      "text/html": [
       "<div>\n",
       "<style scoped>\n",
       "    .dataframe tbody tr th:only-of-type {\n",
       "        vertical-align: middle;\n",
       "    }\n",
       "\n",
       "    .dataframe tbody tr th {\n",
       "        vertical-align: top;\n",
       "    }\n",
       "\n",
       "    .dataframe thead th {\n",
       "        text-align: right;\n",
       "    }\n",
       "</style>\n",
       "<table border=\"1\" class=\"dataframe\">\n",
       "  <thead>\n",
       "    <tr style=\"text-align: right;\">\n",
       "      <th></th>\n",
       "      <th>0</th>\n",
       "      <th>1</th>\n",
       "      <th>2</th>\n",
       "      <th>3</th>\n",
       "      <th>4</th>\n",
       "      <th>5</th>\n",
       "      <th>6</th>\n",
       "      <th>7</th>\n",
       "      <th>8</th>\n",
       "      <th>9</th>\n",
       "      <th>...</th>\n",
       "      <th>9537</th>\n",
       "      <th>9538</th>\n",
       "      <th>9539</th>\n",
       "      <th>9540</th>\n",
       "      <th>9541</th>\n",
       "      <th>9542</th>\n",
       "      <th>9543</th>\n",
       "      <th>9544</th>\n",
       "      <th>9545</th>\n",
       "      <th>9546</th>\n",
       "    </tr>\n",
       "  </thead>\n",
       "  <tbody>\n",
       "    <tr>\n",
       "      <th>0</th>\n",
       "      <td>1.237182</td>\n",
       "      <td>1.233101</td>\n",
       "      <td>1.243267</td>\n",
       "      <td>1.243267</td>\n",
       "      <td>1.258404</td>\n",
       "      <td>1.267722</td>\n",
       "      <td>1.283406</td>\n",
       "      <td>1.280832</td>\n",
       "      <td>1.280832</td>\n",
       "      <td>1.278514</td>\n",
       "      <td>...</td>\n",
       "      <td>0.219237</td>\n",
       "      <td>0.219237</td>\n",
       "      <td>0.219237</td>\n",
       "      <td>0.219237</td>\n",
       "      <td>0.219237</td>\n",
       "      <td>0.219237</td>\n",
       "      <td>0.219237</td>\n",
       "      <td>0.219237</td>\n",
       "      <td>0.228717</td>\n",
       "      <td>0.228717</td>\n",
       "    </tr>\n",
       "    <tr>\n",
       "      <th>1</th>\n",
       "      <td>1.143295</td>\n",
       "      <td>1.152089</td>\n",
       "      <td>1.142363</td>\n",
       "      <td>1.142363</td>\n",
       "      <td>1.148623</td>\n",
       "      <td>1.156669</td>\n",
       "      <td>1.146918</td>\n",
       "      <td>1.144345</td>\n",
       "      <td>1.160804</td>\n",
       "      <td>1.173730</td>\n",
       "      <td>...</td>\n",
       "      <td>0.603555</td>\n",
       "      <td>0.594118</td>\n",
       "      <td>0.579160</td>\n",
       "      <td>0.579160</td>\n",
       "      <td>0.567149</td>\n",
       "      <td>0.567149</td>\n",
       "      <td>0.561093</td>\n",
       "      <td>0.561093</td>\n",
       "      <td>0.547104</td>\n",
       "      <td>0.538954</td>\n",
       "    </tr>\n",
       "    <tr>\n",
       "      <th>2</th>\n",
       "      <td>0.279826</td>\n",
       "      <td>0.288620</td>\n",
       "      <td>0.294988</td>\n",
       "      <td>0.287320</td>\n",
       "      <td>0.273908</td>\n",
       "      <td>0.284033</td>\n",
       "      <td>0.296715</td>\n",
       "      <td>0.296715</td>\n",
       "      <td>0.296715</td>\n",
       "      <td>0.296715</td>\n",
       "      <td>...</td>\n",
       "      <td>0.227777</td>\n",
       "      <td>0.227777</td>\n",
       "      <td>0.227777</td>\n",
       "      <td>0.227777</td>\n",
       "      <td>0.227777</td>\n",
       "      <td>0.235784</td>\n",
       "      <td>0.235784</td>\n",
       "      <td>0.244157</td>\n",
       "      <td>0.250020</td>\n",
       "      <td>0.250020</td>\n",
       "    </tr>\n",
       "  </tbody>\n",
       "</table>\n",
       "<p>3 rows × 9547 columns</p>\n",
       "</div>"
      ],
      "text/plain": [
       "       0         1         2         3         4         5         6     \\\n",
       "0  1.237182  1.233101  1.243267  1.243267  1.258404  1.267722  1.283406   \n",
       "1  1.143295  1.152089  1.142363  1.142363  1.148623  1.156669  1.146918   \n",
       "2  0.279826  0.288620  0.294988  0.287320  0.273908  0.284033  0.296715   \n",
       "\n",
       "       7         8         9     ...      9537      9538      9539      9540  \\\n",
       "0  1.280832  1.280832  1.278514  ...  0.219237  0.219237  0.219237  0.219237   \n",
       "1  1.144345  1.160804  1.173730  ...  0.603555  0.594118  0.579160  0.579160   \n",
       "2  0.296715  0.296715  0.296715  ...  0.227777  0.227777  0.227777  0.227777   \n",
       "\n",
       "       9541      9542      9543      9544      9545      9546  \n",
       "0  0.219237  0.219237  0.219237  0.219237  0.228717  0.228717  \n",
       "1  0.567149  0.567149  0.561093  0.561093  0.547104  0.538954  \n",
       "2  0.227777  0.235784  0.235784  0.244157  0.250020  0.250020  \n",
       "\n",
       "[3 rows x 9547 columns]"
      ]
     },
     "execution_count": 19,
     "metadata": {},
     "output_type": "execute_result"
    }
   ],
   "source": [
    "data_LN = df_lN_mb_pst.copy()\n",
    "data_LN.columns = np.arange(0,len(data_LN.columns))\n",
    "data_LN.index = np.arange(0,len(data_LN.index))\n",
    "\n",
    "data_LN.head(3)"
   ]
  },
  {
   "cell_type": "code",
   "execution_count": 20,
   "metadata": {},
   "outputs": [
    {
     "name": "stdout",
     "output_type": "stream",
     "text": [
      "(9547, 2)\n"
     ]
    },
    {
     "data": {
      "text/html": [
       "<div>\n",
       "<style scoped>\n",
       "    .dataframe tbody tr th:only-of-type {\n",
       "        vertical-align: middle;\n",
       "    }\n",
       "\n",
       "    .dataframe tbody tr th {\n",
       "        vertical-align: top;\n",
       "    }\n",
       "\n",
       "    .dataframe thead th {\n",
       "        text-align: right;\n",
       "    }\n",
       "</style>\n",
       "<table border=\"1\" class=\"dataframe\">\n",
       "  <thead>\n",
       "    <tr style=\"text-align: right;\">\n",
       "      <th></th>\n",
       "      <th>time</th>\n",
       "      <th>pst</th>\n",
       "    </tr>\n",
       "  </thead>\n",
       "  <tbody>\n",
       "    <tr>\n",
       "      <th>9542</th>\n",
       "      <td>46</td>\n",
       "      <td>0.977177</td>\n",
       "    </tr>\n",
       "    <tr>\n",
       "      <th>9543</th>\n",
       "      <td>46</td>\n",
       "      <td>0.977482</td>\n",
       "    </tr>\n",
       "    <tr>\n",
       "      <th>9544</th>\n",
       "      <td>46</td>\n",
       "      <td>0.977785</td>\n",
       "    </tr>\n",
       "    <tr>\n",
       "      <th>9545</th>\n",
       "      <td>46</td>\n",
       "      <td>0.978089</td>\n",
       "    </tr>\n",
       "    <tr>\n",
       "      <th>9546</th>\n",
       "      <td>46</td>\n",
       "      <td>0.978392</td>\n",
       "    </tr>\n",
       "  </tbody>\n",
       "</table>\n",
       "</div>"
      ],
      "text/plain": [
       "      time       pst\n",
       "9542    46  0.977177\n",
       "9543    46  0.977482\n",
       "9544    46  0.977785\n",
       "9545    46  0.978089\n",
       "9546    46  0.978392"
      ]
     },
     "execution_count": 20,
     "metadata": {},
     "output_type": "execute_result"
    }
   ],
   "source": [
    "data_PST= pst_df.replace(\"00h\", int(0)).replace(\"06h\", int(6)).replace(\"12h\", int(12)).replace(\"24h\", int(24)).replace(\"48h\", int(48))\n",
    "data_PST = data_PST.iloc[:,1:] #remove Barcodes\n",
    "\n",
    "#normalize pst between 0 and 1\n",
    "data_PST[\"pst\"]=data_PST[\"pst\"]/(data_PST[\"pst\"].max())\n",
    "\n",
    "# rolling average\n",
    "data_PST = data_PST.rolling(window=mb_wind, axis=0).mean().dropna(axis=0)\n",
    "data_PST[\"time\"] = data_PST[\"time\"].astype('int')\n",
    "\n",
    "# rename indices\n",
    "data_PST.index = np.arange(0,len(data_PST.index))\n",
    "print(data_PST.shape)\n",
    "data_PST.tail(5)\n"
   ]
  },
  {
   "cell_type": "markdown",
   "metadata": {},
   "source": [
    "## Check on RSS (100 trials)"
   ]
  },
  {
   "cell_type": "code",
   "execution_count": 21,
   "metadata": {},
   "outputs": [
    {
     "name": "stdout",
     "output_type": "stream",
     "text": [
      "(24, 7638) (24, 1909)\n",
      "(7638, 2) (1909, 2)\n"
     ]
    }
   ],
   "source": [
    "# Train and Test\n",
    "training_data = data_LN.sample(frac=0.8, random_state=2407, replace=False, axis=1)\n",
    "testing_data  = data_LN.drop(training_data.columns, axis=1)\n",
    "\n",
    "training_time = data_PST.loc[training_data.columns, :]\n",
    "testing_time  = data_PST.drop(training_data.columns, axis=0)\n",
    "\n",
    "# print(training_data.shape[1]+testing_data.shape[1])\n",
    "print(training_data.shape, testing_data.shape)\n",
    "print(training_time.shape, testing_time.shape)\n"
   ]
  },
  {
   "cell_type": "code",
   "execution_count": 22,
   "metadata": {},
   "outputs": [],
   "source": [
    "# print(training_data.isnull().sum().sum())\n",
    "# print(testing_data.isnull().sum().sum())\n",
    "# print(training_time.isnull().sum().sum())\n",
    "# print(testing_time.isnull().sum().sum())"
   ]
  },
  {
   "cell_type": "code",
   "execution_count": 23,
   "metadata": {},
   "outputs": [],
   "source": [
    "to_save=False\n",
    "if to_save==True:\n",
    "    training_data.to_csv(r'IN_SCODE/PST_MB/train_data.txt', header=None, index=None, sep='\\t', mode='w')\n",
    "    training_time.to_csv(r'IN_SCODE/PST_MB/train_time.txt', header=None, index=None, sep='\\t', mode='w')\n",
    "\n",
    "    testing_data.to_csv(r'IN_SCODE/PST_MB/test_data.txt', header=None, index=None, sep='\\t', mode='w')\n",
    "    testing_time.to_csv(r'IN_SCODE/PST_MB/test_time.txt', header=None, index=None, sep='\\t', mode='w')"
   ]
  },
  {
   "cell_type": "markdown",
   "metadata": {},
   "source": [
    "# Matrices computation"
   ]
  },
  {
   "cell_type": "code",
   "execution_count": 24,
   "metadata": {
    "scrolled": true
   },
   "outputs": [],
   "source": [
    "# # path1 =  path+\"1_NetworkInference/\"\n",
    "\n",
    "# # Train part with more executions\n",
    "# genes = 24\n",
    "# D = [2,3,4,6,8]\n",
    "# cells_train = 7638\n",
    "# cells_test = 1909\n",
    "# iters = 100\n",
    "# data_GE  = training_data\n",
    "# data_PST = training_time\n",
    "# Nexp=100\n",
    "\n",
    "# for jj in range(len(D)):\n",
    "#     print(\"D: \", D[jj])\n",
    "#     for ii in range(Nexp):\n",
    "#         print(\"Exp \", ii)\n",
    "#         out=\"OUT_SCODE/PST_MB/out_z\"+str(D[jj])+\"/exp_\"+str(ii)\n",
    "# #         if not os.path.isdir(out):\n",
    "# #             os.makedirs(out)\n",
    "#         out_file = \"OUT_SCODE/PST_MB/out_z\"+str(D[jj])+\"/exp_\"+str(ii)+\"/RSS_test.txt\"\n",
    "#         # Train\n",
    "#         ! Rscript ~/Downloads/SCODE-master/SCODE.R /Users/cleliacorridori/Dropbox_2021\\ Dropbox/Jorah\\ Mormont/Code/Work/1_NetworkInference/IN_SCODE/PST_MB/train_data.txt /Users/cleliacorridori/Dropbox_2021\\ Dropbox/Jorah\\ Mormont/Code/Work/1_NetworkInference/IN_SCODE/PST_MB/train_time.txt {out} {genes} {D[jj]} {cells_train} {iters}\n",
    "#         # Test\n",
    "#         ! Rscript ~/Downloads/SCODE-master/RSS.R /Users/cleliacorridori/Dropbox_2021\\ Dropbox/Jorah\\ Mormont/Code/Work/1_NetworkInference/IN_SCODE/PST_MB/test_data.txt /Users/cleliacorridori/Dropbox_2021\\ Dropbox/Jorah\\ Mormont/Code/Work/1_NetworkInference/IN_SCODE/PST_MB/test_time.txt {out} {out_file} {genes} {D[jj]} {cells_test}\n",
    "        \n"
   ]
  },
  {
   "cell_type": "markdown",
   "metadata": {},
   "source": [
    "# From Here to not recompute ALL"
   ]
  },
  {
   "cell_type": "code",
   "execution_count": 25,
   "metadata": {},
   "outputs": [
    {
     "name": "stdout",
     "output_type": "stream",
     "text": [
      "D:  2\n",
      "D:  3\n",
      "D:  4\n",
      "D:  6\n",
      "D:  8\n"
     ]
    }
   ],
   "source": [
    "# Compute D quantile\n",
    "genes = 24\n",
    "D = [2,3,4,6,8]\n",
    "cells_train = 7638\n",
    "cells_test = 1909\n",
    "iters = 100\n",
    "data_GE  = training_data\n",
    "data_PST = training_time\n",
    "Nexp=100\n",
    "\n",
    "RSS_vect = np.zeros((len(D), Nexp))\n",
    "RSS_quantile = np.zeros((3,len(D)))\n",
    "\n",
    "# TP_vect = np.zeros((len(D),Nexp))\n",
    "# TP_max = np.zeros(len(D))\n",
    "# A_tot = np.zeros((genes, genes, len(D)))\n",
    "# A_mean = np.zeros((genes, genes, len(D)))\n",
    "A_sample = np.zeros((genes, genes, len(D), Nexp))\n",
    "for jj in range(len(D)):\n",
    "    print(\"D: \", D[jj])\n",
    "    for ii in range(Nexp):\n",
    "        out=       path_data+\"OUT_SCODE_LN/PST_MB/out_z\"+str(D[jj])+\"/exp_\"+str(ii)\n",
    "        out_file = path_data+\"OUT_SCODE_LN/PST_MB/out_z\"+str(D[jj])+\"/exp_\"+str(ii)+\"/RSS_test.txt\"\n",
    "        RSS_vect[jj,ii] = np.array(pd.read_csv(out_file, sep=\"\\t\", header=None))\n",
    "#         print(D[jj], ii, RSS_vect[jj,ii])\n",
    "        A_sample[:,:,jj,ii] = pd.read_csv(out+\"/A.txt\", sep=\"\\t\", header=None)\n",
    "#         A_tot[:,:,jj] += locals()[\"A\"+str(ii)]\n",
    "#     A_mean = A_tot[:,:,jj]/Nexp\n",
    "        \n",
    "    RSS_quantile[:,jj] = np.array([np.quantile(RSS_vect[jj,:], 0.25), np.quantile(RSS_vect[jj,:], 0.5), np.quantile(RSS_vect[jj,:], 0.75)])\n",
    "#     TP_max[jj] = TP_vect[jj,:].max()\n",
    "\n"
   ]
  },
  {
   "cell_type": "code",
   "execution_count": 26,
   "metadata": {},
   "outputs": [
    {
     "data": {
      "image/png": "[encoded data removed]",
      "text/plain": [
       "<Figure size 504x360 with 1 Axes>"
      ]
     },
     "metadata": {
      "needs_background": "light"
     },
     "output_type": "display_data"
    }
   ],
   "source": [
    "plt.figure(figsize=(7,5))\n",
    "for ii in range(RSS_quantile.shape[0]):\n",
    "    plt.plot(D, RSS_quantile[ii,:], label=\"quantile\"+str(ii+1))\n",
    "    plt.legend(fontsize=14)\n",
    "    plt.ylabel(\"RSS for test data\", fontsize=16)\n",
    "    plt.xlabel(\"D\", fontsize=14)    "
   ]
  },
  {
   "cell_type": "code",
   "execution_count": 27,
   "metadata": {},
   "outputs": [],
   "source": [
    "# Per OGNI D: Devo riordinare in ordine crescente di RSS e poi prendere i 50 RSS più piccoli\n",
    "A_sel = np.zeros((genes, genes, len(D), 50))\n",
    "A_lin = np.zeros((genes*genes, len(D), 50))\n",
    "\n",
    "for jj in range(len(D)):\n",
    "    idx = np.argsort(RSS_vect[jj,:])[:50]  \n",
    "    for ii in range(len(idx)):\n",
    "        A_sel[:,:,jj,ii] = A_sample[:,:,jj,idx[ii]]\n",
    "        A_lin[:,jj,ii] = A_sample[:,:,jj,idx[ii]].flatten()\n",
    "        \n",
    "    \n"
   ]
  },
  {
   "cell_type": "code",
   "execution_count": 28,
   "metadata": {},
   "outputs": [
    {
     "data": {
      "text/plain": [
       "(576, 5, 50)"
      ]
     },
     "execution_count": 28,
     "metadata": {},
     "output_type": "execute_result"
    }
   ],
   "source": [
    "A_lin.shape"
   ]
  },
  {
   "cell_type": "code",
   "execution_count": 29,
   "metadata": {},
   "outputs": [],
   "source": [
    "\n",
    "A_quantile = np.zeros((3,len(D)))\n",
    "for jj in range(len(D)):\n",
    "    A_exp_corr = np.corrcoef(A_lin[:,jj,:].T)\n",
    "#     print(np.quantile(A_exp_corr, 0.25))\n",
    "    A_quantile[:,jj] = np.array([np.quantile(A_exp_corr, 0.25), np.quantile(A_exp_corr, 0.5), np.quantile(A_exp_corr, 0.75)])\n"
   ]
  },
  {
   "cell_type": "code",
   "execution_count": 30,
   "metadata": {},
   "outputs": [
    {
     "data": {
      "image/png": "[encoded data removed]",
      "text/plain": [
       "<Figure size 504x360 with 1 Axes>"
      ]
     },
     "metadata": {
      "needs_background": "light"
     },
     "output_type": "display_data"
    }
   ],
   "source": [
    "plt.figure(figsize=(7,5))\n",
    "for ii in range(A_quantile.shape[0]):\n",
    "    plt.plot(D, A_quantile[ii,:], label=\"quantile \"+str(ii+1))\n",
    "    plt.legend(fontsize=14)\n",
    "    plt.ylabel(\"Correlation of A matrices\", fontsize=16)\n",
    "    plt.xlabel(\"D\", fontsize=14) "
   ]
  },
  {
   "cell_type": "markdown",
   "metadata": {},
   "source": [
    "# Interaction Matrix for D=6"
   ]
  },
  {
   "cell_type": "markdown",
   "metadata": {},
   "source": [
    "## Thr=0.01"
   ]
  },
  {
   "cell_type": "code",
   "execution_count": 31,
   "metadata": {},
   "outputs": [
    {
     "name": "stdout",
     "output_type": "stream",
     "text": [
      "thr= 0.01\n",
      "D= 6\n"
     ]
    },
    {
     "data": {
      "image/png": "[encoded data removed]",
      "text/plain": [
       "<Figure size 1008x360 with 3 Axes>"
      ]
     },
     "metadata": {
      "needs_background": "light"
     },
     "output_type": "display_data"
    },
    {
     "name": "stdout",
     "output_type": "stream",
     "text": [
      "TP fraction  0.3333333333333333\n",
      "Not Normalized TRUE interactions [-0.    2.38 -0.   -0.    0.    0.   -0.    0.3  -0.   -0.42 -1.53 -0.\n",
      " -0.   -0.66 -0.28  0.    0.    0.  ]\n",
      "Normalized TRUE interactions [-0.    0.21 -0.   -0.    0.    0.   -0.    0.03 -0.   -0.04 -0.14 -0.\n",
      " -0.   -0.06 -0.03  0.    0.    0.  ]\n",
      "Not Normalized interactions [-0.83  2.38 -0.01 -0.03  0.14  0.01 -0.41  0.3  -0.06 -0.42 -1.53 -0.1\n",
      " -0.11 -0.66 -0.28  0.41  0.04  0.09]\n",
      "Normalized interactions [-0.07  0.21 -0.   -0.    0.01  0.   -0.04  0.03 -0.01 -0.04 -0.14 -0.01\n",
      " -0.01 -0.06 -0.03  0.04  0.    0.01]\n"
     ]
    }
   ],
   "source": [
    "sel_thr = 0.01\n",
    "print(\"thr=\", sel_thr)\n",
    "\n",
    "DD = 3\n",
    "print(\"D=\", D[DD])\n",
    "N_sel_A = 100\n",
    "A_tot = np.sum(A_sel[:,:,DD,:N_sel_A], axis=2 )/N_sel_A\n",
    "\n",
    "TP_fraction, TP_info, interaction_matrix = TP_plot(TPtrial_list, A_tot, genes_order, inferred_int_thr=sel_thr, \n",
    "                                                   Norm_Matx = False, data_type=\"scRNA-seq PST MB, SCODE\",\n",
    "                                                   figplot=True, nbin=30, \n",
    "                                                    verbose=False, Norm=True)\n",
    "                                        \n",
    "                                                   \n",
    "                                                    \n",
    "print(\"TP fraction \", TP_fraction)\n",
    "\n",
    "print(\"Not Normalized TRUE interactions\", np.round(TP_info[2,:]*TP_info[3,:],2))\n",
    "print(\"Normalized TRUE interactions\", np.round(TP_info[2,:]*TP_info[3,:]/np.max(np.abs(A_tot)), 2))\n",
    "\n",
    "print(\"Not Normalized interactions\", np.round(TP_info[2,:],2))\n",
    "print(\"Normalized interactions\", np.round(TP_info[2,:]/np.max(np.abs(A_tot)), 2))\n",
    "\n",
    "\n",
    "# TP_fraction2, TP_info2, _ = TP_plot(Interactions_list, A_tot, genes_order, \n",
    "#                                    inferred_int_thr = sel_thr, Norm_Matx = False,\n",
    "#                                    data_type=\" Best model for BULK data\",\n",
    "#                                    figplot=False, verbose=False, nbin=30, Norm = True)\n",
    "# print(\"\\n\\n2nd set of interactions, TPfrac:\")\n",
    "# print(f\"{TP_fraction2:.2f}\")\n",
    "\n",
    "\n"
   ]
  },
  {
   "cell_type": "markdown",
   "metadata": {},
   "source": [
    "### Fraction of discarded"
   ]
  },
  {
   "cell_type": "code",
   "execution_count": 32,
   "metadata": {},
   "outputs": [
    {
     "name": "stdout",
     "output_type": "stream",
     "text": [
      "0.6579861111111112\n",
      "0\n"
     ]
    }
   ],
   "source": [
    "high_meanMatx_thr = na.to_thr_matrix(A_tot, thr=sel_thr)\n",
    "print(1-(len(np.where(high_meanMatx_thr==0)[0]))/(24**2))\n",
    "print(len(np.where(A_tot==0)[0]))"
   ]
  },
  {
   "cell_type": "markdown",
   "metadata": {},
   "source": [
    "### Save Interaction Matrix"
   ]
  },
  {
   "cell_type": "code",
   "execution_count": 33,
   "metadata": {},
   "outputs": [],
   "source": [
    "np.savetxt(path_data+\"OUT_SCODE_LN/A_sel_LogNorm_MB.txt\",A_tot)"
   ]
  },
  {
   "cell_type": "markdown",
   "metadata": {},
   "source": [
    "# Simulated"
   ]
  },
  {
   "cell_type": "code",
   "execution_count": 34,
   "metadata": {},
   "outputs": [],
   "source": [
    "matplotlib.rc('font', **{'family': 'serif', 'serif': ['Computer Modern']})\n",
    "matplotlib.rc('text', usetex=True)"
   ]
  },
  {
   "cell_type": "code",
   "execution_count": 35,
   "metadata": {},
   "outputs": [
    {
     "name": "stdout",
     "output_type": "stream",
     "text": [
      "Fatal error: non `e possibile aprire il file '/Users/cleliacorridori/Dropbox_2021 Dropbox/Jorah Mormont/GRN_Inference/CODE/Reconstruct_dynamics.R': No such file or directory\n"
     ]
    }
   ],
   "source": [
    "out_sim = \"/Users/cleliacorridori/Dropbox_2021\\ Dropbox/Jorah\\ Mormont/GRN_Inference/DATA/OUT_SCODE_LN/out_simSCODE_LogNorm_MB.txt\"\n",
    "N_genes = (24)\n",
    "\n",
    "# call R script Reconstruct_dynamics.R\n",
    "! Rscript /Users/cleliacorridori/Dropbox_2021\\ Dropbox/Jorah\\ Mormont/GRN_Inference/CODE/Reconstruct_dynamics.R /Users/cleliacorridori/Dropbox_2021\\ Dropbox/Jorah\\ Mormont/GRN_Inference/DATA/OUT_SCODE_LN/initial_GE_LogNorm_MB.txt /Users/cleliacorridori/Dropbox_2021\\ Dropbox/Jorah\\ Mormont/GRN_Inference/DATA/OUT_SCODE_LN/A_sel_LogNorm_MB.txt {out_sim} {24}\n",
    "\n",
    "df_sim = pd.read_table(path_data+\"OUT_SCODE_LN/out_simSCODE_LogNorm_MB.txt\", delimiter=\"\\t\", dtype={\"Value\": float}).set_index(genes_order)\n",
    "\n"
   ]
  },
  {
   "cell_type": "code",
   "execution_count": 36,
   "metadata": {},
   "outputs": [
    {
     "data": {
      "image/png": "[encoded data removed]",
      "text/plain": [
       "<Figure size 1296x360 with 1 Axes>"
      ]
     },
     "metadata": {
      "needs_background": "light"
     },
     "output_type": "display_data"
    }
   ],
   "source": [
    "plt.figure(figsize=(18,5))\n",
    "plt.errorbar(genes_order, df_sim.mean(axis=1), yerr=df_sim.std(axis=1)/np.sqrt(24),  \n",
    "             alpha=1, \n",
    "             fmt=\"o\", ms = 10,\n",
    "             elinewidth=3,\n",
    "             color=\"steelblue\",\n",
    "             capsize=10,\n",
    "             label= \"simulated Data\")\n",
    "\n",
    "plt.errorbar(genes_order, data_LN.mean(axis=1), yerr=data_LN.std(axis=1)/np.sqrt(24), \n",
    "             alpha=1, \n",
    "             fmt=\"o\", ms = 10,\n",
    "             elinewidth=1,\n",
    "             color=\"indianred\",\n",
    "             capsize=10,\n",
    "             label = \"original data\")\n",
    "plt.legend(loc=\"upper left\", fontsize=16)\n",
    "plt.xticks(fontsize=12)\n",
    "plt.ylabel(\"Average spin\", fontsize=16)\n",
    "plt.xlabel(\"Genes\", fontsize=16)\n",
    "plt.title(\"Average spin value - SCODE\", fontsize=20)\n",
    "plt.grid(True)"
   ]
  },
  {
   "cell_type": "code",
   "execution_count": 37,
   "metadata": {},
   "outputs": [
    {
     "data": {
      "image/png": "[encoded data removed]",
      "text/plain": [
       "<Figure size 1008x360 with 3 Axes>"
      ]
     },
     "metadata": {
      "needs_background": "light"
     },
     "output_type": "display_data"
    }
   ],
   "source": [
    "cm_sim_SCODE_PST_MB_lN_Cont = np.corrcoef(df_sim)\n",
    "\n",
    "bins = np.linspace(-1, 1, 30)\n",
    "\n",
    "fig, ax = plt.subplots(nrows=1, ncols=2, figsize=(14, 5))\n",
    "figfunc.plotmat(cm_sim_SCODE_PST_MB_lN_Cont, fig, ax[0], genes_order, \"Simulated data\")\n",
    "sns.histplot(np.ndarray.flatten(cm_sim_SCODE_PST_MB_lN_Cont), bins=bins,  ax=ax[1], stat=\"density\")\n",
    "plt.show()\n",
    "\n",
    "# # plt.imshow(np.corrcoef(spins_new_lN))\n",
    "# print(np.where(spins_sim==float(\"nan\")))\n",
    "\n"
   ]
  },
  {
   "cell_type": "markdown",
   "metadata": {},
   "source": [
    "## Original CM"
   ]
  },
  {
   "cell_type": "code",
   "execution_count": 38,
   "metadata": {},
   "outputs": [
    {
     "data": {
      "image/png": "[encoded data removed]",
      "text/plain": [
       "<Figure size 1008x360 with 3 Axes>"
      ]
     },
     "metadata": {
      "needs_background": "light"
     },
     "output_type": "display_data"
    }
   ],
   "source": [
    "cm_pst_mb_psiNorm = np.corrcoef(data_LN)\n",
    "\n",
    "bins = np.linspace(-1, 1, 30)\n",
    "\n",
    "fig, ax = plt.subplots(nrows=1, ncols=2, figsize=(14, 5))\n",
    "figfunc.plotmat(cm_pst_mb_psiNorm, fig, ax[0], genes_order, \"Original data\")\n",
    "sns.histplot(np.ndarray.flatten(cm_pst_mb_psiNorm), bins=bins,  ax=ax[1], stat=\"density\")\n",
    "plt.show()"
   ]
  },
  {
   "cell_type": "code",
   "execution_count": 39,
   "metadata": {},
   "outputs": [],
   "source": [
    "def sum_squared_abs_diff(array1, array2):\n",
    "    diff = (array1.flatten()-array2.flatten())**2\n",
    "    return np.sqrt(np.sum(diff))"
   ]
  },
  {
   "cell_type": "code",
   "execution_count": 40,
   "metadata": {},
   "outputs": [],
   "source": [
    "N_rows = data_LN.shape[0]\n",
    "N_cols = data_LN.shape[1]\n",
    "Ntest=100\n",
    "# Linearize\n",
    "val_rnd = np.reshape(np.array(data_LN), (N_cols*N_rows))\n",
    "\n",
    "# reshuflle for Ntest times\n",
    "df_pN_mb_pst_shuffle = np.zeros((Ntest, N_rows, N_cols))\n",
    "\n",
    "for ii in range(Ntest):\n",
    "    np.random.seed(1234+ii)\n",
    "    # Random reshuffle of the binnarized GE data\n",
    "    np.random.shuffle(val_rnd)\n",
    "    val_rnd_matx = val_rnd.reshape(N_rows,N_cols) ########################\n",
    "    trial_long = pd.DataFrame(val_rnd_matx)\n",
    "\n",
    "    # Save the shuffled DataFrame\n",
    "    df_pN_mb_pst_shuffle[ii,:,:] = trial_long\n",
    "\n",
    "\n",
    "corr_matxs_rnd = np.array([np.corrcoef(df_pN_mb_pst_shuffle[i,:,:]) for i in range(Ntest)])\n"
   ]
  },
  {
   "cell_type": "code",
   "execution_count": 41,
   "metadata": {},
   "outputs": [
    {
     "name": "stdout",
     "output_type": "stream",
     "text": [
      "Scode - Orig 1.36\n"
     ]
    }
   ],
   "source": [
    "noise_dist = [sum_squared_abs_diff(cm_pst_mb_psiNorm, corr_matxs_rnd[i,:,:]) for i in range(Ntest)]\n",
    "\n",
    "noise_dist = np.mean(noise_dist)\n",
    "\n",
    "result_SO = sum_squared_abs_diff(cm_pst_mb_psiNorm, cm_sim_SCODE_PST_MB_lN_Cont)/noise_dist\n",
    "print(f\"Scode - Orig {result_SO:.2f}\")\n"
   ]
  },
  {
   "cell_type": "code",
   "execution_count": 42,
   "metadata": {},
   "outputs": [],
   "source": [
    "# np.savetxt('cm_sim_SCODE_MB_LogNorm.txt', cm_sim_SCODE_PST_MB_lN_Cont)"
   ]
  },
  {
   "cell_type": "markdown",
   "metadata": {},
   "source": [
    "# KO"
   ]
  },
  {
   "cell_type": "code",
   "execution_count": 43,
   "metadata": {},
   "outputs": [],
   "source": [
    "def KO_comparison_ExpVsSim(lofFC_Exp, logFC_Sim, N_test=100):\n",
    "    \"\"\"compute the fraction of Experimental Data end Simulated data in Agreement\"\"\"\n",
    "    comparison= np.array([np.sign(lofFC_Exp)*np.sign(logFC_Sim[ii,:]) for ii in range(N_test)])\n",
    "#     print(np.sum([len(np.where(logFC_Sim[:,ii]==0)[0]) for ii in range(N_test)]))\n",
    "    data_considered = np.array([len(np.where(comparison[ii,:]!=0)[0]) for ii in range(N_test)])\n",
    "    \n",
    "    in_agreement = np.array([len(np.where(comparison[ii,:]==1)[0])/data_considered[ii] for ii in range(N_test)])\n",
    "    no_agreement = np.array([len(np.where(comparison[ii,:]==-1)[0])/data_considered[ii] for ii in range(N_test)])\n",
    "    mean_in_agreement = np.mean(in_agreement)\n",
    "    \n",
    "    # Check\n",
    "    check_sum = np.array([in_agreement[ii]+no_agreement[ii] for ii in range(N_test)])-1\n",
    "    check = np.where(check_sum>0.001)[0]\n",
    "    if check.size > 0:\n",
    "        print(\"Error in comparison Exp and Sim\")\n",
    "    return(mean_in_agreement,    data_considered)\n"
   ]
  },
  {
   "cell_type": "code",
   "execution_count": 44,
   "metadata": {},
   "outputs": [],
   "source": [
    "def KO_plotLogFC_ExpAndSim(lofFC_Exp, logFC_Sim, KO_genes_order):\n",
    "    plt.figure(figsize=(18,5))\n",
    "    plt.plot(lofFC_Exp, \n",
    "             \"o\",ms = 10, label=\"Exp\")\n",
    "    plt.plot(logFC_Sim[:,0],  \n",
    "             \"o\", ms = 10,\n",
    "             color=\"darkred\", label= \"Sim\")\n",
    "    plt.xticks(np.arange(0,23),KO_genes_order)\n",
    "    plt.axhline(0)\n",
    "    plt.legend()"
   ]
  },
  {
   "cell_type": "code",
   "execution_count": 45,
   "metadata": {},
   "outputs": [],
   "source": [
    "# plt.figure(figsize=(18,5))\n",
    "# plt.errorbar(KO_genes_order, KO_avg_GE_MeanTot, yerr=KO_std_GE_MeanTot/np.sqrt(len(wt_std_GE)),  \n",
    "#              alpha=1, \n",
    "#              fmt=\"o\", ms = 10,\n",
    "#              elinewidth=3,\n",
    "#              color=\"steelblue\",\n",
    "#              capsize=10,\n",
    "#              label= \"simulated Data\")\n",
    "\n",
    "# plt.errorbar(KO_genes_order, wt_avg_GE, yerr=wt_std_GE/np.sqrt(len(wt_std_GE)), \n",
    "#              alpha=1, \n",
    "#              fmt=\"o\", ms = 10,\n",
    "#              elinewidth=1,\n",
    "#              color=\"indianred\",\n",
    "#              capsize=10,\n",
    "#              label = \"original data\")\n",
    "# plt.legend(loc=\"upper left\", fontsize=16)\n",
    "# plt.xticks(fontsize=12)\n",
    "# plt.ylabel(\"Average spin\", fontsize=16)\n",
    "# plt.xlabel(\"Genes\", fontsize=16)\n",
    "# plt.title(\"Average spin values for each genes\", fontsize=20)\n",
    "# plt.grid(True)"
   ]
  },
  {
   "cell_type": "markdown",
   "metadata": {},
   "source": [
    "## Rpbj"
   ]
  },
  {
   "cell_type": "code",
   "execution_count": 46,
   "metadata": {},
   "outputs": [],
   "source": [
    "KO_gene = \"Rbpj\"\n",
    "KO_gene_idk = np.where(genes_order ==KO_gene)[0][0]\n",
    "\n",
    "# KO_lN_rec_matx = np.delete(lN_rec_matx, KO_gene_idk, axis=0)\n",
    "KO_lN_rec_matx = np.delete(A_tot, KO_gene_idk, axis=0)\n",
    "KO_lN_rec_matx = np.delete(KO_lN_rec_matx, KO_gene_idk, axis=1)\n",
    "\n",
    "KO_genes_order = np.delete(genes_order, KO_gene_idk, axis=0)\n",
    "\n",
    "KO_result = result.drop(KO_gene)\n",
    "KO_result.to_csv(path_data+\"OUT_SCODE_LN/KO_LN/RBPJ/initial_GE_LogNorm_MB_KO.txt\", sep='\\t', index=False, header=False)\n",
    "\n",
    "np.savetxt(path_data+ \"OUT_SCODE_LN/KO_LN/RBPJ/A_KO_LogNorm_MB.txt\",KO_lN_rec_matx)\n"
   ]
  },
  {
   "cell_type": "code",
   "execution_count": 47,
   "metadata": {},
   "outputs": [
    {
     "name": "stdout",
     "output_type": "stream",
     "text": [
      "Exp  0\n",
      "Exp  5\n",
      "Exp  10\n",
      "Exp  15\n",
      "Exp  20\n",
      "Exp  25\n",
      "Exp  30\n",
      "Exp  35\n",
      "Exp  40\n",
      "Exp  45\n",
      "Exp  50\n",
      "Exp  55\n",
      "Exp  60\n",
      "Exp  65\n",
      "Exp  70\n",
      "Exp  75\n",
      "Exp  80\n",
      "Exp  85\n",
      "Exp  90\n",
      "Exp  95\n",
      "Exp  100\n",
      "Exp  105\n",
      "Exp  110\n",
      "Exp  115\n",
      "Exp  120\n",
      "Exp  125\n",
      "Exp  130\n",
      "Exp  135\n",
      "Exp  140\n",
      "Exp  145\n",
      "Exp  150\n",
      "Exp  155\n",
      "Exp  160\n",
      "Exp  165\n",
      "Exp  170\n",
      "Exp  175\n",
      "Exp  180\n",
      "Exp  185\n",
      "Exp  190\n",
      "Exp  195\n",
      "Exp  200\n",
      "Exp  205\n",
      "Exp  210\n",
      "Exp  215\n",
      "Exp  220\n",
      "Exp  225\n",
      "Exp  230\n",
      "Exp  235\n",
      "Exp  240\n",
      "Exp  245\n",
      "Exp  250\n",
      "Exp  255\n",
      "Exp  260\n",
      "Exp  265\n",
      "Exp  270\n",
      "Exp  275\n",
      "Exp  280\n",
      "Exp  285\n",
      "Exp  290\n",
      "Exp  295\n",
      "Exp  300\n",
      "Exp  305\n",
      "Exp  310\n",
      "Exp  315\n",
      "Exp  320\n",
      "Exp  325\n",
      "Exp  330\n",
      "Exp  335\n",
      "Exp  340\n",
      "Exp  345\n",
      "Exp  350\n",
      "Exp  355\n",
      "Exp  360\n",
      "Exp  365\n",
      "Exp  370\n",
      "Exp  375\n",
      "Exp  380\n",
      "Exp  385\n",
      "Exp  390\n",
      "Exp  395\n",
      "Exp  400\n",
      "Exp  405\n",
      "Exp  410\n",
      "Exp  415\n",
      "Exp  420\n",
      "Exp  425\n",
      "Exp  430\n",
      "Exp  435\n",
      "Exp  440\n",
      "Exp  445\n",
      "Exp  450\n",
      "Exp  455\n",
      "Exp  460\n",
      "Exp  465\n",
      "Exp  470\n",
      "Exp  475\n",
      "Exp  480\n",
      "Exp  485\n",
      "Exp  490\n",
      "Exp  495\n"
     ]
    }
   ],
   "source": [
    "N_sim=500\n",
    "KO_df_sim = np.zeros((len(KO_genes_order), 101, N_sim))\n",
    "\n",
    "for ii in range(N_sim):\n",
    "    if ii%5==0:\n",
    "        print(\"Exp \", ii)\n",
    "    out_sim = \"/Users/cleliacorridori/Dropbox_2021\\ Dropbox/Jorah\\ Mormont/GRN_Inference/DATA/OUT_SCODE_LN/KO_LN/RBPJ/OUT/out_simSCODE_LogNorm_MB_\"+str(ii)+\".txt\"\n",
    "\n",
    "    # call R script Reconstruct_dynamics.R\n",
    "    ! Rscript /Users/cleliacorridori/Dropbox_2021\\ Dropbox/Jorah\\ Mormont/GRN_Inference/CODE/Reconstruct_dynamics.R /Users/cleliacorridori/Dropbox_2021\\ Dropbox/Jorah\\ Mormont/GRN_Inference/DATA/OUT_SCODE_LN/KO_LN/RBPJ/initial_GE_LogNorm_MB_KO.txt /Users/cleliacorridori/Dropbox_2021\\ Dropbox/Jorah\\ Mormont/GRN_Inference/DATA/OUT_SCODE_LN/KO_LN/RBPJ/A_KO_LogNorm_MB.txt {out_sim} {23}\n",
    "\n",
    "    # load simulated data\n",
    "    KO_df_sim[:,:,ii] = pd.read_table(path_data+\"OUT_SCODE_LN/KO_LN/RBPJ/OUT/out_simSCODE_LogNorm_MB_\"+str(ii)+\".txt\", delimiter=\"\\t\", dtype={\"Value\": float}).set_index(KO_genes_order)\n",
    "    KO_df_sim[KO_df_sim<0]=0\n",
    "    "
   ]
  },
  {
   "cell_type": "code",
   "execution_count": 48,
   "metadata": {},
   "outputs": [],
   "source": [
    "KO_avg_GE = KO_df_sim.mean(axis=1)\n",
    "KO_avg_GE_MeanTot = KO_avg_GE.mean(axis=1)\n",
    "KO_std_GE_MeanTot = KO_avg_GE.std(axis=1)\n",
    "\n",
    "wt_avg_GE = np.delete(np.array(data_LN.mean(axis=1)), KO_gene_idk)\n",
    "wt_std_GE = np.delete(np.array(data_LN.std(axis=1)), KO_gene_idk)\n",
    "\n"
   ]
  },
  {
   "cell_type": "code",
   "execution_count": 49,
   "metadata": {},
   "outputs": [
    {
     "data": {
      "text/plain": [
       "(500, 23)"
      ]
     },
     "execution_count": 49,
     "metadata": {},
     "output_type": "execute_result"
    }
   ],
   "source": [
    "logFC_Leeb_R = np.delete(np.array(df_KO_N24_Leeb_cl[KO_gene]), KO_gene_idk) # logFC Leeb\n",
    "\n",
    "\n",
    "# Computed\n",
    "logFC_Sim_R =  np.array([np.log2((KO_avg_GE[:,ii])/ (wt_avg_GE)) for ii in range(N_sim)])\n",
    "\n",
    "logFC_Sim_R.shape"
   ]
  },
  {
   "cell_type": "code",
   "execution_count": 50,
   "metadata": {},
   "outputs": [
    {
     "data": {
      "image/png": "[encoded data removed]",
      "text/plain": [
       "<Figure size 1296x360 with 1 Axes>"
      ]
     },
     "metadata": {
      "needs_background": "light"
     },
     "output_type": "display_data"
    }
   ],
   "source": [
    "KO_plotLogFC_ExpAndSim(logFC_Leeb_R, logFC_Sim_R.T, KO_genes_order)"
   ]
  },
  {
   "cell_type": "code",
   "execution_count": 51,
   "metadata": {},
   "outputs": [
    {
     "name": "stdout",
     "output_type": "stream",
     "text": [
      "Fraction of agreement:  0.42857142857142855\n",
      "# of data Considered:  7.0\n"
     ]
    }
   ],
   "source": [
    "mean_in_agreement_R, data_considered_R  = KO_comparison_ExpVsSim(logFC_Leeb_R, logFC_Sim_R, N_sim)\n",
    "print(\"Fraction of agreement: \", mean_in_agreement_R)\n",
    "print(\"# of data Considered: \",data_considered_R.mean())"
   ]
  },
  {
   "cell_type": "markdown",
   "metadata": {},
   "source": [
    "## Etv5"
   ]
  },
  {
   "cell_type": "code",
   "execution_count": 52,
   "metadata": {},
   "outputs": [],
   "source": [
    "KO_gene = \"Etv5\"\n",
    "KO_gene_idk = np.where(genes_order ==KO_gene)[0][0]\n",
    "\n",
    "# KO_lN_rec_matx = np.delete(lN_rec_matx, KO_gene_idk, axis=0)\n",
    "KO_lN_rec_matx = np.delete(A_tot, KO_gene_idk, axis=0)\n",
    "KO_lN_rec_matx = np.delete(KO_lN_rec_matx, KO_gene_idk, axis=1)\n",
    "\n",
    "KO_genes_order = np.delete(genes_order, KO_gene_idk, axis=0)\n",
    "\n",
    "KO_result = result.drop(KO_gene)\n",
    "KO_result.to_csv(path_data+\"OUT_SCODE_LN/KO_LN/ETV5/initial_GE_LogNorm_MB_KO.txt\", sep='\\t', index=False, header=False)\n",
    "\n",
    "np.savetxt(path_data+ \"OUT_SCODE_LN/KO_LN/ETV5/A_KO_LogNorm_MB.txt\",KO_lN_rec_matx)\n"
   ]
  },
  {
   "cell_type": "code",
   "execution_count": 53,
   "metadata": {},
   "outputs": [
    {
     "name": "stdout",
     "output_type": "stream",
     "text": [
      "Exp  0\n",
      "Exp  5\n",
      "Exp  10\n",
      "Exp  15\n",
      "Exp  20\n",
      "Exp  25\n",
      "Exp  30\n",
      "Exp  35\n",
      "Exp  40\n",
      "Exp  45\n",
      "Exp  50\n",
      "Exp  55\n",
      "Exp  60\n",
      "Exp  65\n",
      "Exp  70\n",
      "Exp  75\n",
      "Exp  80\n",
      "Exp  85\n",
      "Exp  90\n",
      "Exp  95\n",
      "Exp  100\n",
      "Exp  105\n",
      "Exp  110\n",
      "Exp  115\n",
      "Exp  120\n",
      "Exp  125\n",
      "Exp  130\n",
      "Exp  135\n",
      "Exp  140\n",
      "Exp  145\n",
      "Exp  150\n",
      "Exp  155\n",
      "Exp  160\n",
      "Exp  165\n",
      "Exp  170\n",
      "Exp  175\n",
      "Exp  180\n",
      "Exp  185\n",
      "Exp  190\n",
      "Exp  195\n",
      "Exp  200\n",
      "Exp  205\n",
      "Exp  210\n",
      "Exp  215\n",
      "Exp  220\n",
      "Exp  225\n",
      "Exp  230\n",
      "Exp  235\n",
      "Exp  240\n",
      "Exp  245\n",
      "Exp  250\n",
      "Exp  255\n",
      "Exp  260\n",
      "Exp  265\n",
      "Exp  270\n",
      "Exp  275\n",
      "Exp  280\n",
      "Exp  285\n",
      "Exp  290\n",
      "Exp  295\n",
      "Exp  300\n",
      "Exp  305\n",
      "Exp  310\n",
      "Exp  315\n",
      "Exp  320\n",
      "Exp  325\n",
      "Exp  330\n",
      "Exp  335\n",
      "Exp  340\n",
      "Exp  345\n",
      "Exp  350\n",
      "Exp  355\n",
      "Exp  360\n",
      "Exp  365\n",
      "Exp  370\n",
      "Exp  375\n",
      "Exp  380\n",
      "Exp  385\n",
      "Exp  390\n",
      "Exp  395\n",
      "Exp  400\n",
      "Exp  405\n",
      "Exp  410\n",
      "Exp  415\n",
      "Exp  420\n",
      "Exp  425\n",
      "Exp  430\n",
      "Exp  435\n",
      "Exp  440\n",
      "Exp  445\n",
      "Exp  450\n",
      "Exp  455\n",
      "Exp  460\n",
      "Exp  465\n",
      "Exp  470\n",
      "Exp  475\n",
      "Exp  480\n",
      "Exp  485\n",
      "Exp  490\n",
      "Exp  495\n"
     ]
    }
   ],
   "source": [
    "N_sim=500\n",
    "KO_df_sim = np.zeros((len(KO_genes_order), 101, N_sim))\n",
    "\n",
    "for ii in range(N_sim):\n",
    "    if ii%5==0:\n",
    "        print(\"Exp \", ii)\n",
    "    out_sim = \"/Users/cleliacorridori/Dropbox_2021\\ Dropbox/Jorah\\ Mormont/GRN_Inference/DATA/OUT_SCODE_LN/KO_LN/ETV5/OUT/out_simSCODE_LogNorm_MB_\"+str(ii)+\".txt\"\n",
    "\n",
    "    # call R script Reconstruct_dynamics.R\n",
    "    ! Rscript /Users/cleliacorridori/Dropbox_2021\\ Dropbox/Jorah\\ Mormont/GRN_Inference/CODE/Reconstruct_dynamics.R /Users/cleliacorridori/Dropbox_2021\\ Dropbox/Jorah\\ Mormont/GRN_Inference/DATA/OUT_SCODE_LN/KO_LN/ETV5/initial_GE_LogNorm_MB_KO.txt /Users/cleliacorridori/Dropbox_2021\\ Dropbox/Jorah\\ Mormont/GRN_Inference/DATA/OUT_SCODE_LN/KO_LN/ETV5/A_KO_LogNorm_MB.txt {out_sim} {23}\n",
    "\n",
    "    # load simulated data\n",
    "    KO_df_sim[:,:,ii] = pd.read_table(path_data+\"OUT_SCODE_LN/KO_LN/ETV5/OUT/out_simSCODE_LogNorm_MB_\"+str(ii)+\".txt\", delimiter=\"\\t\", dtype={\"Value\": float}).set_index(KO_genes_order)\n",
    "    KO_df_sim[KO_df_sim<0]=0\n",
    "    "
   ]
  },
  {
   "cell_type": "code",
   "execution_count": 54,
   "metadata": {},
   "outputs": [],
   "source": [
    "KO_avg_GE = KO_df_sim.mean(axis=1)\n",
    "KO_avg_GE_MeanTot = KO_avg_GE.mean(axis=1)\n",
    "KO_std_GE_MeanTot = KO_avg_GE.std(axis=1)\n",
    "\n",
    "wt_avg_GE = np.delete(np.array(data_LN.mean(axis=1)), KO_gene_idk)\n",
    "wt_std_GE = np.delete(np.array(data_LN.std(axis=1)), KO_gene_idk)\n",
    "\n"
   ]
  },
  {
   "cell_type": "code",
   "execution_count": 55,
   "metadata": {},
   "outputs": [
    {
     "data": {
      "text/plain": [
       "(500, 23)"
      ]
     },
     "execution_count": 55,
     "metadata": {},
     "output_type": "execute_result"
    }
   ],
   "source": [
    "logFC_Leeb_E = np.delete(np.array(df_KO_N24_Leeb_cl[KO_gene]), KO_gene_idk) # logFC Leeb\n",
    "\n",
    "\n",
    "# Computed\n",
    "logFC_Sim_E =  np.array([np.log2((KO_avg_GE[:,ii])/ (wt_avg_GE)) for ii in range(N_sim)])\n",
    "\n",
    "logFC_Sim_E.shape"
   ]
  },
  {
   "cell_type": "code",
   "execution_count": 56,
   "metadata": {},
   "outputs": [
    {
     "data": {
      "image/png": "[encoded data removed]",
      "text/plain": [
       "<Figure size 1296x360 with 1 Axes>"
      ]
     },
     "metadata": {
      "needs_background": "light"
     },
     "output_type": "display_data"
    }
   ],
   "source": [
    "KO_plotLogFC_ExpAndSim(logFC_Leeb_E, logFC_Sim_E.T, KO_genes_order)"
   ]
  },
  {
   "cell_type": "code",
   "execution_count": 57,
   "metadata": {},
   "outputs": [
    {
     "name": "stdout",
     "output_type": "stream",
     "text": [
      "Fraction of agreement:  0.8571428571428571\n",
      "# of data Considered:  7.0\n"
     ]
    }
   ],
   "source": [
    "mean_in_agreement_E, data_considered_E  = KO_comparison_ExpVsSim(logFC_Leeb_E, logFC_Sim_E, N_sim)\n",
    "print(\"Fraction of agreement: \", mean_in_agreement_E)\n",
    "print(\"# of data Considered: \",data_considered_E.mean())"
   ]
  },
  {
   "cell_type": "markdown",
   "metadata": {},
   "source": [
    "## Tcf7l1"
   ]
  },
  {
   "cell_type": "code",
   "execution_count": 58,
   "metadata": {},
   "outputs": [],
   "source": [
    "KO_gene = \"Tcf7l1\"\n",
    "KO_gene_idk = np.where(genes_order ==KO_gene)[0][0]\n",
    "\n",
    "# KO_lN_rec_matx = np.delete(lN_rec_matx, KO_gene_idk, axis=0)\n",
    "KO_lN_rec_matx = np.delete(A_tot, KO_gene_idk, axis=0)\n",
    "KO_lN_rec_matx = np.delete(KO_lN_rec_matx, KO_gene_idk, axis=1)\n",
    "\n",
    "KO_genes_order = np.delete(genes_order, KO_gene_idk, axis=0)\n",
    "\n",
    "KO_result = result.drop(KO_gene)\n",
    "KO_result.to_csv(path_data+\"OUT_SCODE_LN/KO_LN/TCF7L1/initial_GE_LogNorm_MB_KO.txt\", sep='\\t', index=False, header=False)\n",
    "\n",
    "np.savetxt(path_data+ \"OUT_SCODE_LN/KO_LN/TCF7L1/A_KO_LogNorm_MB.txt\",KO_lN_rec_matx)\n"
   ]
  },
  {
   "cell_type": "code",
   "execution_count": 59,
   "metadata": {},
   "outputs": [
    {
     "name": "stdout",
     "output_type": "stream",
     "text": [
      "Exp  0\n",
      "Exp  5\n",
      "Exp  10\n",
      "Exp  15\n",
      "Exp  20\n",
      "Exp  25\n",
      "Exp  30\n",
      "Exp  35\n",
      "Exp  40\n",
      "Exp  45\n",
      "Exp  50\n",
      "Exp  55\n",
      "Exp  60\n",
      "Exp  65\n",
      "Exp  70\n",
      "Exp  75\n",
      "Exp  80\n",
      "Exp  85\n",
      "Exp  90\n",
      "Exp  95\n",
      "Exp  100\n",
      "Exp  105\n",
      "Exp  110\n",
      "Exp  115\n",
      "Exp  120\n",
      "Exp  125\n",
      "Exp  130\n",
      "Exp  135\n",
      "Exp  140\n",
      "Exp  145\n",
      "Exp  150\n",
      "Exp  155\n",
      "Exp  160\n",
      "Exp  165\n",
      "Exp  170\n",
      "Exp  175\n",
      "Exp  180\n",
      "Exp  185\n",
      "Exp  190\n",
      "Exp  195\n",
      "Exp  200\n",
      "Exp  205\n",
      "Exp  210\n",
      "Exp  215\n",
      "Exp  220\n",
      "Exp  225\n",
      "Exp  230\n",
      "Exp  235\n",
      "Exp  240\n",
      "Exp  245\n",
      "Exp  250\n",
      "Exp  255\n",
      "Exp  260\n",
      "Exp  265\n",
      "Exp  270\n",
      "Exp  275\n",
      "Exp  280\n",
      "Exp  285\n",
      "Exp  290\n",
      "Exp  295\n",
      "Exp  300\n",
      "Exp  305\n",
      "Exp  310\n",
      "Exp  315\n",
      "Exp  320\n",
      "Exp  325\n",
      "Exp  330\n",
      "Exp  335\n",
      "Exp  340\n",
      "Exp  345\n",
      "Exp  350\n",
      "Exp  355\n",
      "Exp  360\n",
      "Exp  365\n",
      "Exp  370\n",
      "Exp  375\n",
      "Exp  380\n",
      "Exp  385\n",
      "Exp  390\n",
      "Exp  395\n",
      "Exp  400\n",
      "Exp  405\n",
      "Exp  410\n",
      "Exp  415\n",
      "Exp  420\n",
      "Exp  425\n",
      "Exp  430\n",
      "Exp  435\n",
      "Exp  440\n",
      "Exp  445\n",
      "Exp  450\n",
      "Exp  455\n",
      "Exp  460\n",
      "Exp  465\n",
      "Exp  470\n",
      "Exp  475\n",
      "Exp  480\n",
      "Exp  485\n",
      "Exp  490\n",
      "Exp  495\n"
     ]
    }
   ],
   "source": [
    "N_sim=500\n",
    "KO_df_sim = np.zeros((len(KO_genes_order), 101, N_sim))\n",
    "\n",
    "for ii in range(N_sim):\n",
    "    if ii%5==0:\n",
    "        print(\"Exp \", ii)\n",
    "    out_sim = \"/Users/cleliacorridori/Dropbox_2021\\ Dropbox/Jorah\\ Mormont/GRN_Inference/DATA/OUT_SCODE_LN/KO_LN/TCF7L1/OUT/out_simSCODE_LogNorm_MB_\"+str(ii)+\".txt\"\n",
    "\n",
    "    # call R script Reconstruct_dynamics.R\n",
    "    ! Rscript /Users/cleliacorridori/Dropbox_2021\\ Dropbox/Jorah\\ Mormont/GRN_Inference/CODE/Reconstruct_dynamics.R /Users/cleliacorridori/Dropbox_2021\\ Dropbox/Jorah\\ Mormont/GRN_Inference/DATA/OUT_SCODE_LN/KO_LN/TCF7L1/initial_GE_LogNorm_MB_KO.txt /Users/cleliacorridori/Dropbox_2021\\ Dropbox/Jorah\\ Mormont/GRN_Inference/DATA/OUT_SCODE_LN/KO_LN/TCF7L1/A_KO_LogNorm_MB.txt {out_sim} {23}\n",
    "\n",
    "    # load simulated data\n",
    "    KO_df_sim[:,:,ii] = pd.read_table(path_data+\"OUT_SCODE_LN/KO_LN/TCF7L1/OUT/out_simSCODE_LogNorm_MB_\"+str(ii)+\".txt\", delimiter=\"\\t\", dtype={\"Value\": float}).set_index(KO_genes_order)\n",
    "    KO_df_sim[KO_df_sim<0]=0\n",
    "    "
   ]
  },
  {
   "cell_type": "code",
   "execution_count": 60,
   "metadata": {},
   "outputs": [],
   "source": [
    "KO_avg_GE = KO_df_sim.mean(axis=1)\n",
    "KO_avg_GE_MeanTot = KO_avg_GE.mean(axis=1)\n",
    "KO_std_GE_MeanTot = KO_avg_GE.std(axis=1)\n",
    "\n",
    "wt_avg_GE = np.delete(np.array(data_LN.mean(axis=1)), KO_gene_idk)\n",
    "wt_std_GE = np.delete(np.array(data_LN.std(axis=1)), KO_gene_idk)\n",
    "\n"
   ]
  },
  {
   "cell_type": "code",
   "execution_count": 61,
   "metadata": {},
   "outputs": [],
   "source": [
    "logFC_Leeb_T = np.delete(np.array(df_KO_N24_Leeb_cl[KO_gene]), KO_gene_idk) # logFC Leeb\n",
    "\n",
    "\n",
    "# Computed\n",
    "logFC_Sim_T =  np.array([np.log2((KO_avg_GE[:,ii])/ (wt_avg_GE)) for ii in range(N_sim)])\n"
   ]
  },
  {
   "cell_type": "code",
   "execution_count": 62,
   "metadata": {},
   "outputs": [
    {
     "data": {
      "image/png": "[encoded data removed]",
      "text/plain": [
       "<Figure size 1296x360 with 1 Axes>"
      ]
     },
     "metadata": {
      "needs_background": "light"
     },
     "output_type": "display_data"
    }
   ],
   "source": [
    "KO_plotLogFC_ExpAndSim(logFC_Leeb_T, logFC_Sim_T.T, KO_genes_order)"
   ]
  },
  {
   "cell_type": "code",
   "execution_count": 63,
   "metadata": {},
   "outputs": [
    {
     "name": "stdout",
     "output_type": "stream",
     "text": [
      "Fraction of agreement:  1.0\n",
      "# of data Considered:  6.0\n"
     ]
    }
   ],
   "source": [
    "mean_in_agreement_T, data_considered_T  = KO_comparison_ExpVsSim(logFC_Leeb_T, logFC_Sim_T, N_sim)\n",
    "print(\"Fraction of agreement: \", mean_in_agreement_T)\n",
    "print(\"# of data Considered: \",data_considered_T.mean())"
   ]
  },
  {
   "attachments": {},
   "cell_type": "markdown",
   "metadata": {},
   "source": [
    "# Three KO"
   ]
  },
  {
   "cell_type": "code",
   "execution_count": 43,
   "metadata": {},
   "outputs": [],
   "source": [
    "## Tcf7l1\n",
    "KO_gene = [\"Rbpj\", \"Etv5\", \"Tcf7l1\"]\n",
    "KO_gene_idk = [np.where(genes_order == KO_gene[i])[0][0]  for i in range(len(KO_gene))]\n",
    "\n",
    "\n",
    "KO_lN_rec_matx = np.delete(A_tot, KO_gene_idk, axis=0)\n",
    "KO_lN_rec_matx = np.delete(KO_lN_rec_matx, KO_gene_idk, axis=1)\n",
    "\n",
    "KO_genes_order = np.delete(genes_order, KO_gene_idk, axis=0)\n",
    "\n",
    "KO_result = result.drop(KO_gene)\n",
    "KO_result.to_csv(path_data+\"OUT_SCODE_LN/KO_LN/MULT/initial_GE_LogNorm_MB_KO.txt\", sep='\\t', index=False, header=False)\n",
    "\n",
    "np.savetxt(path_data+ \"OUT_SCODE_LN/KO_LN/MULT/A_KO_LogNorm_MB.txt\",KO_lN_rec_matx)\n"
   ]
  },
  {
   "cell_type": "code",
   "execution_count": 44,
   "metadata": {},
   "outputs": [
    {
     "name": "stdout",
     "output_type": "stream",
     "text": [
      "Exp  0\n",
      "Exp  5\n",
      "Exp  10\n",
      "Exp  15\n",
      "Exp  20\n",
      "Exp  25\n",
      "Exp  30\n",
      "Exp  35\n",
      "Exp  40\n",
      "Exp  45\n",
      "Exp  50\n",
      "Exp  55\n",
      "Exp  60\n",
      "Exp  65\n",
      "Exp  70\n",
      "Exp  75\n",
      "Exp  80\n",
      "Exp  85\n",
      "Exp  90\n",
      "Exp  95\n"
     ]
    }
   ],
   "source": [
    "N_sim=100\n",
    "KO_df_sim = np.zeros((len(KO_genes_order), 101, N_sim))\n",
    "for ii in range(N_sim):\n",
    "    if ii%5==0:\n",
    "        print(\"Exp \", ii)\n",
    "    out_sim = \"/Users/cleliacorridori/Dropbox_2021\\ Dropbox/Jorah\\ Mormont/GRN_Inference/DATA/OUT_SCODE_LN/KO_LN/MULT/OUT/out_simSCODE_LogNorm_MB_\"+str(ii)+\".txt\"\n",
    "\n",
    "    # call R script Reconstruct_dynamics.R\n",
    "    ! Rscript /Users/cleliacorridori/Dropbox_2021\\ Dropbox/Jorah\\ Mormont/GRN_Inference/GRN_Inference_CODE/Reconstruct_dynamics.R /Users/cleliacorridori/Dropbox_2021\\ Dropbox/Jorah\\ Mormont/GRN_Inference/DATA/OUT_SCODE_LN/KO_LN/MULT/initial_GE_LogNorm_MB_KO.txt /Users/cleliacorridori/Dropbox_2021\\ Dropbox/Jorah\\ Mormont/GRN_Inference/DATA/OUT_SCODE_LN/KO_LN/MULT/A_KO_LogNorm_MB.txt {out_sim} {21}\n",
    "\n",
    "    # load simulated data\n",
    "    KO_df_sim[:,:,ii] = pd.read_table(path_data+\"OUT_SCODE_LN/KO_LN/MULT/OUT/out_simSCODE_LogNorm_MB_\"+str(ii)+\".txt\", delimiter=\"\\t\", dtype={\"Value\": float}).set_index(KO_genes_order)\n",
    "    KO_df_sim[KO_df_sim<0]=0\n",
    "    \n",
    "\n"
   ]
  },
  {
   "cell_type": "code",
   "execution_count": 45,
   "metadata": {},
   "outputs": [
    {
     "name": "stdout",
     "output_type": "stream",
     "text": [
      "ko (21, 100) (21,) (21,)\n",
      "wt (21,)\n"
     ]
    }
   ],
   "source": [
    "KO_avg_GE = KO_df_sim.mean(axis=1)\n",
    "KO_avg_GE_MeanTot = KO_avg_GE.mean(axis=1)\n",
    "KO_std_GE_MeanTot = KO_avg_GE.std(axis=1)\n",
    "print(\"ko\", KO_avg_GE.shape, KO_avg_GE_MeanTot.shape, KO_std_GE_MeanTot.shape)\n",
    "\n",
    "wt_avg_GE = np.delete(np.array(data_LN.mean(axis=1)), KO_gene_idk)\n",
    "wt_std_GE = np.delete(np.array(data_LN.std(axis=1)), KO_gene_idk)\n",
    "print(\"wt\", wt_avg_GE.shape)\n",
    "\n",
    "\n"
   ]
  },
  {
   "cell_type": "code",
   "execution_count": 46,
   "metadata": {},
   "outputs": [
    {
     "data": {
      "image/png": "[encoded data removed]",
      "text/plain": [
       "<Figure size 1440x360 with 1 Axes>"
      ]
     },
     "metadata": {
      "needs_background": "light"
     },
     "output_type": "display_data"
    }
   ],
   "source": [
    "fun_plotting.raster_plot(KO_df_sim[:,:,0], 'Reconstruction', 1, KO_genes_order)\n",
    "plt.show()"
   ]
  },
  {
   "cell_type": "code",
   "execution_count": 47,
   "metadata": {},
   "outputs": [
    {
     "data": {
      "image/png": "[encoded data removed]",
      "text/plain": [
       "<Figure size 1440x360 with 1 Axes>"
      ]
     },
     "metadata": {
      "needs_background": "light"
     },
     "output_type": "display_data"
    }
   ],
   "source": [
    "fun_plotting.raster_plot(np.array(df_lN_mb_pst), 'Reconstruction', 1, genes_order)\n",
    "plt.show()"
   ]
  },
  {
   "cell_type": "code",
   "execution_count": 48,
   "metadata": {},
   "outputs": [
    {
     "data": {
      "image/png": "[encoded data removed]",
      "text/plain": [
       "<Figure size 1296x360 with 1 Axes>"
      ]
     },
     "metadata": {
      "needs_background": "light"
     },
     "output_type": "display_data"
    }
   ],
   "source": [
    "funcs_ko.KO_plots_SimMultiple_SCODE(KO_df_sim, KO_genes_order, wt_avg_GE, wt_std_GE)"
   ]
  },
  {
   "cell_type": "code",
   "execution_count": null,
   "metadata": {},
   "outputs": [],
   "source": []
  }
 ],
 "metadata": {
  "kernelspec": {
   "display_name": "Python 3 (ipykernel)",
   "language": "python",
   "name": "python3"
  },
  "language_info": {
   "codemirror_mode": {
    "name": "ipython",
    "version": 3
   },
   "file_extension": ".py",
   "mimetype": "text/x-python",
   "name": "python",
   "nbconvert_exporter": "python",
   "pygments_lexer": "ipython3",
   "version": "3.9.7"
  },
  "latex_envs": {
   "LaTeX_envs_menu_present": true,
   "autoclose": true,
   "autocomplete": true,
   "bibliofile": "biblio.bib",
   "cite_by": "apalike",
   "current_citInitial": 1,
   "eqLabelWithNumbers": true,
   "eqNumInitial": 1,
   "hotkeys": {
    "equation": "Ctrl-E",
    "itemize": "Ctrl-I"
   },
   "labels_anchors": false,
   "latex_user_defs": false,
   "report_style_numbering": false,
   "user_envs_cfg": false
  },
  "toc": {
   "base_numbering": 1,
   "nav_menu": {},
   "number_sections": true,
   "sideBar": true,
   "skip_h1_title": false,
   "title_cell": "Table of Contents",
   "title_sidebar": "Contents",
   "toc_cell": false,
   "toc_position": {
    "height": "calc(100% - 180px)",
    "left": "10px",
    "top": "150px",
    "width": "165px"
   },
   "toc_section_display": true,
   "toc_window_display": true
  }
 },
 "nbformat": 4,
 "nbformat_minor": 4
}
