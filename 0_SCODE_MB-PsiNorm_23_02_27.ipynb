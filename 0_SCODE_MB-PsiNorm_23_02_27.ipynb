{
 "cells": [
  {
   "cell_type": "code",
   "execution_count": 112,
   "metadata": {},
   "outputs": [
    {
     "name": "stdout",
     "output_type": "stream",
     "text": [
      "Last run date: 2023-02-27\n"
     ]
    }
   ],
   "source": [
    "from datetime import date\n",
    "\n",
    "print(\"Last run date:\", date.today())"
   ]
  },
  {
   "cell_type": "code",
   "execution_count": 113,
   "metadata": {},
   "outputs": [
    {
     "name": "stdout",
     "output_type": "stream",
     "text": [
      "The autoreload extension is already loaded. To reload it, use:\n",
      "  %reload_ext autoreload\n"
     ]
    }
   ],
   "source": [
    "import pandas as pd\n",
    "import numpy as np\n",
    "import matplotlib.pyplot as plt\n",
    "import scipy as sp\n",
    "from scipy import stats\n",
    "import os\n",
    "import matplotlib\n",
    "import math\n",
    "import seaborn as sns\n",
    "\n",
    "import lib.minibulk_funcs as mb\n",
    "import lib.figs_funcs as figfunc\n",
    "import lib.matx_funcs as matxfunc\n",
    "import lib.fun_plotting as fun_plotting\n",
    "\n",
    "import lib.NetAnalysis as na\n",
    "\n",
    "%load_ext autoreload\n",
    "%autoreload 2"
   ]
  },
  {
   "cell_type": "code",
   "execution_count": 114,
   "metadata": {},
   "outputs": [],
   "source": [
    "matplotlib.rc('font', **{'family': 'serif', 'serif': ['Computer Modern']})\n",
    "matplotlib.rc('text', usetex=True)"
   ]
  },
  {
   "cell_type": "code",
   "execution_count": 115,
   "metadata": {},
   "outputs": [
    {
     "data": {
      "text/plain": [
       "'/Users/cleliacorridori/Dropbox_2021 Dropbox/Jorah Mormont/Code/Work/1_NetworkInference'"
      ]
     },
     "execution_count": 115,
     "metadata": {},
     "output_type": "execute_result"
    }
   ],
   "source": [
    "import os\n",
    "current_path = os.getcwd()\n",
    "current_path"
   ]
  },
  {
   "cell_type": "code",
   "execution_count": 116,
   "metadata": {},
   "outputs": [],
   "source": [
    "path = \"/Users/cleliacorridori/Dropbox_2021 Dropbox/Jorah Mormont/Code/Work/\" # for Mac"
   ]
  },
  {
   "cell_type": "code",
   "execution_count": 117,
   "metadata": {},
   "outputs": [
    {
     "data": {
      "text/plain": [
       "array(['Klf4', 'Klf2', 'Esrrb', 'Tfcp2l1', 'Tbx3', 'Stat3', 'Tcf7l1',\n",
       "       'Nanog', 'Sall4', 'Pou5f1', 'Sox2', 'Dnmt3a', 'Dnmt3b', 'Utf1',\n",
       "       'Otx2', 'Etv5', 'Etv4', 'Nr0b1', 'Zic3', 'Lef1', 'Tcf15', 'Gbx2',\n",
       "       'Pou3f1', 'Rbpj'], dtype='<U7')"
      ]
     },
     "execution_count": 117,
     "metadata": {},
     "output_type": "execute_result"
    }
   ],
   "source": [
    "imp_genes = np.loadtxt(path+\"general_info/imp_genes.csv\", dtype=\"str\")\n",
    "imp_genes"
   ]
  },
  {
   "cell_type": "code",
   "execution_count": 118,
   "metadata": {},
   "outputs": [
    {
     "name": "stdout",
     "output_type": "stream",
     "text": [
      "imp_genes_raw\n"
     ]
    }
   ],
   "source": [
    "data_type = \"raw\" # Or  \"PsiNorm\"\n",
    "important_genes = True\n",
    "\n",
    "if important_genes == True:\n",
    "    text = \"imp_genes_\"+data_type\n",
    "else:\n",
    "    text = data_type\n",
    "        \n",
    "print(text)"
   ]
  },
  {
   "cell_type": "code",
   "execution_count": 119,
   "metadata": {},
   "outputs": [],
   "source": [
    "# GENE CLASSIFICATION\n",
    "naive = [\"Klf4\", \"Klf2\", \"Esrrb\", \"Tfcp2l1\", \"Tbx3\", \"Stat3\", \"Nanog\", \"Sox2\"]\n",
    "formative = [\"Nr0b1\", \"Zic3\", \"Rbpj\", \"Utf1\", \"Etv4\", \"Tcf15\"]\n",
    "committed = [\"Dnmt3a\", \"Dnmt3b\", \"Lef1\", \"Otx2\", \"Pou3f1\", \"Etv5\"]\n",
    "\n",
    "genes_order = np.concatenate((naive, formative, committed))\n",
    "nc_genes = np.setdiff1d(imp_genes, genes_order)\n",
    "genes_order = np.concatenate((genes_order, nc_genes))"
   ]
  },
  {
   "cell_type": "markdown",
   "metadata": {},
   "source": [
    "Fissiamo la threshold per calcolare il Mini-bulk"
   ]
  },
  {
   "cell_type": "code",
   "execution_count": 120,
   "metadata": {},
   "outputs": [],
   "source": [
    "w_size = 150\n"
   ]
  },
  {
   "cell_type": "markdown",
   "metadata": {},
   "source": [
    "# Check"
   ]
  },
  {
   "cell_type": "code",
   "execution_count": 121,
   "metadata": {},
   "outputs": [],
   "source": [
    "def TP_check(interaction_list, interaction_matrix, genes_list, inferred_int_thr = 0, Norm = True):\n",
    "    \"\"\"\n",
    "    NOTE: for not symmetric interaction_matrix:\n",
    "    - rows: who undergoes the action;\n",
    "    -columns: who acts.\n",
    "    NOTE: to read the input interaction_list:\n",
    "    - couple[0] : who acts;\n",
    "    - couple[1] : who undergoes the action.\n",
    "    \n",
    "    NOTE: inferred_int_thr is computed as fraction of max(interaction_matrix) \n",
    "    \"\"\"\n",
    "    if Norm:\n",
    "        m_max = np.max(np.abs(interaction_matrix))\n",
    "    else:\n",
    "        m_max = 1\n",
    "    \n",
    "    true_positive=0\n",
    "    int_val = np.zeros(len(interaction_list))\n",
    "    wrong_ints = []\n",
    "    out_matx = np.zeros((4, len(interaction_list)))\n",
    "    \n",
    "    for ii in range(len(interaction_list)): # split the list of strings\n",
    "        couple = interaction_list[ii].split(\" \")\n",
    "        gene1_idx = np.where(genes_list == couple[1])[0] #idx of gene 1\n",
    "        gene0_idx = np.where(genes_list == couple[0])[0] #idx of gene 0  \n",
    "        \n",
    "        # check if the interaction's genes already exist:\n",
    "        if (len(np.where(genes_list == couple[0])[0])==0):\n",
    "            print(\"Gene \"+ couple[0]+\" not found\")\n",
    "            continue\n",
    "        if (len(np.where(genes_list == couple[1])[0])==0):\n",
    "            print(\"Gene \"+ couple[1]+\" not found\")\n",
    "            continue\n",
    "            \n",
    "        # the subjects of the interaction\n",
    "        out_matx[0,ii] = gene0_idx # who acts\n",
    "        out_matx[1,ii] = gene1_idx # who acts\n",
    "  \n",
    "        # the interaction value (and the sign of the interaction)\n",
    "        out_matx[2,ii] = interaction_matrix[gene1_idx[0], gene0_idx[0]]\n",
    "        interaction = np.sign(out_matx[2,ii])\n",
    "\n",
    "        if (interaction==int(couple[2])) and (np.abs(out_matx[2,ii])/m_max >= inferred_int_thr):\n",
    "            out_matx[3,ii] = 1\n",
    "        else:\n",
    "            out_matx[3,ii] = 0\n",
    "\n",
    "    return(np.sum(out_matx[3,:])/len(out_matx[3,:]), out_matx)\n",
    "        "
   ]
  },
  {
   "cell_type": "code",
   "execution_count": 122,
   "metadata": {},
   "outputs": [],
   "source": [
    "def TP_plot(interaction_list, interaction_matrix, genes_order, inferred_int_thr=0, Norm_Matx = False,\n",
    "            data_type=\"scRNA-seq PST MB\", \n",
    "            figplot=True, nbin=30, \n",
    "            verbose=False, Norm=True):\n",
    "    \"\"\"Wrap function to visualize all the results of the comparison with the known interactions (TP)\"\"\"\n",
    "    \n",
    "    if Norm_Matx:\n",
    "        interaction_matrix= interaction_matrix/np.nanmax(np.abs(interaction_matrix))\n",
    "\n",
    "    # Check the list of known interactions correctly inferred\n",
    "    TP_fraction, TP_info = TP_check(interaction_list, interaction_matrix, genes_order, inferred_int_thr, Norm=Norm)\n",
    "    \n",
    "    # Print the fraction of true positives and the TP and all interaction values:\n",
    "    if verbose==True:\n",
    "        print(\"\\nRESULTS for \" + data_type)\n",
    "        print(\"\\nTP fraction:\", np.round(TP_fraction, 2))\n",
    "        print(\"\\nInteraction values:\\n\", np.round(TP_info[2,:],3))\n",
    "        print(\"\\nTP ints values:\\n\", np.round(TP_info[2,:]*TP_info[3,:],3))\n",
    "    \n",
    "    # If the figplot flag is set to True, plot the matrix and the distribution of the INTERACTION MATRIX\n",
    "    if figplot==True:\n",
    "        bins = np.linspace(interaction_matrix.flatten().min(), interaction_matrix.flatten().max(), nbin)\n",
    "        fig, ax = plt.subplots(nrows=1, ncols=2, figsize=(14, 5))\n",
    "        figfunc.plotmat(interaction_matrix, fig, ax[0], genes_order, data_type+\"\")\n",
    "        sns.histplot(np.ndarray.flatten(interaction_matrix), ax=ax[1], stat=\"density\", bins=bins)\n",
    "        plt.show()\n",
    "        \n",
    "    return(TP_fraction, TP_info, interaction_matrix)\n"
   ]
  },
  {
   "cell_type": "markdown",
   "metadata": {},
   "source": [
    "## Neighbours Interactions"
   ]
  },
  {
   "cell_type": "code",
   "execution_count": 123,
   "metadata": {},
   "outputs": [],
   "source": [
    "TPtrial_list = [\"Stat3 Klf4 1\", \"Nanog Esrrb 1\", \"Stat3 Dnmt3b -1\", \n",
    "                \"Nanog Otx2 -1\", \"Nanog Pou3f1 -1\",\n",
    "                \"Stat3 Gbx2 1\", \"Stat3 Tfcp2l1 1\", # \"Stat3 Stat3 1\"\n",
    "                \"Otx2 Pou3f1 1\", \"Otx2 Dnmt3a 1\", \n",
    "                \"Tcf7l1 Esrrb -1\", \"Tcf7l1 Klf2 -1\", \"Tcf7l1 Nanog -1\", \"Tcf7l1 Nr0b1 -1\",  \"Tcf7l1 Tfcp2l1 -1\",  \n",
    "                \"Rbpj Nanog -1\", \"Rbpj Tbx3 -1\", \"Etv5 Lef1 1\", \"Etv5 Pou3f1 1\"]\n"
   ]
  },
  {
   "cell_type": "markdown",
   "metadata": {},
   "source": [
    "## Directed Correlations"
   ]
  },
  {
   "cell_type": "code",
   "execution_count": 124,
   "metadata": {},
   "outputs": [
    {
     "data": {
      "image/png": "[encoded data removed]",
      "text/plain": [
       "<Figure size 864x1080 with 2 Axes>"
      ]
     },
     "metadata": {
      "needs_background": "light"
     },
     "output_type": "display_data"
    }
   ],
   "source": [
    "def InteractionList(path=\"LogFC_Leeb.csv\", perc=0.1):\n",
    "    df = pd.read_csv(path, sep=\";\")\n",
    "    df.iloc[:,1:] = df.iloc[:,1:].replace(',', '.', regex=True).astype(float)\n",
    "    df.set_index(df.columns[0], inplace=True)\n",
    "    thr = np.abs(df.max().max()*perc)\n",
    "    output = []\n",
    "    for row in df.index:\n",
    "        for col in df.columns:\n",
    "            element = df.loc[row, col]\n",
    "            if element > thr:\n",
    "                sign = \"1\"\n",
    "            elif element < -thr:\n",
    "                sign = \"-1\"\n",
    "            else:\n",
    "                df.loc[row, col] = 0\n",
    "                sign = \"0\"\n",
    "#             if (sign == \"-1\") or (sign == \"1\"):\n",
    "            output.append(f\"{col} {row} {sign}\")\n",
    "    return(output, df)\n",
    "\n",
    "Interactions_list, df = InteractionList(path=\"LogFC_Leeb.csv\", perc=0.05)\n",
    "df = df.set_index(genes_order)\n",
    "\n",
    "plt.figure(figsize=(12,15))\n",
    "sns.heatmap(np.array(df).astype(float), annot=True, fmt=\"g\", \n",
    "            xticklabels=df.columns, yticklabels=df.index, \n",
    "           cmap=\"coolwarm\", cbar=True, center=0)\n",
    "plt.show()\n",
    "\n",
    "# print(1-len(Interactions_list)/( df.shape[0]*df.shape[1]))"
   ]
  },
  {
   "cell_type": "markdown",
   "metadata": {},
   "source": [
    "# SCODE"
   ]
  },
  {
   "cell_type": "code",
   "execution_count": 125,
   "metadata": {},
   "outputs": [],
   "source": [
    "# data_PST = pd.read_csv(\"~/Downloads/SCODE-master/MyData/timePST.txt\", sep=\"\\t\", header=None)\n",
    "\n",
    "# data_LN = pd.read_csv(\"~/Downloads/SCODE-master/MyData/data_LN.txt\", sep=\"\\t\", header=None)\n",
    "\n",
    "# data_PST.shape\n",
    "# data_LN.shape"
   ]
  },
  {
   "cell_type": "code",
   "execution_count": 126,
   "metadata": {},
   "outputs": [
    {
     "data": {
      "text/html": [
       "<div>\n",
       "<style scoped>\n",
       "    .dataframe tbody tr th:only-of-type {\n",
       "        vertical-align: middle;\n",
       "    }\n",
       "\n",
       "    .dataframe tbody tr th {\n",
       "        vertical-align: top;\n",
       "    }\n",
       "\n",
       "    .dataframe thead th {\n",
       "        text-align: right;\n",
       "    }\n",
       "</style>\n",
       "<table border=\"1\" class=\"dataframe\">\n",
       "  <thead>\n",
       "    <tr style=\"text-align: right;\">\n",
       "      <th></th>\n",
       "      <th>AAACCCAGTGACCGTC</th>\n",
       "      <th>AAACGAAAGCGCGTTC</th>\n",
       "      <th>AAACGAACAAGCACCC</th>\n",
       "      <th>AAACGAATCAAGTCGT</th>\n",
       "      <th>AAACGCTTCCGTGACG</th>\n",
       "      <th>AAAGAACGTCAGATTC</th>\n",
       "      <th>AAAGAACTCACTTGTT</th>\n",
       "      <th>AAAGGATCAAATCAAG</th>\n",
       "      <th>AAAGGATTCTGAACGT</th>\n",
       "      <th>AAAGGGCAGCAGGCAT</th>\n",
       "      <th>...</th>\n",
       "      <th>TTTGACTGTCAGCTTA</th>\n",
       "      <th>TTTGACTGTGTTATCG</th>\n",
       "      <th>TTTGACTTCGCCACTT</th>\n",
       "      <th>TTTGATCGTTCTCCAC</th>\n",
       "      <th>TTTGGTTAGAGAGCGG</th>\n",
       "      <th>TTTGGTTGTGATCATC</th>\n",
       "      <th>TTTGGTTTCACGGGCT</th>\n",
       "      <th>TTTGGTTTCCAACACA</th>\n",
       "      <th>TTTGTTGCATCGAAGG</th>\n",
       "      <th>TTTGTTGCATCTCATT</th>\n",
       "    </tr>\n",
       "    <tr>\n",
       "      <th>1.1</th>\n",
       "      <th></th>\n",
       "      <th></th>\n",
       "      <th></th>\n",
       "      <th></th>\n",
       "      <th></th>\n",
       "      <th></th>\n",
       "      <th></th>\n",
       "      <th></th>\n",
       "      <th></th>\n",
       "      <th></th>\n",
       "      <th></th>\n",
       "      <th></th>\n",
       "      <th></th>\n",
       "      <th></th>\n",
       "      <th></th>\n",
       "      <th></th>\n",
       "      <th></th>\n",
       "      <th></th>\n",
       "      <th></th>\n",
       "      <th></th>\n",
       "      <th></th>\n",
       "    </tr>\n",
       "  </thead>\n",
       "  <tbody>\n",
       "    <tr>\n",
       "      <th>Klf4</th>\n",
       "      <td>1.485415</td>\n",
       "      <td>1.338896</td>\n",
       "      <td>0.000000</td>\n",
       "      <td>0.855192</td>\n",
       "      <td>2.511880</td>\n",
       "      <td>1.881212</td>\n",
       "      <td>0.000000</td>\n",
       "      <td>1.267982</td>\n",
       "      <td>1.684245</td>\n",
       "      <td>0.000000</td>\n",
       "      <td>...</td>\n",
       "      <td>0.0</td>\n",
       "      <td>1.592437</td>\n",
       "      <td>1.025867</td>\n",
       "      <td>0.0</td>\n",
       "      <td>0.0</td>\n",
       "      <td>0.0</td>\n",
       "      <td>0.000000</td>\n",
       "      <td>0.000000</td>\n",
       "      <td>0.0</td>\n",
       "      <td>0.000000</td>\n",
       "    </tr>\n",
       "    <tr>\n",
       "      <th>Klf2</th>\n",
       "      <td>1.485415</td>\n",
       "      <td>0.000000</td>\n",
       "      <td>1.338774</td>\n",
       "      <td>1.388465</td>\n",
       "      <td>0.000000</td>\n",
       "      <td>1.479866</td>\n",
       "      <td>2.463433</td>\n",
       "      <td>2.385357</td>\n",
       "      <td>1.075095</td>\n",
       "      <td>1.705082</td>\n",
       "      <td>...</td>\n",
       "      <td>0.0</td>\n",
       "      <td>2.008406</td>\n",
       "      <td>1.025867</td>\n",
       "      <td>0.0</td>\n",
       "      <td>0.0</td>\n",
       "      <td>0.0</td>\n",
       "      <td>2.182156</td>\n",
       "      <td>0.000000</td>\n",
       "      <td>0.0</td>\n",
       "      <td>1.578242</td>\n",
       "    </tr>\n",
       "    <tr>\n",
       "      <th>Esrrb</th>\n",
       "      <td>0.000000</td>\n",
       "      <td>1.338896</td>\n",
       "      <td>0.000000</td>\n",
       "      <td>1.388465</td>\n",
       "      <td>1.360576</td>\n",
       "      <td>0.000000</td>\n",
       "      <td>0.000000</td>\n",
       "      <td>1.267982</td>\n",
       "      <td>0.000000</td>\n",
       "      <td>0.000000</td>\n",
       "      <td>...</td>\n",
       "      <td>0.0</td>\n",
       "      <td>1.005610</td>\n",
       "      <td>0.000000</td>\n",
       "      <td>0.0</td>\n",
       "      <td>0.0</td>\n",
       "      <td>0.0</td>\n",
       "      <td>1.123956</td>\n",
       "      <td>0.952262</td>\n",
       "      <td>0.0</td>\n",
       "      <td>0.000000</td>\n",
       "    </tr>\n",
       "  </tbody>\n",
       "</table>\n",
       "<p>3 rows × 9894 columns</p>\n",
       "</div>"
      ],
      "text/plain": [
       "       AAACCCAGTGACCGTC  AAACGAAAGCGCGTTC  AAACGAACAAGCACCC  AAACGAATCAAGTCGT  \\\n",
       "1.1                                                                             \n",
       "Klf4           1.485415          1.338896          0.000000          0.855192   \n",
       "Klf2           1.485415          0.000000          1.338774          1.388465   \n",
       "Esrrb          0.000000          1.338896          0.000000          1.388465   \n",
       "\n",
       "       AAACGCTTCCGTGACG  AAAGAACGTCAGATTC  AAAGAACTCACTTGTT  AAAGGATCAAATCAAG  \\\n",
       "1.1                                                                             \n",
       "Klf4           2.511880          1.881212          0.000000          1.267982   \n",
       "Klf2           0.000000          1.479866          2.463433          2.385357   \n",
       "Esrrb          1.360576          0.000000          0.000000          1.267982   \n",
       "\n",
       "       AAAGGATTCTGAACGT  AAAGGGCAGCAGGCAT  ...  TTTGACTGTCAGCTTA  \\\n",
       "1.1                                        ...                     \n",
       "Klf4           1.684245          0.000000  ...               0.0   \n",
       "Klf2           1.075095          1.705082  ...               0.0   \n",
       "Esrrb          0.000000          0.000000  ...               0.0   \n",
       "\n",
       "       TTTGACTGTGTTATCG  TTTGACTTCGCCACTT  TTTGATCGTTCTCCAC  TTTGGTTAGAGAGCGG  \\\n",
       "1.1                                                                             \n",
       "Klf4           1.592437          1.025867               0.0               0.0   \n",
       "Klf2           2.008406          1.025867               0.0               0.0   \n",
       "Esrrb          1.005610          0.000000               0.0               0.0   \n",
       "\n",
       "       TTTGGTTGTGATCATC  TTTGGTTTCACGGGCT  TTTGGTTTCCAACACA  TTTGTTGCATCGAAGG  \\\n",
       "1.1                                                                             \n",
       "Klf4                0.0          0.000000          0.000000               0.0   \n",
       "Klf2                0.0          2.182156          0.000000               0.0   \n",
       "Esrrb               0.0          1.123956          0.952262               0.0   \n",
       "\n",
       "       TTTGTTGCATCTCATT  \n",
       "1.1                      \n",
       "Klf4           0.000000  \n",
       "Klf2           1.578242  \n",
       "Esrrb          0.000000  \n",
       "\n",
       "[3 rows x 9894 columns]"
      ]
     },
     "execution_count": 126,
     "metadata": {},
     "output_type": "execute_result"
    }
   ],
   "source": [
    "df_lN = pd.read_csv(path + \"GE_data/imp_genes_PsiNorm.csv\", header=0, index_col=0, sep=\",\").reindex(genes_order)\n",
    "df_lN.head(3)"
   ]
  },
  {
   "cell_type": "markdown",
   "metadata": {},
   "source": [
    "## PST"
   ]
  },
  {
   "cell_type": "code",
   "execution_count": 127,
   "metadata": {},
   "outputs": [
    {
     "name": "stdout",
     "output_type": "stream",
     "text": [
      "Min pseudotime:  0.0 - Max pseudotime:  26.2993780102351\n",
      "Number of cells in PST df:  9732\n"
     ]
    },
    {
     "data": {
      "text/plain": [
       "<AxesSubplot:xlabel='pst', ylabel='Density'>"
      ]
     },
     "execution_count": 127,
     "metadata": {},
     "output_type": "execute_result"
    },
    {
     "data": {
      "image/png": "[encoded data removed]",
      "text/plain": [
       "<Figure size 504x360 with 1 Axes>"
      ]
     },
     "metadata": {
      "needs_background": "light"
     },
     "output_type": "display_data"
    }
   ],
   "source": [
    "PST_df = pd.read_csv(path+'input_data/cellinfo_pseudotime_UMAPno2clcs_23_01_13.txt',\n",
    "                              header = 0, sep = ' ', quotechar = '\"', \n",
    "                              names = [\"barcodes\", \"time\", \"pst\"])\n",
    "\n",
    "print(\"Min pseudotime: \", np.min(PST_df[\"pst\"]), \"- Max pseudotime: \", np.max(PST_df[\"pst\"]))\n",
    "print(\"Number of cells in PST df: \", PST_df.shape[0])\n",
    "\n",
    "# sorting in ascending values of pseudo-time\n",
    "PST_df = PST_df.sort_values(by=['pst'])\n",
    "PST_df.tail(3)\n",
    "\n",
    "# PLOT different times separated\n",
    "plt.figure(figsize=(7,5))\n",
    "sns.histplot(data=PST_df, x=\"pst\", hue=\"time\", stat=\"density\", bins=40)\n",
    "\n",
    "# histogram with all cell pseudotime\n",
    "# sns.histplot(data=PST_df, x=\"pst\", stat=\"density\")\n"
   ]
  },
  {
   "cell_type": "code",
   "execution_count": 128,
   "metadata": {},
   "outputs": [
    {
     "name": "stderr",
     "output_type": "stream",
     "text": [
      "/var/folders/2z/hsgwjl3d49109llzgvkyf6jw0000gn/T/ipykernel_4749/2209648949.py:2: UserWarning: Boolean Series key will be reindexed to match DataFrame index.\n",
      "  PST_df_new = PST_df_new.drop(PST_df_new[(PST_df[\"time\"] == \"24h\") & (PST_df_new[\"pst\"] < 8.0)].index)\n",
      "/var/folders/2z/hsgwjl3d49109llzgvkyf6jw0000gn/T/ipykernel_4749/2209648949.py:3: UserWarning: Boolean Series key will be reindexed to match DataFrame index.\n",
      "  PST_df_new = PST_df_new.drop(PST_df_new[(PST_df[\"time\"] == \"06h\") & (PST_df_new[\"pst\"] < 8.0)].index)\n",
      "/var/folders/2z/hsgwjl3d49109llzgvkyf6jw0000gn/T/ipykernel_4749/2209648949.py:4: UserWarning: Boolean Series key will be reindexed to match DataFrame index.\n",
      "  PST_df_new = PST_df_new.drop(PST_df_new[(PST_df[\"time\"] == \"12h\") & (PST_df_new[\"pst\"] < 8.0)].index)\n"
     ]
    },
    {
     "name": "stdout",
     "output_type": "stream",
     "text": [
      "              barcodes time        pst\n",
      "9156  TTCAGGAAGCAGTACG  00h   0.000000\n",
      "6252  GTAGATCAGTAGGTTA  00h   0.303601\n",
      "3486  CGAAGGACACGGGCTT  00h   0.409823\n",
      "6441  GTCGCGAGTCGTCTCT  00h   0.492022\n",
      "3460  CCTTCAGGTCCAGCGT  00h   0.550231\n",
      "...                ...  ...        ...\n",
      "5202  GATTCGAAGATACAGT  24h  26.014790\n",
      "5406  GCCAGGTAGAAGAACG  48h  26.075457\n",
      "3834  CGTGCTTTCGACGTCG  48h  26.133877\n",
      "1471  AGGGTGACAATACGAA  48h  26.139080\n",
      "3016  CCACAAAAGCGTGAAC  48h  26.299378\n",
      "\n",
      "[8273 rows x 3 columns]\n"
     ]
    },
    {
     "data": {
      "image/png": "[encoded data removed]",
      "text/plain": [
       "<Figure size 504x360 with 1 Axes>"
      ]
     },
     "metadata": {
      "needs_background": "light"
     },
     "output_type": "display_data"
    }
   ],
   "source": [
    "PST_df_new = PST_df.drop(PST_df[(PST_df[\"time\"] == \"48h\") & (PST_df[\"pst\"] < 8.0)].index)\n",
    "PST_df_new = PST_df_new.drop(PST_df_new[(PST_df[\"time\"] == \"24h\") & (PST_df_new[\"pst\"] < 8.0)].index)\n",
    "PST_df_new = PST_df_new.drop(PST_df_new[(PST_df[\"time\"] == \"06h\") & (PST_df_new[\"pst\"] < 8.0)].index)\n",
    "PST_df_new = PST_df_new.drop(PST_df_new[(PST_df[\"time\"] == \"12h\") & (PST_df_new[\"pst\"] < 8.0)].index)\n",
    "# PST_df_new = PST_df_new.drop(PST_df_new[(PST_df_new[\"pst\"] < 3.00)].index)\n",
    "\n",
    "print(PST_df_new)\n",
    "\n",
    "plt.figure(figsize=(7,5))\n",
    "sns.histplot(data=PST_df_new, x=\"pst\", hue=\"time\", stat=\"density\", bins=40)\n",
    "\n",
    "pst_df = PST_df_new.copy()"
   ]
  },
  {
   "cell_type": "code",
   "execution_count": 129,
   "metadata": {},
   "outputs": [
    {
     "data": {
      "text/html": [
       "<div>\n",
       "<style scoped>\n",
       "    .dataframe tbody tr th:only-of-type {\n",
       "        vertical-align: middle;\n",
       "    }\n",
       "\n",
       "    .dataframe tbody tr th {\n",
       "        vertical-align: top;\n",
       "    }\n",
       "\n",
       "    .dataframe thead th {\n",
       "        text-align: right;\n",
       "    }\n",
       "</style>\n",
       "<table border=\"1\" class=\"dataframe\">\n",
       "  <thead>\n",
       "    <tr style=\"text-align: right;\">\n",
       "      <th>barcodes</th>\n",
       "      <th>CTACCTGAGAGCAACC</th>\n",
       "      <th>GGGATCCCAGTTGAAA</th>\n",
       "      <th>TGGGCGTAGAAGTGTT</th>\n",
       "      <th>TTGCGTCTCATCCCGT</th>\n",
       "      <th>CGGTCAGTCGATCCAA</th>\n",
       "      <th>CATCGTCCAACCGTGC</th>\n",
       "      <th>ATCACTTGTCGTTGCG</th>\n",
       "      <th>ATTCGTTGTTCGGTCG</th>\n",
       "      <th>TAGGTACAGGCTCTAT</th>\n",
       "      <th>GCGTTTCTCTCCAAGA</th>\n",
       "      <th>...</th>\n",
       "      <th>AACAAAGAGAGCGACT</th>\n",
       "      <th>TCATACTAGGTGTGAC</th>\n",
       "      <th>GCCATTCAGCCAGAGT</th>\n",
       "      <th>AACAGGGGTGCACGCT</th>\n",
       "      <th>GATCATGTCTGTAACG</th>\n",
       "      <th>GATTCGAAGATACAGT</th>\n",
       "      <th>GCCAGGTAGAAGAACG</th>\n",
       "      <th>CGTGCTTTCGACGTCG</th>\n",
       "      <th>AGGGTGACAATACGAA</th>\n",
       "      <th>CCACAAAAGCGTGAAC</th>\n",
       "    </tr>\n",
       "    <tr>\n",
       "      <th>1.1</th>\n",
       "      <th></th>\n",
       "      <th></th>\n",
       "      <th></th>\n",
       "      <th></th>\n",
       "      <th></th>\n",
       "      <th></th>\n",
       "      <th></th>\n",
       "      <th></th>\n",
       "      <th></th>\n",
       "      <th></th>\n",
       "      <th></th>\n",
       "      <th></th>\n",
       "      <th></th>\n",
       "      <th></th>\n",
       "      <th></th>\n",
       "      <th></th>\n",
       "      <th></th>\n",
       "      <th></th>\n",
       "      <th></th>\n",
       "      <th></th>\n",
       "      <th></th>\n",
       "    </tr>\n",
       "  </thead>\n",
       "  <tbody>\n",
       "    <tr>\n",
       "      <th>Klf4</th>\n",
       "      <td>0.742050</td>\n",
       "      <td>0.753709</td>\n",
       "      <td>0.753709</td>\n",
       "      <td>0.753709</td>\n",
       "      <td>0.767439</td>\n",
       "      <td>0.750540</td>\n",
       "      <td>0.734958</td>\n",
       "      <td>0.744650</td>\n",
       "      <td>0.744650</td>\n",
       "      <td>0.764925</td>\n",
       "      <td>...</td>\n",
       "      <td>0.141278</td>\n",
       "      <td>0.141278</td>\n",
       "      <td>0.133910</td>\n",
       "      <td>0.135940</td>\n",
       "      <td>0.128608</td>\n",
       "      <td>0.128608</td>\n",
       "      <td>0.128608</td>\n",
       "      <td>0.128608</td>\n",
       "      <td>0.128608</td>\n",
       "      <td>0.128608</td>\n",
       "    </tr>\n",
       "    <tr>\n",
       "      <th>Klf2</th>\n",
       "      <td>0.932831</td>\n",
       "      <td>0.938236</td>\n",
       "      <td>0.954685</td>\n",
       "      <td>0.947056</td>\n",
       "      <td>0.947056</td>\n",
       "      <td>0.947521</td>\n",
       "      <td>0.939299</td>\n",
       "      <td>0.948991</td>\n",
       "      <td>0.948991</td>\n",
       "      <td>0.946581</td>\n",
       "      <td>...</td>\n",
       "      <td>0.404834</td>\n",
       "      <td>0.404834</td>\n",
       "      <td>0.404834</td>\n",
       "      <td>0.414851</td>\n",
       "      <td>0.414851</td>\n",
       "      <td>0.424114</td>\n",
       "      <td>0.424114</td>\n",
       "      <td>0.416087</td>\n",
       "      <td>0.407699</td>\n",
       "      <td>0.400793</td>\n",
       "    </tr>\n",
       "    <tr>\n",
       "      <th>Esrrb</th>\n",
       "      <td>0.188526</td>\n",
       "      <td>0.188526</td>\n",
       "      <td>0.188526</td>\n",
       "      <td>0.188526</td>\n",
       "      <td>0.188526</td>\n",
       "      <td>0.188526</td>\n",
       "      <td>0.180303</td>\n",
       "      <td>0.180303</td>\n",
       "      <td>0.180303</td>\n",
       "      <td>0.166094</td>\n",
       "      <td>...</td>\n",
       "      <td>0.203270</td>\n",
       "      <td>0.195377</td>\n",
       "      <td>0.195377</td>\n",
       "      <td>0.187391</td>\n",
       "      <td>0.187391</td>\n",
       "      <td>0.187391</td>\n",
       "      <td>0.187391</td>\n",
       "      <td>0.187391</td>\n",
       "      <td>0.187391</td>\n",
       "      <td>0.180485</td>\n",
       "    </tr>\n",
       "  </tbody>\n",
       "</table>\n",
       "<p>3 rows × 8124 columns</p>\n",
       "</div>"
      ],
      "text/plain": [
       "barcodes  CTACCTGAGAGCAACC  GGGATCCCAGTTGAAA  TGGGCGTAGAAGTGTT  \\\n",
       "1.1                                                              \n",
       "Klf4              0.742050          0.753709          0.753709   \n",
       "Klf2              0.932831          0.938236          0.954685   \n",
       "Esrrb             0.188526          0.188526          0.188526   \n",
       "\n",
       "barcodes  TTGCGTCTCATCCCGT  CGGTCAGTCGATCCAA  CATCGTCCAACCGTGC  \\\n",
       "1.1                                                              \n",
       "Klf4              0.753709          0.767439          0.750540   \n",
       "Klf2              0.947056          0.947056          0.947521   \n",
       "Esrrb             0.188526          0.188526          0.188526   \n",
       "\n",
       "barcodes  ATCACTTGTCGTTGCG  ATTCGTTGTTCGGTCG  TAGGTACAGGCTCTAT  \\\n",
       "1.1                                                              \n",
       "Klf4              0.734958          0.744650          0.744650   \n",
       "Klf2              0.939299          0.948991          0.948991   \n",
       "Esrrb             0.180303          0.180303          0.180303   \n",
       "\n",
       "barcodes  GCGTTTCTCTCCAAGA  ...  AACAAAGAGAGCGACT  TCATACTAGGTGTGAC  \\\n",
       "1.1                         ...                                       \n",
       "Klf4              0.764925  ...          0.141278          0.141278   \n",
       "Klf2              0.946581  ...          0.404834          0.404834   \n",
       "Esrrb             0.166094  ...          0.203270          0.195377   \n",
       "\n",
       "barcodes  GCCATTCAGCCAGAGT  AACAGGGGTGCACGCT  GATCATGTCTGTAACG  \\\n",
       "1.1                                                              \n",
       "Klf4              0.133910          0.135940          0.128608   \n",
       "Klf2              0.404834          0.414851          0.414851   \n",
       "Esrrb             0.195377          0.187391          0.187391   \n",
       "\n",
       "barcodes  GATTCGAAGATACAGT  GCCAGGTAGAAGAACG  CGTGCTTTCGACGTCG  \\\n",
       "1.1                                                              \n",
       "Klf4              0.128608          0.128608          0.128608   \n",
       "Klf2              0.424114          0.424114          0.416087   \n",
       "Esrrb             0.187391          0.187391          0.187391   \n",
       "\n",
       "barcodes  AGGGTGACAATACGAA  CCACAAAAGCGTGAAC  \n",
       "1.1                                           \n",
       "Klf4              0.128608          0.128608  \n",
       "Klf2              0.407699          0.400793  \n",
       "Esrrb             0.187391          0.180485  \n",
       "\n",
       "[3 rows x 8124 columns]"
      ]
     },
     "execution_count": 129,
     "metadata": {},
     "output_type": "execute_result"
    }
   ],
   "source": [
    "mb_wind=150\n",
    "# riordino dataframe : PST\n",
    "column_names = pst_df[\"barcodes\"]\n",
    "df_lN_pst = df_lN.reindex(columns = column_names)\n",
    "# MB\n",
    "df_lN_mb_pst = df_lN_pst.rolling(window=mb_wind, axis=1).mean().dropna(axis=1)\n",
    "df_lN_mb_pst = pd.DataFrame(df_lN_mb_pst, index=df_lN_pst.index)\n",
    "df_lN_mb_pst.head(3)\n",
    "\n"
   ]
  },
  {
   "cell_type": "markdown",
   "metadata": {},
   "source": [
    "### Initial vector for SIMULATION"
   ]
  },
  {
   "cell_type": "code",
   "execution_count": 130,
   "metadata": {},
   "outputs": [],
   "source": [
    "df_lN_mb_pst.iloc[:,:1000].mean(axis=1)\n",
    "\n",
    "\n",
    "# Creating a column of integers from 0 to the length of the series\n",
    "df_saving_index = pd.DataFrame(range(len(genes_order))).set_index(genes_order)\n",
    "\n",
    "# concatenating the series and the index\n",
    "result = pd.concat([df_saving_index, df_lN_mb_pst.iloc[:,:1000].mean(axis=1)], axis=1)\n",
    "result\n",
    "# Saving the resulting DataFrame as a tab-separated text file named 'result.txt'\n",
    "result.to_csv(\"initial_GE_PsiNorm_MB.txt\", sep='\\t', index=False, header=False)\n"
   ]
  },
  {
   "cell_type": "code",
   "execution_count": 131,
   "metadata": {},
   "outputs": [
    {
     "data": {
      "text/html": [
       "<div>\n",
       "<style scoped>\n",
       "    .dataframe tbody tr th:only-of-type {\n",
       "        vertical-align: middle;\n",
       "    }\n",
       "\n",
       "    .dataframe tbody tr th {\n",
       "        vertical-align: top;\n",
       "    }\n",
       "\n",
       "    .dataframe thead th {\n",
       "        text-align: right;\n",
       "    }\n",
       "</style>\n",
       "<table border=\"1\" class=\"dataframe\">\n",
       "  <thead>\n",
       "    <tr style=\"text-align: right;\">\n",
       "      <th></th>\n",
       "      <th>0</th>\n",
       "      <th>1</th>\n",
       "      <th>2</th>\n",
       "      <th>3</th>\n",
       "      <th>4</th>\n",
       "      <th>5</th>\n",
       "      <th>6</th>\n",
       "      <th>7</th>\n",
       "      <th>8</th>\n",
       "      <th>9</th>\n",
       "      <th>...</th>\n",
       "      <th>8114</th>\n",
       "      <th>8115</th>\n",
       "      <th>8116</th>\n",
       "      <th>8117</th>\n",
       "      <th>8118</th>\n",
       "      <th>8119</th>\n",
       "      <th>8120</th>\n",
       "      <th>8121</th>\n",
       "      <th>8122</th>\n",
       "      <th>8123</th>\n",
       "    </tr>\n",
       "  </thead>\n",
       "  <tbody>\n",
       "    <tr>\n",
       "      <th>0</th>\n",
       "      <td>0.742050</td>\n",
       "      <td>0.753709</td>\n",
       "      <td>0.753709</td>\n",
       "      <td>0.753709</td>\n",
       "      <td>0.767439</td>\n",
       "      <td>0.750540</td>\n",
       "      <td>0.734958</td>\n",
       "      <td>0.744650</td>\n",
       "      <td>0.744650</td>\n",
       "      <td>0.764925</td>\n",
       "      <td>...</td>\n",
       "      <td>0.141278</td>\n",
       "      <td>0.141278</td>\n",
       "      <td>0.133910</td>\n",
       "      <td>0.135940</td>\n",
       "      <td>0.128608</td>\n",
       "      <td>0.128608</td>\n",
       "      <td>0.128608</td>\n",
       "      <td>0.128608</td>\n",
       "      <td>0.128608</td>\n",
       "      <td>0.128608</td>\n",
       "    </tr>\n",
       "    <tr>\n",
       "      <th>1</th>\n",
       "      <td>0.932831</td>\n",
       "      <td>0.938236</td>\n",
       "      <td>0.954685</td>\n",
       "      <td>0.947056</td>\n",
       "      <td>0.947056</td>\n",
       "      <td>0.947521</td>\n",
       "      <td>0.939299</td>\n",
       "      <td>0.948991</td>\n",
       "      <td>0.948991</td>\n",
       "      <td>0.946581</td>\n",
       "      <td>...</td>\n",
       "      <td>0.404834</td>\n",
       "      <td>0.404834</td>\n",
       "      <td>0.404834</td>\n",
       "      <td>0.414851</td>\n",
       "      <td>0.414851</td>\n",
       "      <td>0.424114</td>\n",
       "      <td>0.424114</td>\n",
       "      <td>0.416087</td>\n",
       "      <td>0.407699</td>\n",
       "      <td>0.400793</td>\n",
       "    </tr>\n",
       "    <tr>\n",
       "      <th>2</th>\n",
       "      <td>0.188526</td>\n",
       "      <td>0.188526</td>\n",
       "      <td>0.188526</td>\n",
       "      <td>0.188526</td>\n",
       "      <td>0.188526</td>\n",
       "      <td>0.188526</td>\n",
       "      <td>0.180303</td>\n",
       "      <td>0.180303</td>\n",
       "      <td>0.180303</td>\n",
       "      <td>0.166094</td>\n",
       "      <td>...</td>\n",
       "      <td>0.203270</td>\n",
       "      <td>0.195377</td>\n",
       "      <td>0.195377</td>\n",
       "      <td>0.187391</td>\n",
       "      <td>0.187391</td>\n",
       "      <td>0.187391</td>\n",
       "      <td>0.187391</td>\n",
       "      <td>0.187391</td>\n",
       "      <td>0.187391</td>\n",
       "      <td>0.180485</td>\n",
       "    </tr>\n",
       "  </tbody>\n",
       "</table>\n",
       "<p>3 rows × 8124 columns</p>\n",
       "</div>"
      ],
      "text/plain": [
       "       0         1         2         3         4         5         6     \\\n",
       "0  0.742050  0.753709  0.753709  0.753709  0.767439  0.750540  0.734958   \n",
       "1  0.932831  0.938236  0.954685  0.947056  0.947056  0.947521  0.939299   \n",
       "2  0.188526  0.188526  0.188526  0.188526  0.188526  0.188526  0.180303   \n",
       "\n",
       "       7         8         9     ...      8114      8115      8116      8117  \\\n",
       "0  0.744650  0.744650  0.764925  ...  0.141278  0.141278  0.133910  0.135940   \n",
       "1  0.948991  0.948991  0.946581  ...  0.404834  0.404834  0.404834  0.414851   \n",
       "2  0.180303  0.180303  0.166094  ...  0.203270  0.195377  0.195377  0.187391   \n",
       "\n",
       "       8118      8119      8120      8121      8122      8123  \n",
       "0  0.128608  0.128608  0.128608  0.128608  0.128608  0.128608  \n",
       "1  0.414851  0.424114  0.424114  0.416087  0.407699  0.400793  \n",
       "2  0.187391  0.187391  0.187391  0.187391  0.187391  0.180485  \n",
       "\n",
       "[3 rows x 8124 columns]"
      ]
     },
     "execution_count": 131,
     "metadata": {},
     "output_type": "execute_result"
    }
   ],
   "source": [
    "data_LN = df_lN_mb_pst.copy()\n",
    "data_LN.columns = np.arange(0,len(data_LN.columns))\n",
    "data_LN.index = np.arange(0,len(data_LN.index))\n",
    "\n",
    "data_LN.head(3)"
   ]
  },
  {
   "cell_type": "code",
   "execution_count": 132,
   "metadata": {},
   "outputs": [
    {
     "name": "stdout",
     "output_type": "stream",
     "text": [
      "(8124, 2)\n"
     ]
    },
    {
     "data": {
      "text/html": [
       "<div>\n",
       "<style scoped>\n",
       "    .dataframe tbody tr th:only-of-type {\n",
       "        vertical-align: middle;\n",
       "    }\n",
       "\n",
       "    .dataframe tbody tr th {\n",
       "        vertical-align: top;\n",
       "    }\n",
       "\n",
       "    .dataframe thead th {\n",
       "        text-align: right;\n",
       "    }\n",
       "</style>\n",
       "<table border=\"1\" class=\"dataframe\">\n",
       "  <thead>\n",
       "    <tr style=\"text-align: right;\">\n",
       "      <th></th>\n",
       "      <th>time</th>\n",
       "      <th>pst</th>\n",
       "    </tr>\n",
       "  </thead>\n",
       "  <tbody>\n",
       "    <tr>\n",
       "      <th>0</th>\n",
       "      <td>0</td>\n",
       "      <td>0.100720</td>\n",
       "    </tr>\n",
       "    <tr>\n",
       "      <th>1</th>\n",
       "      <td>0</td>\n",
       "      <td>0.101643</td>\n",
       "    </tr>\n",
       "    <tr>\n",
       "      <th>2</th>\n",
       "      <td>0</td>\n",
       "      <td>0.102494</td>\n",
       "    </tr>\n",
       "    <tr>\n",
       "      <th>3</th>\n",
       "      <td>0</td>\n",
       "      <td>0.103317</td>\n",
       "    </tr>\n",
       "    <tr>\n",
       "      <th>4</th>\n",
       "      <td>0</td>\n",
       "      <td>0.104126</td>\n",
       "    </tr>\n",
       "  </tbody>\n",
       "</table>\n",
       "</div>"
      ],
      "text/plain": [
       "   time       pst\n",
       "0     0  0.100720\n",
       "1     0  0.101643\n",
       "2     0  0.102494\n",
       "3     0  0.103317\n",
       "4     0  0.104126"
      ]
     },
     "execution_count": 132,
     "metadata": {},
     "output_type": "execute_result"
    }
   ],
   "source": [
    "data_PST= pst_df.replace(\"00h\", int(0)).replace(\"06h\", int(6)).replace(\"12h\", int(12)).replace(\"24h\", int(24)).replace(\"48h\", int(48))\n",
    "data_PST = data_PST.iloc[:,1:] #remove Barcodes\n",
    "\n",
    "#normalize pst between 0 and 1\n",
    "data_PST[\"pst\"]=data_PST[\"pst\"]/(data_PST[\"pst\"].max())\n",
    "\n",
    "# rolling average\n",
    "data_PST = data_PST.rolling(window=mb_wind, axis=0).mean().dropna(axis=0)\n",
    "data_PST[\"time\"] = data_PST[\"time\"].astype('int')\n",
    "\n",
    "# rename indices\n",
    "data_PST.index = np.arange(0,len(data_PST.index))\n",
    "print(data_PST.shape)\n",
    "data_PST.head(5)\n",
    "\n",
    "\n"
   ]
  },
  {
   "cell_type": "markdown",
   "metadata": {},
   "source": [
    "## Check on RSS (100 trials)"
   ]
  },
  {
   "cell_type": "code",
   "execution_count": 133,
   "metadata": {},
   "outputs": [
    {
     "name": "stdout",
     "output_type": "stream",
     "text": [
      "(24, 6499) (24, 1625)\n",
      "(6499, 2) (1625, 2)\n"
     ]
    }
   ],
   "source": [
    "# Train and Test\n",
    "training_data = data_LN.sample(frac=0.8, random_state=2407, replace=False, axis=1)\n",
    "testing_data  = data_LN.drop(training_data.columns, axis=1)\n",
    "\n",
    "training_time = data_PST.loc[training_data.columns, :]\n",
    "testing_time  = data_PST.drop(training_data.columns, axis=0)\n",
    "\n",
    "# print(training_data.shape[1]+testing_data.shape[1])\n",
    "print(training_data.shape, testing_data.shape)\n",
    "print(training_time.shape, testing_time.shape)\n"
   ]
  },
  {
   "cell_type": "code",
   "execution_count": 134,
   "metadata": {},
   "outputs": [],
   "source": [
    "# print(training_data.isnull().sum().sum())\n",
    "# print(testing_data.isnull().sum().sum())\n",
    "# print(training_time.isnull().sum().sum())\n",
    "# print(testing_time.isnull().sum().sum())"
   ]
  },
  {
   "cell_type": "code",
   "execution_count": 135,
   "metadata": {},
   "outputs": [],
   "source": [
    "to_save=False\n",
    "if to_save==True:\n",
    "    training_data.to_csv(r'IN_SCODE/PST_MB/train_data.txt', header=None, index=None, sep='\\t', mode='w')\n",
    "    training_time.to_csv(r'IN_SCODE/PST_MB/train_time.txt', header=None, index=None, sep='\\t', mode='w')\n",
    "\n",
    "    testing_data.to_csv(r'IN_SCODE/PST_MB/test_data.txt', header=None, index=None, sep='\\t', mode='w')\n",
    "    testing_time.to_csv(r'IN_SCODE/PST_MB/test_time.txt', header=None, index=None, sep='\\t', mode='w')"
   ]
  },
  {
   "cell_type": "markdown",
   "metadata": {},
   "source": [
    "# Matrices computation"
   ]
  },
  {
   "cell_type": "code",
   "execution_count": 136,
   "metadata": {
    "scrolled": true
   },
   "outputs": [],
   "source": [
    "# # path1 =  path+\"1_NetworkInference/\"\n",
    "\n",
    "# # Train part with more executions\n",
    "# genes = 24\n",
    "# D = [2,3,4,6,8]\n",
    "# cells_train = 6499\n",
    "# cells_test = 1625\n",
    "# iters = 100\n",
    "# data_GE  = training_data\n",
    "# data_PST = training_time\n",
    "# Nexp=100\n",
    "\n",
    "# for jj in range(len(D)):\n",
    "#     print(\"D: \", D[jj])\n",
    "#     for ii in range(Nexp):\n",
    "#         print(\"Exp \", ii)\n",
    "#         out=\"OUT_SCODE_PsiNorm/PST_MB/out_z\"+str(D[jj])+\"/exp_\"+str(ii)\n",
    "# #         if not os.path.isdir(out):\n",
    "# #             os.makedirs(out)\n",
    "        \n",
    "#         # Train\n",
    "#         ! Rscript ~/Downloads/SCODE-master/SCODE.R /Users/cleliacorridori/Dropbox_2021\\ Dropbox/Jorah\\ Mormont/Code/Work/1_NetworkInference/IN_SCODE/PST_MB/train_data.txt /Users/cleliacorridori/Dropbox_2021\\ Dropbox/Jorah\\ Mormont/Code/Work/1_NetworkInference/IN_SCODE/PST_MB/train_time.txt {out} {genes} {D[jj]} {cells_train} {iters}\n",
    "#         # Test\n",
    "#         out_file = \"OUT_SCODE_PsiNorm/PST_MB/out_z\"+str(D[jj])+\"/exp_\"+str(ii)+\"/RSS_test.txt\"\n",
    "#         ! Rscript ~/Downloads/SCODE-master/RSS.R /Users/cleliacorridori/Dropbox_2021\\ Dropbox/Jorah\\ Mormont/Code/Work/1_NetworkInference/IN_SCODE/PST_MB/test_data.txt /Users/cleliacorridori/Dropbox_2021\\ Dropbox/Jorah\\ Mormont/Code/Work/1_NetworkInference/IN_SCODE/PST_MB/test_time.txt {out} {out_file} {genes} {D[jj]} {cells_test}\n",
    "        \n"
   ]
  },
  {
   "cell_type": "markdown",
   "metadata": {},
   "source": [
    "# From Here to not recompute ALL"
   ]
  },
  {
   "cell_type": "code",
   "execution_count": 137,
   "metadata": {},
   "outputs": [
    {
     "name": "stdout",
     "output_type": "stream",
     "text": [
      "D:  2\n",
      "D:  4\n",
      "D:  6\n",
      "D:  8\n"
     ]
    }
   ],
   "source": [
    "# Compute D quantile\n",
    "genes = 24\n",
    "D = [2,4,6,8]\n",
    "cells_train = 6499\n",
    "cells_test = 1625\n",
    "iters = 100\n",
    "data_GE  = training_data\n",
    "data_PST = training_time\n",
    "Nexp=100\n",
    "\n",
    "RSS_vect = np.zeros((len(D), Nexp))\n",
    "RSS_quantile = np.zeros((3,len(D)))\n",
    "\n",
    "# TP_vect = np.zeros((len(D),Nexp))\n",
    "# TP_max = np.zeros(len(D))\n",
    "# A_tot = np.zeros((genes, genes, len(D)))\n",
    "# A_mean = np.zeros((genes, genes, len(D)))\n",
    "A_sample = np.zeros((genes, genes, len(D), Nexp))\n",
    "for jj in range(len(D)):\n",
    "    print(\"D: \", D[jj])\n",
    "    for ii in range(Nexp):\n",
    "        out=       \"OUT_SCODE_PsiNorm copia/PST_MB/out_z\"+str(D[jj])+\"/exp_\"+str(ii)\n",
    "        out_file = \"OUT_SCODE_PsiNorm copia/PST_MB/out_z\"+str(D[jj])+\"/exp_\"+str(ii)+\"/RSS_test.txt\"\n",
    "        RSS_vect[jj,ii] = np.array(pd.read_csv(out_file, sep=\"\\t\", header=None))\n",
    "#         print(D[jj], ii, RSS_vect[jj,ii])\n",
    "        A_sample[:,:,jj,ii] = pd.read_csv(out+\"/A.txt\", sep=\"\\t\", header=None)\n",
    "#         A_tot[:,:,jj] += locals()[\"A\"+str(ii)]\n",
    "#     A_mean = A_tot[:,:,jj]/Nexp\n",
    "        \n",
    "    RSS_quantile[:,jj] = np.array([np.quantile(RSS_vect[jj,:], 0.25), np.quantile(RSS_vect[jj,:], 0.5), np.quantile(RSS_vect[jj,:], 0.75)])\n",
    "#     TP_max[jj] = TP_vect[jj,:].max()\n",
    "\n"
   ]
  },
  {
   "cell_type": "code",
   "execution_count": 138,
   "metadata": {},
   "outputs": [
    {
     "data": {
      "image/png": "[encoded data removed]",
      "text/plain": [
       "<Figure size 504x360 with 1 Axes>"
      ]
     },
     "metadata": {
      "needs_background": "light"
     },
     "output_type": "display_data"
    }
   ],
   "source": [
    "plt.figure(figsize=(7,5))\n",
    "for ii in range(RSS_quantile.shape[0]):\n",
    "    plt.plot(D, RSS_quantile[ii,:], label=\"quantile\"+str(ii+1))\n",
    "    plt.legend(fontsize=14)\n",
    "    plt.ylabel(\"RSS for test data\", fontsize=16)\n",
    "    plt.xlabel(\"D\", fontsize=14)    "
   ]
  },
  {
   "cell_type": "code",
   "execution_count": 139,
   "metadata": {},
   "outputs": [],
   "source": [
    "# Per OGNI D: Devo riordinare in ordine crescente di RSS e poi prendere i 50 RSS più piccoli\n",
    "A_sel = np.zeros((genes, genes, len(D), 50))\n",
    "A_lin = np.zeros((genes*genes, len(D), 50))\n",
    "\n",
    "for jj in range(len(D)):\n",
    "    idx = np.argsort(RSS_vect[jj,:])[:50]  \n",
    "    for ii in range(len(idx)):\n",
    "        A_sel[:,:,jj,ii] = A_sample[:,:,jj,idx[ii]]\n",
    "        A_lin[:,jj,ii] = A_sample[:,:,jj,idx[ii]].flatten()\n",
    "        \n",
    "    \n"
   ]
  },
  {
   "cell_type": "code",
   "execution_count": 140,
   "metadata": {},
   "outputs": [
    {
     "data": {
      "text/plain": [
       "(576, 4, 50)"
      ]
     },
     "execution_count": 140,
     "metadata": {},
     "output_type": "execute_result"
    }
   ],
   "source": [
    "A_lin.shape"
   ]
  },
  {
   "cell_type": "code",
   "execution_count": 141,
   "metadata": {},
   "outputs": [],
   "source": [
    "A_quantile = np.zeros((3,len(D)))\n",
    "for jj in range(len(D)):\n",
    "    A_exp_corr = np.corrcoef(A_lin[:,jj,:].T)\n",
    "#     print(np.quantile(A_exp_corr, 0.25))\n",
    "    A_quantile[:,jj] = np.array([np.quantile(A_exp_corr, 0.25), np.quantile(A_exp_corr, 0.5), np.quantile(A_exp_corr, 0.75)])\n"
   ]
  },
  {
   "cell_type": "code",
   "execution_count": 142,
   "metadata": {},
   "outputs": [
    {
     "data": {
      "image/png": "[encoded data removed]",
      "text/plain": [
       "<Figure size 504x360 with 1 Axes>"
      ]
     },
     "metadata": {
      "needs_background": "light"
     },
     "output_type": "display_data"
    }
   ],
   "source": [
    "plt.figure(figsize=(7,5))\n",
    "for ii in range(A_quantile.shape[0]):\n",
    "    plt.plot(D, A_quantile[ii,:], label=\"quantile \"+str(ii+1))\n",
    "    plt.legend(fontsize=14)\n",
    "    plt.ylabel(\"Correlation of A matrices\", fontsize=16)\n",
    "    plt.xlabel(\"D\", fontsize=14) "
   ]
  },
  {
   "cell_type": "markdown",
   "metadata": {},
   "source": [
    "# Inferred Matrix with D=4"
   ]
  },
  {
   "cell_type": "markdown",
   "metadata": {},
   "source": [
    "## Thr=0.01"
   ]
  },
  {
   "cell_type": "code",
   "execution_count": 143,
   "metadata": {},
   "outputs": [
    {
     "name": "stdout",
     "output_type": "stream",
     "text": [
      "thr= 0.01\n",
      "D= 4\n"
     ]
    },
    {
     "data": {
      "image/png": "[encoded data removed]",
      "text/plain": [
       "<Figure size 1008x360 with 3 Axes>"
      ]
     },
     "metadata": {
      "needs_background": "light"
     },
     "output_type": "display_data"
    },
    {
     "data": {
      "image/png": "[encoded data removed]",
      "text/plain": [
       "<Figure size 1008x360 with 3 Axes>"
      ]
     },
     "metadata": {
      "needs_background": "light"
     },
     "output_type": "display_data"
    },
    {
     "name": "stdout",
     "output_type": "stream",
     "text": [
      "TP fraction  0.16666666666666666\n",
      "Not Normalized TRUE interactions [ 0.   -0.   -0.    0.    0.   -0.    0.    0.    0.   -0.   -0.36 -0.13\n",
      "  0.   -0.   -1.03 -0.    0.    0.  ]\n",
      "Normalized TRUE interactions [ 0.   -0.   -0.    0.    0.   -0.    0.    0.    0.   -0.   -0.04 -0.01\n",
      "  0.   -0.   -0.11 -0.    0.    0.  ]\n",
      "Not Normalized interactions [ 0.06 -0.04 -0.01  0.34  0.04 -0.04  0.02  0.04  0.08 -0.01 -0.36 -0.13\n",
      "  0.04 -0.02 -1.03 -0.07  0.04  0.05]\n",
      "Normalized interactions [ 0.01 -0.   -0.    0.04  0.   -0.    0.    0.    0.01 -0.   -0.04 -0.01\n",
      "  0.   -0.   -0.11 -0.01  0.    0.01]\n",
      "\n",
      "\n",
      "2nd set of interactions, TPfrac:\n",
      "0.22\n"
     ]
    }
   ],
   "source": [
    "sel_thr = 0.01\n",
    "print(\"thr=\", sel_thr)\n",
    "\n",
    "DD = 1\n",
    "print(\"D=\", D[DD])\n",
    "A_tot = np.sum(A_sel[:,:,DD,:100], axis=2 )/100\n",
    "        \n",
    "bins = np.linspace(A_tot.min(), A_tot.max(), 30)\n",
    "fig, ax = plt.subplots(nrows=1, ncols=2, figsize=(14, 5))\n",
    "figfunc.plotmat(A_tot, fig, ax[0], genes_order, data_type+\" SCODE not rescaled\")\n",
    "sns.histplot(np.ndarray.flatten(A_tot), ax=ax[1], stat=\"density\", bins=bins)\n",
    "plt.show()\n",
    "\n",
    "TP_fraction, TP_info, interaction_matrix = TP_plot(TPtrial_list, A_tot, genes_order, inferred_int_thr=sel_thr, \n",
    "                                                   Norm_Matx = False, data_type=\"scRNA-seq PST MB, SCODE\",\n",
    "                                                   figplot=True, nbin=30, \n",
    "                                                    verbose=False, Norm=True)\n",
    "                                        \n",
    "                                                   \n",
    "                                                    \n",
    "print(\"TP fraction \", TP_fraction)\n",
    "result = TP_info[2,:]*TP_info[3,:]\n",
    "non_zero_values = result[np.nonzero(result)]\n",
    "# print(np.nanmin(np.abs(non_zero_values)))\n",
    "\n",
    "print(\"Not Normalized TRUE interactions\", np.round(TP_info[2,:]*TP_info[3,:],2))\n",
    "print(\"Normalized TRUE interactions\", np.round(TP_info[2,:]*TP_info[3,:]/np.max(np.abs(A_tot)), 2))\n",
    "\n",
    "print(\"Not Normalized interactions\", np.round(TP_info[2,:],2))\n",
    "print(\"Normalized interactions\", np.round(TP_info[2,:]/np.max(np.abs(A_tot)), 2))\n",
    "\n",
    "TP_fraction2, TP_info2, _ = TP_plot(Interactions_list, A_tot, genes_order, \n",
    "                                   inferred_int_thr = sel_thr, Norm_Matx = False,\n",
    "                                   data_type=\" Best model for BULK data\",\n",
    "                                   figplot=False, verbose=False, nbin=30, Norm = True)\n",
    "print(\"\\n\\n2nd set of interactions, TPfrac:\")\n",
    "print(f\"{TP_fraction2:.2f}\")\n"
   ]
  },
  {
   "cell_type": "markdown",
   "metadata": {},
   "source": [
    "### Fraction of discarded"
   ]
  },
  {
   "cell_type": "code",
   "execution_count": 144,
   "metadata": {},
   "outputs": [
    {
     "name": "stdout",
     "output_type": "stream",
     "text": [
      "0.43923611111111116\n",
      "0\n"
     ]
    }
   ],
   "source": [
    "high_meanMatx_thr = na.to_thr_matrix(A_tot, thr=sel_thr)\n",
    "print(1-(len(np.where(high_meanMatx_thr==0)[0]))/(24**2))\n",
    "print(len(np.where(A_tot==0)[0]))"
   ]
  },
  {
   "cell_type": "code",
   "execution_count": 145,
   "metadata": {},
   "outputs": [
    {
     "data": {
      "text/plain": [
       "array([[ 1.42866019e+00, -1.84942786e+00,  7.04088308e-02,\n",
       "        -2.60867207e-01, -3.10643709e-01,  6.46641282e-02,\n",
       "        -2.85900566e-02,  3.03834961e-01,  5.33278849e-02,\n",
       "        -1.55117142e-02, -6.64050000e-01,  3.27762394e-01,\n",
       "        -3.46919969e-03,  3.94404879e-01,  2.81950649e-01,\n",
       "         2.48081634e-02,  1.48011433e-02,  2.32392058e-01,\n",
       "         6.24632541e-02,  2.05406912e-01,  7.72875793e-02,\n",
       "        -9.39553466e-02, -2.53445991e-01, -1.05569876e-01],\n",
       "       [ 9.17076358e+00, -8.39835830e+00,  6.94088198e-01,\n",
       "        -9.63157809e-01, -1.15266303e+00,  4.78782012e-01,\n",
       "         1.51191301e+00,  1.96402715e+00,  3.68927587e-01,\n",
       "        -3.48124178e-01, -3.81637813e+00,  7.14159409e-01,\n",
       "         1.41400477e-02,  1.74892543e+00,  1.19529379e+00,\n",
       "        -2.30618346e-02,  1.75262079e-02,  5.49122763e-01,\n",
       "         2.30165547e-01,  1.00443845e+00,  4.14102780e-01,\n",
       "        -1.58410790e-01, -1.11001917e+00, -3.61357058e-01],\n",
       "       [-1.98224454e-01,  2.46968792e-01, -2.33681207e-02,\n",
       "         8.87763229e-03,  4.11966354e-03, -4.64933453e-03,\n",
       "        -4.14958238e-02, -5.00149324e-02, -2.45444773e-02,\n",
       "         2.54438836e-02,  3.85478215e-02, -5.00753802e-02,\n",
       "        -3.05954683e-02, -6.83676538e-02, -6.17481004e-03,\n",
       "         5.02505381e-03,  6.94713897e-03,  6.49977892e-02,\n",
       "         6.78832569e-03, -1.70913767e-02, -1.75380923e-02,\n",
       "        -2.74718238e-02,  3.61726167e-03, -5.40678103e-03],\n",
       "       [ 2.40591465e-01, -7.44895349e-02,  1.27470520e-02,\n",
       "        -2.42287514e-02, -3.50553404e-02,  1.96578329e-02,\n",
       "         6.22800277e-02,  3.06489464e-02, -9.96241527e-03,\n",
       "         1.14337703e-03, -1.50900412e-01, -6.95187945e-02,\n",
       "        -3.45121654e-02, -1.28564047e-02,  3.63533024e-02,\n",
       "        -1.68795067e-03,  6.43720549e-03,  7.30254483e-02,\n",
       "         1.42445948e-02,  1.91590335e-02, -1.00429252e-03,\n",
       "        -3.36081984e-02, -4.20176539e-02, -1.94198878e-02],\n",
       "       [ 2.14360827e-02,  1.48649839e-01, -2.82186497e-03,\n",
       "         4.63656810e-03, -6.44723458e-04,  8.20529808e-03,\n",
       "         3.21549845e-02, -3.00714035e-02, -1.92916317e-02,\n",
       "         7.88814044e-04, -7.15299662e-02, -1.17402945e-01,\n",
       "        -3.49414268e-02, -6.74513219e-02, -1.58348994e-03,\n",
       "        -5.43724774e-03,  4.33956356e-03,  4.03979723e-02,\n",
       "         5.21512668e-03, -1.49539808e-02, -1.18897951e-02,\n",
       "        -3.02022941e-02, -1.26098900e-02, -1.01226397e-02],\n",
       "       [ 4.82407050e-01, -4.85289371e-01,  3.30699732e-02,\n",
       "        -6.13841065e-02, -7.39561702e-02,  2.48927755e-02,\n",
       "         5.78210299e-02,  1.09032147e-01,  1.85456018e-02,\n",
       "        -1.09395934e-02, -2.03208527e-01,  6.45622850e-02,\n",
       "        -1.16510179e-03,  1.04598706e-01,  7.47906997e-02,\n",
       "         2.88734247e-03,  2.87525782e-03,  5.17114693e-02,\n",
       "         1.61101168e-02,  6.08198751e-02,  2.26194390e-02,\n",
       "        -1.45603955e-02, -6.63816568e-02, -2.34022327e-02],\n",
       "       [ 2.10114179e+00, -1.80542880e+00,  1.26324821e-01,\n",
       "        -2.76148727e-01, -3.54435255e-01,  1.27057295e-01,\n",
       "         2.67949827e-01,  4.25244773e-01,  3.15853311e-02,\n",
       "        -1.77338393e-02, -1.03497359e+00,  8.99536550e-02,\n",
       "        -9.40694652e-02,  3.24531318e-01,  3.53701094e-01,\n",
       "         1.36255356e-02,  2.92322256e-02,  3.94788735e-01,\n",
       "         9.43887009e-02,  2.50988125e-01,  6.92742519e-02,\n",
       "        -1.47230702e-01, -3.34250839e-01, -1.33724350e-01],\n",
       "       [-2.11778582e+00,  2.46886561e+00, -1.94861036e-01,\n",
       "         1.78620718e-01,  1.65777912e-01, -6.97083608e-02,\n",
       "        -3.17802537e-01, -4.16177165e-01, -1.74937012e-01,\n",
       "         2.11323885e-01,  7.04733016e-01, -2.95212135e-01,\n",
       "        -1.75742454e-01, -5.66900767e-01, -1.52138748e-01,\n",
       "         4.16005960e-02,  4.18511784e-02,  3.58523200e-01,\n",
       "         2.16011472e-02, -1.76669807e-01, -1.47474471e-01,\n",
       "        -1.08062084e-01,  1.57639170e-01,  2.62329654e-02],\n",
       "       [-1.25672945e+00,  1.31836160e+00, -1.01279500e-01,\n",
       "         1.31155746e-01,  1.47758105e-01, -5.62905171e-02,\n",
       "        -1.81481933e-01, -2.78392455e-01, -7.28488457e-02,\n",
       "         6.74736672e-02,  4.73113488e-01, -1.75140998e-01,\n",
       "        -4.30154945e-02, -2.98781944e-01, -1.49876233e-01,\n",
       "         5.59429969e-03,  6.09731226e-03,  1.11054323e-02,\n",
       "        -1.88849024e-02, -1.37668515e-01, -7.04123564e-02,\n",
       "        -1.09679341e-02,  1.35422166e-01,  3.83418311e-02],\n",
       "       [ 1.42295794e-02,  1.03184246e-01, -2.99412946e-03,\n",
       "        -8.11284753e-03, -2.27336550e-02,  1.06513427e-02,\n",
       "         1.90063106e-02,  3.92130954e-02, -1.42109020e-02,\n",
       "         3.62564044e-02, -1.68287165e-02,  1.71415534e-02,\n",
       "        -3.15982813e-02, -1.42564016e-02,  3.54899787e-02,\n",
       "         1.23168308e-02,  1.06907447e-02,  1.16352955e-01,\n",
       "         1.85480244e-02,  2.53523677e-02, -8.99691924e-03,\n",
       "        -1.98467332e-02, -1.90210653e-02, -7.79262656e-03],\n",
       "       [-4.47829377e+00,  5.16558362e+00, -3.54302324e-01,\n",
       "         5.06424117e-01,  5.47740904e-01, -1.78225082e-01,\n",
       "        -5.11569606e-01, -9.63716972e-01, -2.89529235e-01,\n",
       "         2.74419979e-01,  1.65069012e+00, -7.57416382e-01,\n",
       "        -2.14698989e-01, -1.17698050e+00, -5.27004665e-01,\n",
       "         2.20945968e-02,  3.38868494e-02,  1.61732208e-01,\n",
       "        -5.05120732e-02, -4.89972503e-01, -2.76995432e-01,\n",
       "        -5.77757710e-02,  4.82586474e-01,  1.39634049e-01],\n",
       "       [-7.75437491e+00,  8.26357155e+00, -6.17940254e-01,\n",
       "         8.12935964e-01,  8.96659418e-01, -3.34478031e-01,\n",
       "        -1.06586308e+00, -1.59590974e+00, -4.50111778e-01,\n",
       "         4.78738751e-01,  2.99736934e+00, -9.33359963e-01,\n",
       "        -2.79226222e-01, -1.80674529e+00, -8.72838394e-01,\n",
       "         6.01732223e-02,  5.02820852e-02,  2.12645039e-01,\n",
       "        -9.26640627e-02, -7.89602005e-01, -4.39213182e-01,\n",
       "        -4.96939199e-02,  8.33013168e-01,  2.46315626e-01],\n",
       "       [-2.23479313e+00,  2.33608463e+00, -1.75083567e-01,\n",
       "         2.43752112e-01,  2.78800225e-01, -1.02702190e-01,\n",
       "        -3.09829785e-01, -4.99445908e-01, -1.22240170e-01,\n",
       "         1.06356237e-01,  8.57316352e-01, -3.16954181e-01,\n",
       "        -6.25482464e-02, -5.26790740e-01, -2.82746654e-01,\n",
       "         4.95955783e-03,  6.32971595e-03, -2.91950801e-02,\n",
       "        -4.14213225e-02, -2.53242680e-01, -1.21983628e-01,\n",
       "        -4.22164869e-03,  2.53433534e-01,  7.55525077e-02],\n",
       "       [-4.38290032e+00,  4.50646508e+00, -3.48549084e-01,\n",
       "         4.54101558e-01,  5.11090766e-01, -1.98611984e-01,\n",
       "        -6.43437889e-01, -9.23985478e-01, -2.39832517e-01,\n",
       "         2.45109695e-01,  1.70622908e+00, -5.00737329e-01,\n",
       "        -1.27927435e-01, -9.85298555e-01, -5.10099025e-01,\n",
       "         2.78282344e-02,  2.04857173e-02,  3.70820296e-02,\n",
       "        -6.49451793e-02, -4.57698258e-01, -2.37585036e-01,\n",
       "        -1.38486290e-02,  4.78795608e-01,  1.42116578e-01],\n",
       "       [-2.01994080e-01,  1.76459124e-01, -2.04406866e-02,\n",
       "         3.56425806e-03, -3.40766369e-03, -5.84934751e-03,\n",
       "        -5.07158073e-02, -1.65905194e-03, -1.39412947e-02,\n",
       "         4.12674518e-02,  9.26523169e-02,  5.68379213e-02,\n",
       "        -1.50074937e-02, -1.77174217e-02,  1.09289669e-02,\n",
       "         1.50821393e-02,  8.03840936e-03,  8.28046742e-02,\n",
       "         1.07396061e-02,  8.18185911e-03, -1.14920231e-02,\n",
       "        -8.29037099e-03,  7.00503627e-03,  1.04490880e-03],\n",
       "       [-3.73753453e-01,  4.23407025e-01, -3.06202793e-02,\n",
       "         3.71717660e-02,  3.74638709e-02, -1.36742030e-02,\n",
       "        -4.75783782e-02, -6.48043614e-02, -2.48007014e-02,\n",
       "         3.33449311e-02,  1.44924137e-01, -3.45367088e-02,\n",
       "        -2.05393001e-02, -8.83328831e-02, -3.25115149e-02,\n",
       "         6.62979966e-03,  5.19108672e-03,  4.05857780e-02,\n",
       "         3.84152207e-04, -3.04816241e-02, -2.32400964e-02,\n",
       "        -6.20017696e-03,  3.59637166e-02,  1.04278926e-02],\n",
       "       [ 2.68431783e-01, -2.68676990e-01,  2.03571996e-02,\n",
       "        -3.10378889e-02, -3.75465905e-02,  1.37239148e-02,\n",
       "         3.81542825e-02,  6.72767786e-02,  1.28567112e-02,\n",
       "        -6.46597980e-03, -1.02852561e-01,  4.56210871e-02,\n",
       "         3.34871156e-03,  6.32864268e-02,  4.01241484e-02,\n",
       "         1.77762268e-03,  9.37424179e-04,  2.21996813e-02,\n",
       "         7.98407311e-03,  3.52191567e-02,  1.35131700e-02,\n",
       "        -2.02290360e-03, -3.32953609e-02, -1.01507354e-02],\n",
       "       [ 2.43283436e+00, -2.42442031e+00,  1.81724101e-01,\n",
       "        -2.89632884e-01, -3.54759264e-01,  1.27469227e-01,\n",
       "         3.40625796e-01,  6.30606835e-01,  1.12087542e-01,\n",
       "        -4.02430235e-02, -9.30269267e-01,  4.44190246e-01,\n",
       "         2.01291806e-02,  5.79500603e-01,  3.83014946e-01,\n",
       "         2.35766922e-02,  1.33075795e-02,  2.54672437e-01,\n",
       "         8.11450602e-02,  3.34493826e-01,  1.20267515e-01,\n",
       "        -2.59978381e-02, -3.11198252e-01, -9.59043649e-02],\n",
       "       [ 3.17803686e-01, -3.19578647e-01,  2.29516829e-02,\n",
       "        -4.01764279e-02, -5.00723769e-02,  1.71369411e-02,\n",
       "         4.10440299e-02,  8.59987193e-02,  1.38872221e-02,\n",
       "        -1.83344943e-03, -1.22166242e-01,  6.53256284e-02,\n",
       "         8.56150450e-04,  7.78702206e-02,  5.42666356e-02,\n",
       "         4.60370346e-03,  2.66081811e-03,  4.36995007e-02,\n",
       "         1.23249806e-02,  4.66754092e-02,  1.54320665e-02,\n",
       "        -5.31983160e-03, -4.30375121e-02, -1.36432831e-02],\n",
       "       [-9.78546588e-01,  1.08572638e+00, -8.64062429e-02,\n",
       "         8.47439092e-02,  8.10666939e-02, -3.49602179e-02,\n",
       "        -1.51821990e-01, -1.79733647e-01, -7.12448984e-02,\n",
       "         9.28784648e-02,  3.51441818e-01, -9.57328045e-02,\n",
       "        -6.46332318e-02, -2.35590369e-01, -7.34755898e-02,\n",
       "         1.95989852e-02,  1.64446350e-02,  1.37264228e-01,\n",
       "         5.90643609e-03, -7.83918821e-02, -6.29101863e-02,\n",
       "        -3.40785779e-02,  8.04431241e-02,  1.80595324e-02],\n",
       "       [-7.41410926e-01,  7.41771546e-01, -5.86062436e-02,\n",
       "         7.73316517e-02,  8.88045849e-02, -3.51212209e-02,\n",
       "        -1.13718028e-01, -1.62960512e-01, -3.84048416e-02,\n",
       "         3.54587456e-02,  2.87981880e-01, -8.77106802e-02,\n",
       "        -1.69561646e-02, -1.64039962e-01, -9.11557675e-02,\n",
       "         2.73342500e-03,  1.82628970e-03, -1.13710048e-02,\n",
       "        -1.37854161e-02, -8.15384212e-02, -3.87355167e-02,\n",
       "        -1.55829810e-04,  8.29689955e-02,  2.46741046e-02],\n",
       "       [-1.96682517e+00,  2.21812927e+00, -1.63784433e-01,\n",
       "         2.04962477e-01,  2.20946517e-01, -7.90614741e-02,\n",
       "        -2.61250005e-01, -4.40661038e-01, -1.33942272e-01,\n",
       "         1.24682668e-01,  6.94878309e-01, -3.39421064e-01,\n",
       "        -1.04680387e-01, -5.19586063e-01, -2.20166936e-01,\n",
       "         1.15876299e-02,  1.75118589e-02,  9.91061033e-02,\n",
       "        -1.75671775e-02, -2.14430946e-01, -1.22766392e-01,\n",
       "        -4.63796624e-02,  1.96339317e-01,  5.00262497e-02],\n",
       "       [-7.79216868e-01,  9.60682874e-01, -6.34717406e-02,\n",
       "         9.16302296e-02,  9.87740977e-02, -2.91406305e-02,\n",
       "        -7.83139707e-02, -1.89620758e-01, -5.81415806e-02,\n",
       "         4.37073840e-02,  2.59053967e-01, -1.90626341e-01,\n",
       "        -4.98800931e-02, -2.36468040e-01, -9.81890502e-02,\n",
       "        -3.25163666e-04,  6.55394308e-03,  3.16168180e-02,\n",
       "        -8.91644368e-03, -9.65036577e-02, -5.29450561e-02,\n",
       "        -2.20363996e-02,  8.12850751e-02,  2.06067882e-02],\n",
       "       [-6.58622878e-01,  7.95479481e-01, -5.63592953e-02,\n",
       "         6.94493925e-02,  7.22265451e-02, -2.37338592e-02,\n",
       "        -7.84813185e-02, -1.51537286e-01, -5.12870090e-02,\n",
       "         4.64030509e-02,  2.17313015e-01, -1.39776620e-01,\n",
       "        -4.68545707e-02, -1.92744194e-01, -7.10011184e-02,\n",
       "         4.03795326e-03,  8.09218825e-03,  5.55139314e-02,\n",
       "        -2.70299661e-03, -7.30356187e-02, -4.52001610e-02,\n",
       "        -2.46847841e-02,  6.15326242e-02,  1.37966295e-02]])"
      ]
     },
     "execution_count": 145,
     "metadata": {},
     "output_type": "execute_result"
    }
   ],
   "source": [
    "A_tot"
   ]
  },
  {
   "cell_type": "markdown",
   "metadata": {},
   "source": [
    "# Simulation"
   ]
  },
  {
   "cell_type": "code",
   "execution_count": 146,
   "metadata": {},
   "outputs": [],
   "source": [
    "# np.savetxt(\"A_sel_PsiNorm_MB.txt\",A_tot)"
   ]
  },
  {
   "cell_type": "code",
   "execution_count": 147,
   "metadata": {},
   "outputs": [],
   "source": [
    "def binnarization(df, thr=0.5, genes_order=[]):\n",
    "    # Calculate the maximum value for each row of the DataFrame\n",
    "    df_max = df.max(axis=1)\n",
    "\n",
    "    # Create a copy of the DataFrame to store the binarized values\n",
    "    spins_df = df.copy()\n",
    "\n",
    "    # Loop through each row of the DataFrame: genes_order contains the genes of the dataframe\n",
    "    for ii in range(len(genes_order)):\n",
    "        # Binarize the values in the row\n",
    "        spins_df.iloc[ii,:] = (df.iloc[ii,:].astype(float) > (df_max[ii] * thr)).astype(float)\n",
    "#     print(ii, np.unique(spins_df), pd.DataFrame.isna(spins_df).sum().sum())\n",
    "        \n",
    "#     Replace all 0 values with -1\n",
    "#     spins_df[spins_df==float(0)] = float(-1.0)\n",
    "    spins_df = spins_df.apply(lambda x: np.where(x == 0, -1, x))\n",
    "    # Return the binarized DataFrame\n",
    "    return spins_df\n",
    "\n",
    "matplotlib.rc('font', **{'family': 'serif', 'serif': ['Computer Modern']})\n",
    "matplotlib.rc('text', usetex=True)"
   ]
  },
  {
   "cell_type": "code",
   "execution_count": 148,
   "metadata": {},
   "outputs": [
    {
     "data": {
      "text/plain": [
       "(24, 501)"
      ]
     },
     "execution_count": 148,
     "metadata": {},
     "output_type": "execute_result"
    }
   ],
   "source": [
    "df_sim = pd.read_table(\"out_simSCODE_PsiNorm_MB.txt\", delimiter=\"\\t\", dtype={\"Value\": float}).set_index(genes_order)\n",
    "df_sim.shape"
   ]
  },
  {
   "cell_type": "code",
   "execution_count": 169,
   "metadata": {},
   "outputs": [
    {
     "data": {
      "text/plain": [
       "<matplotlib.colorbar.Colorbar at 0x7f95f25ccc40>"
      ]
     },
     "execution_count": 169,
     "metadata": {},
     "output_type": "execute_result"
    },
    {
     "data": {
      "image/png": "[encoded data removed]",
      "text/plain": [
       "<Figure size 1440x216 with 2 Axes>"
      ]
     },
     "metadata": {
      "needs_background": "light"
     },
     "output_type": "display_data"
    }
   ],
   "source": [
    "plt.figure(figsize=(20,3))\n",
    "plt.imshow(df_sim)\n",
    "\n",
    "plt.colorbar()"
   ]
  },
  {
   "cell_type": "code",
   "execution_count": 155,
   "metadata": {},
   "outputs": [
    {
     "data": {
      "image/png": "[encoded data removed]",
      "text/plain": [
       "<Figure size 1296x360 with 1 Axes>"
      ]
     },
     "metadata": {
      "needs_background": "light"
     },
     "output_type": "display_data"
    }
   ],
   "source": [
    "plt.figure(figsize=(18,5))\n",
    "plt.errorbar(genes_order, df_sim.mean(axis=1), yerr=df_sim.std(axis=1)/np.sqrt(24),  \n",
    "             alpha=1, \n",
    "             fmt=\"o\", ms = 10,\n",
    "             elinewidth=3,\n",
    "             color=\"steelblue\",\n",
    "             capsize=10,\n",
    "             label= \"simulated Data\")\n",
    "\n",
    "plt.errorbar(genes_order, data_LN.mean(axis=1), yerr=data_LN.std(axis=1)/np.sqrt(24), \n",
    "             alpha=1, \n",
    "             fmt=\"o\", ms = 10,\n",
    "             elinewidth=1,\n",
    "             color=\"indianred\",\n",
    "             capsize=10,\n",
    "             label = \"original data\")\n",
    "plt.legend(loc=\"upper left\", fontsize=16)\n",
    "plt.xticks(fontsize=12)\n",
    "plt.ylabel(\"Average spin\", fontsize=16)\n",
    "plt.xlabel(\"Genes\", fontsize=16)\n",
    "plt.title(\"Average spin value - SCODE\", fontsize=20)\n",
    "plt.grid(True)"
   ]
  },
  {
   "cell_type": "code",
   "execution_count": 149,
   "metadata": {},
   "outputs": [
    {
     "data": {
      "image/png": "[encoded data removed]",
      "text/plain": [
       "<Figure size 1008x360 with 3 Axes>"
      ]
     },
     "metadata": {
      "needs_background": "light"
     },
     "output_type": "display_data"
    }
   ],
   "source": [
    "cm_sim_SCODE_PST_MB_pN_Cont = np.corrcoef(df_sim)\n",
    "\n",
    "bins = np.linspace(-1, 1, 30)\n",
    "\n",
    "fig, ax = plt.subplots(nrows=1, ncols=2, figsize=(14, 5))\n",
    "figfunc.plotmat(cm_sim_SCODE_PST_MB_LogNorm_Cont, fig, ax[0], genes_order, \"Simulated data\")\n",
    "sns.histplot(np.ndarray.flatten(cm_sim_SCODE_PST_MB_LogNorm_Cont), bins=bins,  ax=ax[1], stat=\"density\")\n",
    "plt.show()\n",
    "\n",
    "# # plt.imshow(np.corrcoef(spins_new_lN))\n",
    "# print(np.where(spins_sim==float(\"nan\")))\n",
    "\n"
   ]
  },
  {
   "cell_type": "markdown",
   "metadata": {},
   "source": [
    "## Original Pearson matx"
   ]
  },
  {
   "cell_type": "code",
   "execution_count": 150,
   "metadata": {},
   "outputs": [
    {
     "data": {
      "image/png": "[encoded data removed]",
      "text/plain": [
       "<Figure size 1008x360 with 3 Axes>"
      ]
     },
     "metadata": {
      "needs_background": "light"
     },
     "output_type": "display_data"
    }
   ],
   "source": [
    "cm_pst_mb_psiNorm = np.corrcoef(data_LN)\n",
    "\n",
    "bins = np.linspace(-1, 1, 30)\n",
    "\n",
    "fig, ax = plt.subplots(nrows=1, ncols=2, figsize=(14, 5))\n",
    "figfunc.plotmat(cm_pst_mb_psiNorm, fig, ax[0], genes_order, \"Original data\")\n",
    "sns.histplot(np.ndarray.flatten(cm_pst_mb_psiNorm), bins=bins,  ax=ax[1], stat=\"density\")\n",
    "plt.show()"
   ]
  },
  {
   "cell_type": "markdown",
   "metadata": {},
   "source": [
    "### Distance"
   ]
  },
  {
   "cell_type": "code",
   "execution_count": 151,
   "metadata": {},
   "outputs": [],
   "source": [
    "def sum_squared_abs_diff(array1, array2):\n",
    "    diff = (array1.flatten()-array2.flatten())**2\n",
    "    return np.sqrt(np.sum(diff))"
   ]
  },
  {
   "cell_type": "code",
   "execution_count": 152,
   "metadata": {},
   "outputs": [],
   "source": [
    "N_rows = data_LN.shape[0]\n",
    "N_cols = data_LN.shape[1]\n",
    "Ntest=100\n",
    "# Linearize\n",
    "val_rnd = np.reshape(np.array(data_LN), (N_cols*N_rows))\n",
    "\n",
    "# reshuflle for Ntest times\n",
    "df_pN_mb_pst_shuffle = np.zeros((Ntest, N_rows, N_cols))\n",
    "\n",
    "for ii in range(Ntest):\n",
    "    np.random.seed(1234+ii)\n",
    "    # Random reshuffle of the binnarized GE data\n",
    "    np.random.shuffle(val_rnd)\n",
    "    val_rnd_matx = val_rnd.reshape(N_rows,N_cols) ########################\n",
    "    trial_long = pd.DataFrame(val_rnd_matx)\n",
    "\n",
    "    # Save the shuffled DataFrame\n",
    "    df_pN_mb_pst_shuffle[ii,:,:] = trial_long\n",
    "\n",
    "\n",
    "corr_matxs_rnd = np.array([np.corrcoef(df_pN_mb_pst_shuffle[i,:,:]) for i in range(Ntest)])\n"
   ]
  },
  {
   "cell_type": "code",
   "execution_count": 153,
   "metadata": {},
   "outputs": [
    {
     "name": "stdout",
     "output_type": "stream",
     "text": [
      "Scode - Orig 0.83\n"
     ]
    }
   ],
   "source": [
    "noise_dist = [sum_squared_abs_diff(cm_pst_mb_psiNorm, corr_matxs_rnd[i,:,:]) for i in range(Ntest)]\n",
    "\n",
    "noise_dist = np.mean(noise_dist)\n",
    "\n",
    "result_SO = sum_squared_abs_diff(cm_pst_mb_psiNorm, cm_sim_SCODE_PST_MB_pN_Cont)/noise_dist\n",
    "print(f\"Scode - Orig {result_SO:.2f}\")\n"
   ]
  },
  {
   "cell_type": "code",
   "execution_count": 154,
   "metadata": {},
   "outputs": [],
   "source": [
    "np.savetxt('cm_sim_SCODE_MB_PsiNorm.txt', cm_sim_SCODE_PST_MB_pN_Cont)"
   ]
  },
  {
   "cell_type": "code",
   "execution_count": null,
   "metadata": {},
   "outputs": [],
   "source": []
  },
  {
   "cell_type": "code",
   "execution_count": null,
   "metadata": {},
   "outputs": [],
   "source": []
  },
  {
   "cell_type": "code",
   "execution_count": 100,
   "metadata": {},
   "outputs": [],
   "source": [
    "# df_max = np.array(df_sim.max(axis=1))\n",
    "# thr = 0.5\n",
    "\n",
    "# for ii in range(len(genes_order)):\n",
    "#     plt.plot(np.linspace(0, len(df_sim.iloc[ii,:]), len(df_sim.iloc[ii,:])), df_sim.iloc[ii,:])\n",
    "#     plt.axhline(y = df_max[ii]*thr, linestyle = 'dotted', color = \"darkorange\")\n",
    "#     plt.title(genes_order[ii])\n",
    "#     plt.ylim(0, df_max[ii]+0.1*df_max[ii])\n",
    "#     plt.show()\n"
   ]
  },
  {
   "cell_type": "code",
   "execution_count": 101,
   "metadata": {},
   "outputs": [],
   "source": [
    "# thr = 0.5 \n",
    "\n",
    "# spins_df_sim = binnarization(df_sim, thr=thr, genes_order=genes_order)\n",
    "# spins_sim = np.array(spins_df_sim).astype(float)\n"
   ]
  },
  {
   "cell_type": "code",
   "execution_count": 102,
   "metadata": {},
   "outputs": [],
   "source": [
    "# plt.figure(figsize=(7,5))\n",
    "\n",
    "# fun_plotting.raster_plot(spins_sim, ax_names=genes_order)\n",
    "# plt.show()"
   ]
  },
  {
   "cell_type": "code",
   "execution_count": 103,
   "metadata": {},
   "outputs": [],
   "source": [
    "# # df_lN_mb_pst = df_lN_pst.rolling(window=mb_wind, axis=1).mean().dropna(axis=1)\n",
    "# # df_lN_mb_pst = pd.DataFrame(df_lN_mb_pst, index=df_lN_pst.index)\n",
    "# spins_df_lN_mb_pst = binnarization(df_lN_mb_pst, thr=thr, genes_order=genes_order)\n",
    "# # spins_df_lN_pst = binnarization(df_lN_pst, thr=thr, genes_order=genes_order)\n",
    "\n",
    "\n",
    "# plt.figure(figsize=(18,5))\n",
    "# plt.errorbar(genes_order, spins_sim.mean(axis=1), yerr=spins_sim.std(axis=1)/np.sqrt(24),  \n",
    "#              alpha=1, \n",
    "#              fmt=\"o\", ms = 10,\n",
    "#              elinewidth=3,\n",
    "#              color=\"steelblue\",\n",
    "#              capsize=10,\n",
    "#              label= \"simulated Data\")\n",
    "# plt.errorbar(genes_order, spins_df_lN_mb_pst.mean(axis=1), yerr=spins_df_lN_mb_pst.std(axis=1)/np.sqrt(24), \n",
    "#              alpha=1, \n",
    "#              fmt=\"o\", ms = 10,\n",
    "#              elinewidth=1,\n",
    "#              color=\"indianred\",\n",
    "#              capsize=10,\n",
    "#              label = \"original data with MB\")\n",
    "\n",
    "\n",
    "# plt.legend(loc=\"upper left\", fontsize=16,bbox_to_anchor=(1.01, 1))\n",
    "# plt.xticks(fontsize=12)\n",
    "# plt.ylabel(\"Average spin\", fontsize=16)\n",
    "# plt.xlabel(\"Genes\", fontsize=16)\n",
    "# plt.title(\"Average spin values for each genes\", fontsize=20)\n",
    "# plt.grid(True)\n",
    "\n",
    "# np.save(\"avg_spins_lN\", spins_sim)"
   ]
  },
  {
   "cell_type": "code",
   "execution_count": 104,
   "metadata": {},
   "outputs": [],
   "source": [
    "# cm_sim_SCODE_PST_MB_LogNorm = np.corrcoef(spins_sim)\n",
    "\n",
    "# bins = np.linspace(-1, 1, 30)\n",
    "\n",
    "# fig, ax = plt.subplots(nrows=1, ncols=2, figsize=(14, 5))\n",
    "# figfunc.plotmat(cm_sim_SCODE_PST_MB_LogNorm, fig, ax[0], genes_order, \"Simulated data\")\n",
    "# sns.histplot(np.ndarray.flatten(cm_sim_SCODE_PST_MB_LogNorm), bins=bins,  ax=ax[1], stat=\"density\")\n",
    "# plt.show()\n",
    "\n",
    "# # plt.imshow(np.corrcoef(spins_new_lN))\n",
    "# print(np.where(spins_sim==np.float(\"nan\")))\n",
    "\n"
   ]
  },
  {
   "cell_type": "markdown",
   "metadata": {},
   "source": [
    "# KO"
   ]
  },
  {
   "cell_type": "markdown",
   "metadata": {},
   "source": [
    "## Rpbj"
   ]
  },
  {
   "cell_type": "markdown",
   "metadata": {},
   "source": [
    "### For R computation"
   ]
  },
  {
   "cell_type": "code",
   "execution_count": 40,
   "metadata": {},
   "outputs": [
    {
     "ename": "AttributeError",
     "evalue": "'numpy.ndarray' object has no attribute 'drop'",
     "output_type": "error",
     "traceback": [
      "\u001b[0;31m---------------------------------------------------------------------------\u001b[0m",
      "\u001b[0;31mAttributeError\u001b[0m                            Traceback (most recent call last)",
      "\u001b[0;32m/var/folders/2z/hsgwjl3d49109llzgvkyf6jw0000gn/T/ipykernel_45540/2741097645.py\u001b[0m in \u001b[0;36m<module>\u001b[0;34m\u001b[0m\n\u001b[1;32m      8\u001b[0m \u001b[0mKO_genes_order\u001b[0m \u001b[0;34m=\u001b[0m \u001b[0mnp\u001b[0m\u001b[0;34m.\u001b[0m\u001b[0mdelete\u001b[0m\u001b[0;34m(\u001b[0m\u001b[0mgenes_order\u001b[0m\u001b[0;34m,\u001b[0m \u001b[0mKO_gene_idk\u001b[0m\u001b[0;34m,\u001b[0m \u001b[0maxis\u001b[0m\u001b[0;34m=\u001b[0m\u001b[0;36m0\u001b[0m\u001b[0;34m)\u001b[0m\u001b[0;34m\u001b[0m\u001b[0;34m\u001b[0m\u001b[0m\n\u001b[1;32m      9\u001b[0m \u001b[0;34m\u001b[0m\u001b[0m\n\u001b[0;32m---> 10\u001b[0;31m \u001b[0mKO_result\u001b[0m \u001b[0;34m=\u001b[0m \u001b[0mresult\u001b[0m\u001b[0;34m.\u001b[0m\u001b[0mdrop\u001b[0m\u001b[0;34m(\u001b[0m\u001b[0mKO_gene\u001b[0m\u001b[0;34m)\u001b[0m\u001b[0;34m\u001b[0m\u001b[0;34m\u001b[0m\u001b[0m\n\u001b[0m\u001b[1;32m     11\u001b[0m \u001b[0mKO_result\u001b[0m\u001b[0;34m.\u001b[0m\u001b[0mto_csv\u001b[0m\u001b[0;34m(\u001b[0m\u001b[0;34m\"initial_GE_LogNorm_MB_KO.txt\"\u001b[0m\u001b[0;34m,\u001b[0m \u001b[0msep\u001b[0m\u001b[0;34m=\u001b[0m\u001b[0;34m'\\t'\u001b[0m\u001b[0;34m,\u001b[0m \u001b[0mindex\u001b[0m\u001b[0;34m=\u001b[0m\u001b[0;32mFalse\u001b[0m\u001b[0;34m,\u001b[0m \u001b[0mheader\u001b[0m\u001b[0;34m=\u001b[0m\u001b[0;32mFalse\u001b[0m\u001b[0;34m)\u001b[0m\u001b[0;34m\u001b[0m\u001b[0;34m\u001b[0m\u001b[0m\n\u001b[1;32m     12\u001b[0m \u001b[0;34m\u001b[0m\u001b[0m\n",
      "\u001b[0;31mAttributeError\u001b[0m: 'numpy.ndarray' object has no attribute 'drop'"
     ]
    }
   ],
   "source": [
    "KO_gene = \"Rbpj\"\n",
    "KO_gene_idk = np.where(genes_order ==KO_gene)[0][0]\n",
    "\n",
    "# KO_lN_rec_matx = np.delete(lN_rec_matx, KO_gene_idk, axis=0)\n",
    "KO_lN_rec_matx = np.delete(A_tot, KO_gene_idk, axis=0)\n",
    "KO_lN_rec_matx = np.delete(KO_lN_rec_matx, KO_gene_idk, axis=1)\n",
    "\n",
    "KO_genes_order = np.delete(genes_order, KO_gene_idk, axis=0)\n",
    "\n",
    "KO_result = result.drop(KO_gene)\n",
    "KO_result.to_csv(\"initial_GE_LogNorm_MB_KO.txt\", sep='\\t', index=False, header=False)\n",
    "\n",
    "np.savetxt(\"A_KO_LogNorm_MB.txt\",KO_lN_rec_matx)\n"
   ]
  },
  {
   "cell_type": "markdown",
   "metadata": {},
   "source": [
    "### generate KO data"
   ]
  },
  {
   "cell_type": "code",
   "execution_count": null,
   "metadata": {},
   "outputs": [],
   "source": [
    "\n",
    "KO_df_sim = pd.read_table(\"out_simSCODE_LogNorm_MB_KO.txt\", delimiter=\"\\t\", dtype={\"Value\": float}).set_index(KO_genes_order)\n",
    "KO_avg_GE = KO_df_sim.mean(axis=1)\n"
   ]
  },
  {
   "cell_type": "code",
   "execution_count": null,
   "metadata": {},
   "outputs": [],
   "source": [
    "wt_avg_GE = np.delete(np.array(data_LN.mean(axis=1)), KO_gene_idk)\n",
    "plt.plot(wt_avg_GE, 'o')\n",
    "plt.plot(KO_avg_GE, 'o')\n"
   ]
  },
  {
   "cell_type": "code",
   "execution_count": null,
   "metadata": {},
   "outputs": [],
   "source": [
    "## From Martin Leeb work\n",
    "# Dataframe with all the KO data\n",
    "Interactions_list, df = InteractionList(path=\"LogFC_Leeb.csv\", perc=0.05)\n",
    "df = df.set_index(genes_order)\n",
    "\n",
    "# select only the desidered knockout\n",
    "logFC_True_rbpj = np.delete(np.array(df.iloc[:,0]), KO_gene_idk)\n",
    "\n",
    "## Computed\n",
    "logFC_sim_Rbpj =  np.log2((KO_avg_GE)/ (wt_avg_GE))\n",
    "\n"
   ]
  },
  {
   "cell_type": "code",
   "execution_count": null,
   "metadata": {},
   "outputs": [],
   "source": [
    "def count_same_sign_elements(arr1, arr2):\n",
    "    \"\"\"\n",
    "    Count the number of elements that have the same sign in two arrays.\n",
    "    \"\"\"\n",
    "    mask = np.sign(arr1) == np.sign(arr2)\n",
    "    return np.sum(mask)"
   ]
  },
  {
   "cell_type": "markdown",
   "metadata": {},
   "source": [
    "### Comparison"
   ]
  },
  {
   "cell_type": "code",
   "execution_count": null,
   "metadata": {},
   "outputs": [],
   "source": [
    "# Find the indices where x is non-zero\n",
    "nonzero_indices = logFC_True_rbpj != 0\n",
    "print(np.sum(nonzero_indices))\n",
    "# Filter x and y based on the non-zero indices\n",
    "logFC_True_rbpj_filtered = logFC_True_rbpj[nonzero_indices]\n",
    "logFC_sim_Rbpj_filtered = logFC_sim_Rbpj[nonzero_indices]\n",
    "genes_inter_DC = KO_genes_order[nonzero_indices]\n",
    "\n",
    "print(\"same behaviour\", count_same_sign_elements(logFC_True_rbpj_filtered, logFC_sim_Rbpj_filtered)/len(logFC_sim_Rbpj_filtered))\n"
   ]
  },
  {
   "cell_type": "code",
   "execution_count": null,
   "metadata": {},
   "outputs": [],
   "source": [
    "plt.figure(figsize=(12,4))\n",
    "plt.plot(genes_inter_DC, logFC_True_rbpj_filtered, \"o\", label=\"original\")\n",
    "plt.plot(genes_inter_DC, logFC_sim_Rbpj_filtered, \"o\", label=\"simulated\")\n",
    "plt.legend(fontsize=18)\n",
    "plt.axhline(0)\n",
    "plt.grid()\n",
    "plt.show()"
   ]
  },
  {
   "cell_type": "code",
   "execution_count": null,
   "metadata": {},
   "outputs": [],
   "source": [
    "from scipy.stats import spearmanr\n",
    "\n",
    "plt.scatter(logFC_True_rbpj, logFC_sim_Rbpj)\n",
    "print(spearmanr(np.sign(logFC_True_rbpj), np.sign(logFC_sim_Rbpj))[0])\n",
    "print(spearmanr(logFC_True_rbpj, logFC_sim_Rbpj)[0])"
   ]
  },
  {
   "cell_type": "markdown",
   "metadata": {},
   "source": [
    "## Etv5"
   ]
  },
  {
   "cell_type": "markdown",
   "metadata": {},
   "source": [
    "### For R computation"
   ]
  },
  {
   "cell_type": "code",
   "execution_count": null,
   "metadata": {},
   "outputs": [],
   "source": [
    "KO_gene = \"Etv5\"\n",
    "KO_gene_idk = np.where(genes_order ==KO_gene)[0][0]\n",
    "\n",
    "# KO_lN_rec_matx = np.delete(lN_rec_matx, KO_gene_idk, axis=0)\n",
    "KO_lN_rec_matx = np.delete(A_tot, KO_gene_idk, axis=0)\n",
    "KO_lN_rec_matx = np.delete(KO_lN_rec_matx, KO_gene_idk, axis=1)\n",
    "\n",
    "KO_genes_order = np.delete(genes_order, KO_gene_idk, axis=0)\n",
    "\n",
    "KO_result = result.drop(KO_gene)\n",
    "KO_result.to_csv(\"initial_GE_LogNorm_MB_KO.txt\", sep='\\t', index=False, header=False)\n",
    "\n",
    "np.savetxt(\"A_KO_LogNorm_MB.txt\",KO_lN_rec_matx)\n"
   ]
  },
  {
   "cell_type": "markdown",
   "metadata": {},
   "source": [
    "### generate KO data"
   ]
  },
  {
   "cell_type": "code",
   "execution_count": null,
   "metadata": {},
   "outputs": [],
   "source": [
    "KO_df_sim = pd.read_table(\"out_simSCODE_LogNorm_MB_KO.txt\", delimiter=\"\\t\", dtype={\"Value\": float}).set_index(KO_genes_order)\n",
    "KO_avg_GE = KO_df_sim.mean(axis=1)\n"
   ]
  },
  {
   "cell_type": "code",
   "execution_count": null,
   "metadata": {},
   "outputs": [],
   "source": [
    "wt_avg_GE = np.delete(np.array(data_LN.mean(axis=1)), KO_gene_idk)\n",
    "plt.plot(wt_avg_GE, 'o')\n",
    "plt.plot(KO_avg_GE, 'o')\n"
   ]
  },
  {
   "cell_type": "code",
   "execution_count": null,
   "metadata": {},
   "outputs": [],
   "source": [
    "## From Martin Leeb work\n",
    "# Dataframe with all the KO data\n",
    "Interactions_list, df = InteractionList(path=\"LogFC_Leeb.csv\", perc=0.05)\n",
    "df = df.set_index(genes_order)\n",
    "\n",
    "# select only the desidered knockout\n",
    "logFC_True_rbpj = np.delete(np.array(df.iloc[:,1]), KO_gene_idk)\n",
    "\n",
    "## Computed\n",
    "logFC_sim_Rbpj =  np.log2((KO_avg_GE)/ (wt_avg_GE))\n",
    "\n"
   ]
  },
  {
   "cell_type": "markdown",
   "metadata": {},
   "source": [
    "### Comparison"
   ]
  },
  {
   "cell_type": "code",
   "execution_count": null,
   "metadata": {},
   "outputs": [],
   "source": [
    "# Find the indices where x is non-zero\n",
    "nonzero_indices = logFC_True_rbpj != 0\n",
    "print(np.sum(nonzero_indices))\n",
    "# Filter x and y based on the non-zero indices\n",
    "logFC_True_rbpj_filtered = logFC_True_rbpj[nonzero_indices]\n",
    "logFC_sim_Rbpj_filtered = logFC_sim_Rbpj[nonzero_indices]\n",
    "genes_inter_DC = KO_genes_order[nonzero_indices]\n",
    "\n",
    "print(\"same behaviour\", count_same_sign_elements(logFC_True_rbpj_filtered, logFC_sim_Rbpj_filtered)/len(logFC_sim_Rbpj_filtered))\n"
   ]
  },
  {
   "cell_type": "code",
   "execution_count": null,
   "metadata": {},
   "outputs": [],
   "source": [
    "plt.figure(figsize=(12,4))\n",
    "plt.plot(genes_inter_DC, logFC_True_rbpj_filtered, \"o\", label=\"original\")\n",
    "plt.plot(genes_inter_DC, logFC_sim_Rbpj_filtered, \"o\", label=\"simulated\")\n",
    "plt.legend(fontsize=18)\n",
    "plt.axhline(0)\n",
    "plt.grid()\n",
    "plt.show()"
   ]
  },
  {
   "cell_type": "code",
   "execution_count": null,
   "metadata": {
    "scrolled": true
   },
   "outputs": [],
   "source": [
    "from scipy.stats import spearmanr\n",
    "\n",
    "plt.scatter(logFC_True_rbpj, logFC_sim_Rbpj)\n",
    "print(spearmanr(np.sign(logFC_True_rbpj), np.sign(logFC_sim_Rbpj))[0])\n",
    "print(spearmanr(logFC_True_rbpj, logFC_sim_Rbpj)[0])"
   ]
  },
  {
   "cell_type": "markdown",
   "metadata": {},
   "source": [
    "## Tcf7l1"
   ]
  },
  {
   "cell_type": "markdown",
   "metadata": {},
   "source": [
    "### For R computation"
   ]
  },
  {
   "cell_type": "code",
   "execution_count": null,
   "metadata": {},
   "outputs": [],
   "source": [
    "KO_gene = \"Tcf7l1\"\n",
    "KO_gene_idk = np.where(genes_order ==KO_gene)[0][0]\n",
    "\n",
    "# KO_lN_rec_matx = np.delete(lN_rec_matx, KO_gene_idk, axis=0)\n",
    "KO_lN_rec_matx = np.delete(A_tot, KO_gene_idk, axis=0)\n",
    "KO_lN_rec_matx = np.delete(KO_lN_rec_matx, KO_gene_idk, axis=1)\n",
    "\n",
    "KO_genes_order = np.delete(genes_order, KO_gene_idk, axis=0)\n",
    "\n",
    "KO_result = result.drop(KO_gene)\n",
    "KO_result.to_csv(\"initial_GE_LogNorm_MB_KO.txt\", sep='\\t', index=False, header=False)\n",
    "\n",
    "np.savetxt(\"A_KO_LogNorm_MB.txt\",KO_lN_rec_matx)\n"
   ]
  },
  {
   "cell_type": "markdown",
   "metadata": {},
   "source": [
    "### generate KO data"
   ]
  },
  {
   "cell_type": "code",
   "execution_count": null,
   "metadata": {},
   "outputs": [],
   "source": [
    "KO_df_sim = pd.read_table(\"out_simSCODE_LogNorm_MB_KO.txt\", delimiter=\"\\t\", dtype={\"Value\": float}).set_index(KO_genes_order)\n",
    "KO_avg_GE = KO_df_sim.mean(axis=1)\n"
   ]
  },
  {
   "cell_type": "code",
   "execution_count": null,
   "metadata": {},
   "outputs": [],
   "source": [
    "wt_avg_GE = np.delete(np.array(data_LN.mean(axis=1)), KO_gene_idk)\n",
    "plt.plot(wt_avg_GE, 'o')\n",
    "plt.plot(KO_avg_GE, 'o')\n"
   ]
  },
  {
   "cell_type": "code",
   "execution_count": null,
   "metadata": {},
   "outputs": [],
   "source": [
    "## From Martin Leeb work\n",
    "# Dataframe with all the KO data\n",
    "Interactions_list, df = InteractionList(path=\"LogFC_Leeb.csv\", perc=0.05)\n",
    "df = df.set_index(genes_order)\n",
    "\n",
    "# select only the desidered knockout\n",
    "logFC_True_rbpj = np.delete(np.array(df.iloc[:,2]), KO_gene_idk)\n",
    "\n",
    "## Computed\n",
    "logFC_sim_Rbpj =  np.log2((KO_avg_GE)/ (wt_avg_GE))\n",
    "\n"
   ]
  },
  {
   "cell_type": "markdown",
   "metadata": {},
   "source": [
    "### Comparison"
   ]
  },
  {
   "cell_type": "code",
   "execution_count": null,
   "metadata": {},
   "outputs": [],
   "source": [
    "# Find the indices where x is non-zero\n",
    "nonzero_indices = logFC_True_rbpj != 0\n",
    "print(np.sum(nonzero_indices))\n",
    "# Filter x and y based on the non-zero indices\n",
    "logFC_True_rbpj_filtered = logFC_True_rbpj[nonzero_indices]\n",
    "logFC_sim_Rbpj_filtered = logFC_sim_Rbpj[nonzero_indices]\n",
    "genes_inter_DC = KO_genes_order[nonzero_indices]\n",
    "\n",
    "print(\"same behaviour\", count_same_sign_elements(logFC_True_rbpj_filtered, logFC_sim_Rbpj_filtered)/len(logFC_sim_Rbpj_filtered))\n"
   ]
  },
  {
   "cell_type": "code",
   "execution_count": null,
   "metadata": {},
   "outputs": [],
   "source": [
    "plt.figure(figsize=(12,4))\n",
    "plt.plot(genes_inter_DC, logFC_True_rbpj_filtered, \"o\", label=\"original\")\n",
    "plt.plot(genes_inter_DC, logFC_sim_Rbpj_filtered, \"o\", label=\"simulated\")\n",
    "plt.legend(fontsize=18)\n",
    "plt.axhline(0)\n",
    "plt.grid()\n",
    "plt.show()"
   ]
  },
  {
   "cell_type": "code",
   "execution_count": null,
   "metadata": {
    "scrolled": true
   },
   "outputs": [],
   "source": [
    "from scipy.stats import spearmanr\n",
    "\n",
    "plt.scatter(logFC_True_rbpj, logFC_sim_Rbpj)\n",
    "print(spearmanr(np.sign(logFC_True_rbpj), np.sign(logFC_sim_Rbpj))[0])\n",
    "print(spearmanr(logFC_True_rbpj, logFC_sim_Rbpj)[0])"
   ]
  },
  {
   "cell_type": "code",
   "execution_count": null,
   "metadata": {},
   "outputs": [],
   "source": []
  },
  {
   "cell_type": "code",
   "execution_count": null,
   "metadata": {},
   "outputs": [],
   "source": []
  },
  {
   "cell_type": "code",
   "execution_count": null,
   "metadata": {},
   "outputs": [],
   "source": []
  },
  {
   "cell_type": "code",
   "execution_count": null,
   "metadata": {},
   "outputs": [],
   "source": []
  },
  {
   "cell_type": "code",
   "execution_count": null,
   "metadata": {},
   "outputs": [],
   "source": []
  },
  {
   "cell_type": "code",
   "execution_count": null,
   "metadata": {},
   "outputs": [],
   "source": [
    "# threshold = 0.01\n",
    "# # Set the bins\n",
    "# bins = np.linspace(A_tot.min(), A_tot.max(), 10000)\n",
    "\n",
    "# # Plot the histogram\n",
    "# fig, ax = plt.subplots(nrows=1, ncols=1, figsize=(14, 5))\n",
    "# sns.histplot(A_tot.flatten(), ax=ax, stat=\"density\", bins=bins)\n",
    "# plt.axvline(threshold, color='red', linestyle='-')\n",
    "# plt.axvline(threshold, color='red', linestyle='-')\n",
    "# plt.xlim([-threshold, threshold])\n",
    "\n",
    "# # Get the x and y values of the bars\n",
    "# x = np.array([p.get_x() + p.get_width()/2 for p in ax.patches])\n",
    "# y = np.array([p.get_height() for p in ax.patches])\n",
    "\n",
    "# # Compute the widths of the bins\n",
    "# bin_widths = np.diff(bins)\n",
    "\n",
    "# # Compute the area under the curve between -0.1 and 0.1\n",
    "# print(\"check\", np.where((x > -threshold) & (x < threshold)))\n",
    "# area = np.sum(y[(x > -threshold) & (x < threshold)] * bin_widths[(x > -threshold) & (x < threshold)])\n",
    "\n",
    "# print(\"Area not considered\", area)\n"
   ]
  },
  {
   "cell_type": "code",
   "execution_count": null,
   "metadata": {},
   "outputs": [],
   "source": []
  }
 ],
 "metadata": {
  "kernelspec": {
   "display_name": "Python 3 (ipykernel)",
   "language": "python",
   "name": "python3"
  },
  "language_info": {
   "codemirror_mode": {
    "name": "ipython",
    "version": 3
   },
   "file_extension": ".py",
   "mimetype": "text/x-python",
   "name": "python",
   "nbconvert_exporter": "python",
   "pygments_lexer": "ipython3",
   "version": "3.9.7"
  },
  "latex_envs": {
   "LaTeX_envs_menu_present": true,
   "autoclose": true,
   "autocomplete": true,
   "bibliofile": "biblio.bib",
   "cite_by": "apalike",
   "current_citInitial": 1,
   "eqLabelWithNumbers": true,
   "eqNumInitial": 1,
   "hotkeys": {
    "equation": "Ctrl-E",
    "itemize": "Ctrl-I"
   },
   "labels_anchors": false,
   "latex_user_defs": false,
   "report_style_numbering": false,
   "user_envs_cfg": false
  },
  "toc": {
   "base_numbering": 1,
   "nav_menu": {},
   "number_sections": true,
   "sideBar": true,
   "skip_h1_title": false,
   "title_cell": "Table of Contents",
   "title_sidebar": "Contents",
   "toc_cell": false,
   "toc_position": {
    "height": "calc(100% - 180px)",
    "left": "10px",
    "top": "150px",
    "width": "165px"
   },
   "toc_section_display": true,
   "toc_window_display": true
  }
 },
 "nbformat": 4,
 "nbformat_minor": 4
}
